{
 "cells": [
  {
   "cell_type": "markdown",
   "metadata": {
    "slideshow": {
     "slide_type": "slide"
    }
   },
   "source": [
    "# CDSAPI request examples  \n",
    "## Python workshop, EMS2019"
   ]
  },
  {
   "cell_type": "markdown",
   "metadata": {
    "slideshow": {
     "slide_type": "slide"
    }
   },
   "source": [
    "### A few tips before we begin"
   ]
  },
  {
   "cell_type": "markdown",
   "metadata": {
    "slideshow": {
     "slide_type": "fragment"
    }
   },
   "source": [
    "- Use CDS Web download to construct the base of your request and then build on it. \n",
    "- Reanalysis ERA5 data is originally stored in GRIB format and when you download it as netCDF, conversion will fail if there is more than one **Product type** in the request\n",
    "- Data that is originally stored as netCDF will be offered to be downloaded as zip or Compressed tar file. If you are downloading just one file (selected exactly one choice in every category) - change the extension to **.nc** (but leave format as zip)\n",
    "- For people who are used to using MARS archive - for keys that are the same as in MARS request (area, time and date for daily data) you can use mars syntax in some requests"
   ]
  },
  {
   "cell_type": "markdown",
   "metadata": {
    "slideshow": {
     "slide_type": "skip"
    }
   },
   "source": [
    "## Examples list \n",
    "[Example 1 - Seasonal forecast](#example1)  \n",
    "[Example 2 - ERA5 Land Total precipitation data](#example2)  \n",
    "[Example 3 - ERA5 Temperature on pressure levels over Europe](#example3)  \n",
    "[Example 4 - Hourly ERA5 data in netcdf format](#example4)  \n",
    "[Example 5 - Hourly ERA5 Land data in grib format for small area](#example5)  \n",
    "[Example 6 - Satellite observation data](#example6)  \n",
    "[Example 7 - Satellite observation data - one file in request](#example7)  \n",
    "[Example 8 - Climate projections data](#example8)  \n",
    "[Example 9 - ERA5 Monthly data](#example9)  \n",
    "[Example 10 - ERA5 data on model levels from public datasets in MARS](#example10)  \n",
    "[Example 11 - UERRA regional reanalysis for Europe on height levels](#example11)  \n",
    "[Example 12 - ERA5 reanalysis - ensemble data on pressure levels](#example12) "
   ]
  },
  {
   "cell_type": "markdown",
   "metadata": {
    "slideshow": {
     "slide_type": "slide"
    }
   },
   "source": [
    "Before we start, we need to import cds and datetime libraries"
   ]
  },
  {
   "cell_type": "code",
   "execution_count": null,
   "metadata": {
    "slideshow": {
     "slide_type": "fragment"
    }
   },
   "outputs": [],
   "source": [
    "import cdsapi\n",
    "from datetime import date, timedelta\n",
    "import xarray as xr"
   ]
  },
  {
   "cell_type": "code",
   "execution_count": null,
   "metadata": {
    "slideshow": {
     "slide_type": "fragment"
    }
   },
   "outputs": [],
   "source": [
    "c = cdsapi.Client()"
   ]
  },
  {
   "cell_type": "markdown",
   "metadata": {
    "slideshow": {
     "slide_type": "slide"
    }
   },
   "source": [
    "<a id='example1'></a>\n",
    "### Example 1 - Seasonal forecast\n",
    "Get the latest seasonal forecast anomalies on single levels from ECMWF and UK Met Office. We have to use the download form to know which System is available from which model for the period we want the forecast.  "
   ]
  },
  {
   "cell_type": "code",
   "execution_count": null,
   "metadata": {
    "slideshow": {
     "slide_type": "fragment"
    }
   },
   "outputs": [],
   "source": [
    "c.retrieve(\n",
    "    'seasonal-postprocessed-single-levels',\n",
    "    {\n",
    "        'format':'grib',\n",
    "        'originating_centre':[\n",
    "            'ecmwf','ukmo'\n",
    "        ],\n",
    "        'system':[\n",
    "            '5','14'\n",
    "        ],\n",
    "        'variable':'2m_temperature_anomaly',\n",
    "        'product_type':'monthly_mean',\n",
    "        'year':'2019',\n",
    "        'month':'05',\n",
    "        'leadtime_month':[\n",
    "            '1','2'\n",
    "        ]\n",
    "    },\n",
    "    'data/weather/seasonal.grib')"
   ]
  },
  {
   "cell_type": "markdown",
   "metadata": {
    "slideshow": {
     "slide_type": "slide"
    }
   },
   "source": [
    "<a id='example2'></a>\n",
    "### Example 2 - ERA5 Land Total precipitation data\n",
    "Get the daily total precipitation data from ERA5 Land dataset for month of January 2012.  \n",
    "In ERA5 Land dataset total precipitation is archived as acumulations from start of the period, which in this case is from start of the day. So at 23h time it will contain daily precipitations.  \n",
    "ERA5 Land only has high resolution model, so there is no 'product_type' parameter."
   ]
  },
  {
   "cell_type": "code",
   "execution_count": null,
   "metadata": {
    "slideshow": {
     "slide_type": "subslide"
    }
   },
   "outputs": [],
   "source": [
    "c.retrieve(\n",
    "    'reanalysis-era5-land',\n",
    "    {\n",
    "        'variable':[\n",
    "            'total_precipitation'\n",
    "        ],\n",
    "        'year':'2012',\n",
    "        'month':'01',\n",
    "        'day':[\n",
    "            '01','02','03',\n",
    "            '04','05','06',\n",
    "            '07','08','09',\n",
    "            '10','11','12',\n",
    "            '13','14','15',\n",
    "            '16','17','18',\n",
    "            '19','20','21',\n",
    "            '22','23','24',\n",
    "            '25','26','27',\n",
    "            '28','29','30',\n",
    "            '31'\n",
    "        ],\n",
    "        'time': '23:00',\n",
    "        'format':'netcdf'\n",
    "    },\n",
    "    'data/weather/total_precipitation_2012_01.nc')"
   ]
  },
  {
   "cell_type": "markdown",
   "metadata": {
    "slideshow": {
     "slide_type": "slide"
    }
   },
   "source": [
    "<a id='example3'></a>\n",
    "## Example 3 - ERA5 Temperature on pressure levels over Europe\n",
    "Get temperature at 850 hPa and 500 hPa for days between 15th and 17th August 2008 and times at 00, 06, 12 and 18 UTC. Save the result in separate daily netCDF files.  \n",
    "Note that instead of giving day, month and year separately, we can just give 'date'.  \n",
    "Get the data for Europe area. Just add **'area' : 'europe'**. Unfortunatelly this is the only shortcut word that I've found to work 🙁"
   ]
  },
  {
   "cell_type": "code",
   "execution_count": null,
   "metadata": {
    "slideshow": {
     "slide_type": "subslide"
    }
   },
   "outputs": [],
   "source": [
    "sdate = date(2008, 8, 15)   # start date\n",
    "edate = date(2008, 8, 17)   # end date\n",
    "\n",
    "delta = edate - sdate       # as timedelta\n",
    "\n",
    "for i in range(delta.days + 1):\n",
    "    d = sdate + timedelta(days=i)\n",
    "    d = str(d)\n",
    "\n",
    "    c.retrieve(\"reanalysis-era5-pressure-levels\",\n",
    "                       {\n",
    "                           \"variable\": \"temperature\",\n",
    "                           \"pressure_level\": ['850','500'],\n",
    "                           \"product_type\": \"reanalysis\",\n",
    "                           \"area\" : \"europe\",\n",
    "                           \"date\": d,\n",
    "                           \"time\": ['0','6','12','18'],\n",
    "                           \"format\": \"netcdf\"\n",
    "                       },\n",
    "                       \"data/weather/ea_t_{day}.nc\".format(day=d)\n",
    "                       )"
   ]
  },
  {
   "cell_type": "markdown",
   "metadata": {
    "slideshow": {
     "slide_type": "slide"
    }
   },
   "source": [
    "<a id='example4'></a>\n",
    "### Example 4 - Hourly ERA5 data in netcdf format\n",
    "Get hourly data from ERA5 single level dataset for dates from 28th April to 3rd May 2018 for global area.  \n",
    "Get these variables:\n",
    "- wind gusts\n",
    "- minimum 2m temperature \n",
    "- maximum 2m temperature  \n",
    "\n",
    "In previous example we had a request for each day. This time we we make one request for all the dates.  \n",
    "Giving the list of dates is also the only way to get the data for different days in different months.  \n",
    "Instead of a whole list of numbers from 0 to 23, we can just put **'all'** for time."
   ]
  },
  {
   "cell_type": "code",
   "execution_count": null,
   "metadata": {
    "slideshow": {
     "slide_type": "subslide"
    }
   },
   "outputs": [],
   "source": [
    "c.retrieve(\"reanalysis-era5-single-levels\",\n",
    "                       {\n",
    "                           \"variable\":[\"10m_wind_gust_since_previous_post_processing\",\n",
    "                                       \"maximum_2m_temperature_since_previous_post_processing\",\n",
    "                                       \"minimum_2m_temperature_since_previous_post_processing\"],\n",
    "                           \"product_type\": \"reanalysis\",\n",
    "                           \"date\": ['20180428',\n",
    "                                    '20180429',\n",
    "                                    '20180430',\n",
    "                                    '20180501',\n",
    "                                    '20180502',\n",
    "                                    '20180503'],\n",
    "                           \"time\": ['all'],\n",
    "                           \"grid\": [1,1],\n",
    "                           \"format\": \"grib\"\n",
    "                       },\n",
    "                       \"data/weather/min_max_t_and_wind_gust.grib\"\n",
    "                       )"
   ]
  },
  {
   "cell_type": "markdown",
   "metadata": {
    "slideshow": {
     "slide_type": "slide"
    }
   },
   "source": [
    "<a id='example5'></a>\n",
    "### Example 5 - Hourly ERA5 Land data in grib format for small area\n",
    "Get hourly 2m temperature and u and v 10m wind component data for the whole year for years from 2010 to 2013. Each year is one request and saved in one grib file.  \n",
    "Using **'area'** keyword, get the data only for London area.  \n",
    "Don’t worry that some combinations don't exist (e.g., April 31), the API will ignore these fields.  \n",
    "\n",
    "💡 Be careful when using ERA5 Land data. It is very new dataset and it is structured differently than the rest of the ERA5.\n",
    "\n",
    "Note: **Even thogh the retrived data is very small because we want very small area, the requests themselves are very big, having a year of hourly data with 3 parameters. So it will run for at least 20 minutes. Don't run it at the workshop. Try it out at home.**"
   ]
  },
  {
   "cell_type": "code",
   "execution_count": null,
   "metadata": {
    "slideshow": {
     "slide_type": "subslide"
    }
   },
   "outputs": [],
   "source": [
    "years = ['2010','2011','2012','2013']\n",
    "\n",
    "for year in years:\n",
    "    file_name = 'data/weather/london_data_{y}.grib'.format{y=year}\n",
    "    if use_cds:\n",
    "        c = cdsapi.Client()\n",
    "        c.retrieve(    'reanalysis-era5-land',\n",
    "        {\n",
    "            'variable':[\n",
    "                '10m_u_component_of_wind',\n",
    "                '10m_v_component_of_wind',\n",
    "                '2m_temperature',\n",
    "            ],\n",
    "            'year':[\n",
    "                year         \n",
    "            ],\n",
    "            'month':[\n",
    "                '01','02','03',\n",
    "                '04','05','06',\n",
    "                '07','08','09',\n",
    "                '10','11','12'\n",
    "            ],\n",
    "            'day':[\n",
    "                '01','02','03',\n",
    "                '04','05','06',\n",
    "                '07','08','09',\n",
    "                '10','11','12',\n",
    "                '13','14','15',\n",
    "                '16','17','18',\n",
    "                '19','20','21',\n",
    "                '22','23','24',\n",
    "                '25','26','27',\n",
    "                '28','29','30',\n",
    "                '31'\n",
    "            ],\n",
    "            'time':[\n",
    "                '00:00','01:00','02:00',\n",
    "                '03:00','04:00','05:00',\n",
    "                '06:00','07:00','08:00',\n",
    "                '09:00','10:00','11:00',\n",
    "                '12:00','13:00','14:00',\n",
    "                '15:00','16:00','17:00',\n",
    "                '18:00','19:00','20:00',\n",
    "                '21:00','22:00','23:00'\n",
    "            ],\n",
    "            'format':'grib',\n",
    "            'area':[51,-1,52,1]\n",
    "                   },\n",
    "                   file_name)"
   ]
  },
  {
   "cell_type": "markdown",
   "metadata": {
    "slideshow": {
     "slide_type": "slide"
    }
   },
   "source": [
    "<a id='example6'></a>\n",
    "## Example 6 - Satellite data - Sea level anomaly\n",
    "\n",
    "Get the Sea level gridded data for the global ocean for three days in March 2018."
   ]
  },
  {
   "cell_type": "code",
   "execution_count": null,
   "metadata": {
    "slideshow": {
     "slide_type": "fragment"
    }
   },
   "outputs": [],
   "source": [
    "c.retrieve(\n",
    "    'satellite-sea-level-global',\n",
    "    {\n",
    "        'variable':'all',\n",
    "        'format':'zip',\n",
    "        'year':'2018',\n",
    "        'month':'03',\n",
    "        'day':['03', '04', '05']\n",
    "    },\n",
    "    'data/weather/satellite.zip')"
   ]
  },
  {
   "cell_type": "markdown",
   "metadata": {
    "slideshow": {
     "slide_type": "slide"
    }
   },
   "source": [
    "<a id='example7'></a>\n",
    "## Example 7 - Satellite data - Soil moisture - one netCDF file\n",
    "\n",
    "Get the Volumetric surface soil moisture day average data for 2nd June 2019.  \n",
    "Requests that are originally in netCDF format are available compressed into one zip file.  \n",
    "\n",
    "💡 When thre is only one netCDF file in zip archive thre will be an error. Before running such requests, change extension in file name from .zip to nc."
   ]
  },
  {
   "cell_type": "code",
   "execution_count": null,
   "metadata": {
    "slideshow": {
     "slide_type": "fragment"
    }
   },
   "outputs": [],
   "source": [
    "c.retrieve(\n",
    "    'satellite-soil-moisture',\n",
    "    {\n",
    "        'format':'zip',\n",
    "        'variable':'volumetric_surface_soil_moisture',\n",
    "        'type_of_sensor':'combined_passive_and_active',\n",
    "        'time_aggregation':'day_average',\n",
    "        'year':'2019',\n",
    "        'month':'06',\n",
    "        'day':'02',\n",
    "        'type_of_record':'icdr',\n",
    "        'version':'v201706.0.0'\n",
    "    },\n",
    "    'data/weather/satellite_one.nc')"
   ]
  },
  {
   "cell_type": "markdown",
   "metadata": {
    "slideshow": {
     "slide_type": "slide"
    }
   },
   "source": [
    "<a id='example8'></a>\n",
    "## Example 8 - Climate projections data - 2m temperature and 2m Tmax\n",
    "\n",
    "Get 2m temperature and Maximum 2m temperature for last 24 hours from GFDL-CM3 (NOAA, USA) model, \n",
    "RCP 8.5 experiment and ensemble member r1i1p1 for 2020-2025 period.  \n",
    "\n",
    "💡 Always use Web download to check which combination of model, experiment and ensamble member is available for the period you're interested."
   ]
  },
  {
   "cell_type": "code",
   "execution_count": null,
   "metadata": {
    "slideshow": {
     "slide_type": "fragment"
    }
   },
   "outputs": [],
   "source": [
    "c.retrieve(\n",
    "    'projections-cmip5-monthly-single-levels',\n",
    "    {\n",
    "        'ensemble_member':'r1i1p1',\n",
    "        'format':'zip',\n",
    "        'variable':[\n",
    "            '2m_temperature','maximum_2m_temperature_in_the_last_24_hours'\n",
    "        ],\n",
    "        'model':'gfdl_cm3',\n",
    "        'experiment':'rcp_8_5',\n",
    "        'period':'202101-202512'\n",
    "    },\n",
    "    'data/weather/climate_projection.zip')"
   ]
  },
  {
   "cell_type": "markdown",
   "metadata": {
    "slideshow": {
     "slide_type": "slide"
    }
   },
   "source": [
    "<a id='example9'></a>\n",
    "## Example 9 - ERA5 Reanalysis - Monthly data\n",
    "\n",
    "Get Monthly averaged 2m temperature for first 3 months of 2018 for a small area in grib format."
   ]
  },
  {
   "cell_type": "code",
   "execution_count": null,
   "metadata": {
    "slideshow": {
     "slide_type": "fragment"
    }
   },
   "outputs": [],
   "source": [
    "c.retrieve(\n",
    "    'reanalysis-era5-single-levels-monthly-means',\n",
    "    {\n",
    "        'format':'grib',\n",
    "        'product_type':'monthly_averaged_reanalysis',\n",
    "        'variable':'2m_temperature',\n",
    "        'area' : [42,19,17,24],\n",
    "        'year':'2018',\n",
    "        'month':['1','2','3'],\n",
    "        'time':'00:00'\n",
    "    },\n",
    "    'data/weather/ERA5_monthly.grib')"
   ]
  },
  {
   "cell_type": "markdown",
   "metadata": {
    "slideshow": {
     "slide_type": "slide"
    }
   },
   "source": [
    "<a id='example10'></a>\n",
    "### Example 10 - ERA5 data on model levels from public datasets in MARS\n",
    "Get the data on Model levels from ERA5 complete data set.   \n",
    "Keep in mind that this data is not stored in CDS, but in public part of MARS archive with the access through CDS. Because of this you can expect queuing to last hours or even days.  \n",
    "💡 If the data you're interested contains **accumulated fields**, which are 'type'=FC you will need to provide **step** too.   \n",
    "💡 When retrieving data from **reanalysis-era5-complete** dataset **always make sure you have grid parameter** in your request, otherwise the retrieved data will be in default reduced Gaussian grid GRIB file.  \n",
    "\n",
    "**Don't run this example at the workshop. Try it out at home.**"
   ]
  },
  {
   "cell_type": "code",
   "execution_count": null,
   "metadata": {
    "slideshow": {
     "slide_type": "subslide"
    }
   },
   "outputs": [],
   "source": [
    "c.retrieve('reanalysis-era5-complete',{\n",
    "    'class':'ea',\n",
    "    'date':'20180525/to/20180605',\n",
    "    'area':'50/5/40/27',\n",
    "    'expver':'1',\n",
    "    'levelist': '1/to/137',\n",
    "    'levtype':'ml',\n",
    "    'param':'129/130/131/132/133/152',\n",
    "    'stream':'oper',\n",
    "    'time':'00:00:00/03:00:00/06:00:00/09:00:00/12:00:00/15:00:00/18:00:00/21:00:00',\n",
    "    'type':'an',\n",
    "    'grid':\"0.25/0.25\",\n",
    "},'data/weather/ERA5-ml.grb')"
   ]
  },
  {
   "cell_type": "markdown",
   "metadata": {
    "slideshow": {
     "slide_type": "slide"
    }
   },
   "source": [
    "<a id='example11'></a>\n",
    "### Example 11 - UERRA regional reanalysis for Europe on height levels\n",
    "Get the wind data from UERRA regional renalysis on height levels.  \n",
    "Web download form won't let you select more than one parameter for this dataset, but putting more than one parameter in the API request works.\n",
    "  \n",
    "  \n",
    "Regional reanalysis for European domain is available from 2 models: UERRA-HARMONIE and MESCAN-SURFEX systems. While sufrace data and data on pressure levels ara available from both models, data on height levels in meters is only available from UERRA-HARMONIE. That is why in this dataset there is no 'origin' parameter as in other two UERRA datasets."
   ]
  },
  {
   "cell_type": "code",
   "execution_count": null,
   "metadata": {
    "slideshow": {
     "slide_type": "subslide"
    }
   },
   "outputs": [],
   "source": [
    "c.retrieve(\n",
    "    'reanalysis-uerra-europe-height-levels',\n",
    "    {\n",
    "        'variable':['wind_direction','relative_humidity'],\n",
    "        'height_level':[\n",
    "            '100_m','150_m','15_m',\n",
    "            '200_m','250_m','300_m',\n",
    "            '30_m','400_m','500_m',\n",
    "            '50_m','75_m'\n",
    "        ],\n",
    "        'year':'2018',\n",
    "        'month':'03',\n",
    "        'day':'03',\n",
    "        'time':[\n",
    "            '00:00','06:00','12:00',\n",
    "            '18:00'\n",
    "        ],\n",
    "        'format':'grib'\n",
    "    },\n",
    "    'data/weather/UERRA.grib')"
   ]
  },
  {
   "cell_type": "markdown",
   "metadata": {
    "slideshow": {
     "slide_type": "slide"
    }
   },
   "source": [
    "<a id='example12'></a>\n",
    "### Example 12 - ERA5 reanalysis - ensemble data on pressure levels\n",
    "Download temperature and relative humidity data on levels 300 and 500 hPa for European area for period from 5th to 7th May 2018. Download all ensemble members."
   ]
  },
  {
   "cell_type": "code",
   "execution_count": null,
   "metadata": {
    "slideshow": {
     "slide_type": "fragment"
    }
   },
   "outputs": [],
   "source": [
    "c.retrieve(\n",
    "    'reanalysis-era5-pressure-levels',\n",
    "    {\n",
    "        'product_type':'ensemble_members',\n",
    "        'variable':[\n",
    "            'relative_humidity','temperature'\n",
    "        ],\n",
    "        'pressure_level':[\n",
    "            '300','500'\n",
    "        ],\n",
    "        'year':'2018',\n",
    "        'month':[\n",
    "            '05'\n",
    "        ],\n",
    "        'day':[\n",
    "            '05','06','07'\n",
    "        ],\n",
    "        'time':[\n",
    "            '00:00','03:00','06:00',\n",
    "            '09:00','12:00','15:00',\n",
    "            '18:00','21:00'\n",
    "        ],\n",
    "        'area':[35,-10,52,25],\n",
    "        'format':'grib'\n",
    "    },\n",
    "    'data/weather/ensemble_data_pl.grib')"
   ]
  }
 ],
 "metadata": {
  "celltoolbar": "Slideshow",
  "kernelspec": {
   "display_name": "Python 3",
   "language": "python",
   "name": "python3"
  },
  "language_info": {
   "codemirror_mode": {
    "name": "ipython",
    "version": 3
   },
   "file_extension": ".py",
   "mimetype": "text/x-python",
   "name": "python",
   "nbconvert_exporter": "python",
   "pygments_lexer": "ipython3",
   "version": "3.7.3"
  }
 },
 "nbformat": 4,
 "nbformat_minor": 2
}
