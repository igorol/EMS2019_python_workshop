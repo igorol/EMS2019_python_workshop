{
 "cells": [
  {
   "cell_type": "code",
   "execution_count": null,
   "metadata": {},
   "outputs": [],
   "source": [
    "import matplotlib.pyplot as plt\n",
    "import numpy as np\n",
    "import pandas as pd\n",
    "import xarray as xr\n",
    "import regionmask\n",
    "import cartopy.crs as ccrs\n",
    "import cartopy.feature as cfeature\n",
    "\n",
    "from sklearn import svm\n",
    "from sklearn import metrics\n",
    "from sklearn.ensemble import RandomForestRegressor, GradientBoostingRegressor\n",
    "\n",
    "from pandas.plotting import register_matplotlib_converters\n",
    "register_matplotlib_converters()\n",
    "# %matplotlib inline"
   ]
  },
  {
   "cell_type": "markdown",
   "metadata": {},
   "source": [
    "# STEP 1: Let's ingest (and inspect) the tourism data\n",
    "\n",
    "**Source:** https://data.europa.eu/euodp/en/data/dataset/dKveFoy4vFts8fta4Q4SIw\n",
    "\n",
    "**Description:**\n",
    "An arrival is defined as a person (tourist) who arrives at a tourist accommodation establishment and checks in. The arrivals of same-day visitors spending only a few hours during the day (no overnight stay, the date of arrival and departure are the same) at the establishment are excluded.\n",
    "\n",
    "#### In the code below, you can change:\n",
    "`country_code1`\n",
    "\n",
    "`country_code2` \n",
    "#### to any 2 european countries available in the dataset. Explanation for country codes in the link:\n",
    "https://ec.europa.eu/eurostat/statistics-explained/index.php/Glossary:Country_codes"
   ]
  },
  {
   "cell_type": "code",
   "execution_count": null,
   "metadata": {},
   "outputs": [],
   "source": [
    "# read tsv file\n",
    "tourism_df = pd.read_csv('./data/tourism/tour_occ_arm.tsv', sep='\\t', na_values=[': '])\n",
    "\n",
    "# change column format/type to Timestamps (easier manipulation)\n",
    "new_columns = [col if i ==0 else pd.to_datetime(col, format='%YM%m ') for i,col in enumerate(tourism_df.columns)]\n",
    "tourism_df.columns = new_columns\n",
    "# removing some characters from data\n",
    "tourism_df = tourism_df.replace(to_replace=['b','c','d','e'], value='', regex=True)\n",
    "tourism_df.head()"
   ]
  },
  {
   "cell_type": "code",
   "execution_count": null,
   "metadata": {},
   "outputs": [],
   "source": [
    "# extracting data from a specific country, by country code\n",
    "country_code1 = 'AT'\n",
    "country1_tourism_df = tourism_df[tourism_df.iloc[:, 0] == f'TOTAL,NR,I551,{country_code1}']\n",
    "# Transposing data so Timestamps go in index\n",
    "country1_tourism_df = country1_tourism_df.T[1:][-1:0:-1].astype(int)\n",
    "country1_tourism_df.columns = [f'Arrivals,{country_code1}']\n",
    "\n",
    "# extracting data from a specific country, by country code\n",
    "country_code2 = 'PT'\n",
    "country2_tourism_df = tourism_df[tourism_df.iloc[:, 0] == f'TOTAL,NR,I551,{country_code2}']\n",
    "# Transposing data so Timestamps go in index\n",
    "country2_tourism_df = country2_tourism_df.T[1:][-1:0:-1].astype(int)\n",
    "country2_tourism_df.columns = [f'Arrivals,{country_code2}']"
   ]
  },
  {
   "cell_type": "code",
   "execution_count": null,
   "metadata": {},
   "outputs": [],
   "source": [
    "country1_tourism_df.head()"
   ]
  },
  {
   "cell_type": "code",
   "execution_count": null,
   "metadata": {},
   "outputs": [],
   "source": [
    "plt.style.use('fivethirtyeight')\n",
    "plt.figure(figsize=(18,8))\n",
    "plt.plot(country1_tourism_df.index, country1_tourism_df.values, label=country_code1)\n",
    "plt.plot(country2_tourism_df.index, country2_tourism_df.values, label=country_code2)\n",
    "plt.legend()\n",
    "plt.title('Arrivals at tourist accommodation establishments - monthly data')\n",
    "plt.show()"
   ]
  },
  {
   "cell_type": "code",
   "execution_count": null,
   "metadata": {},
   "outputs": [],
   "source": [
    "def moving_average(x, w):\n",
    "    return np.convolve(x, np.ones(w), 'valid') / w\n",
    "\n",
    "country1_ave12 = moving_average(country1_tourism_df.values.reshape(-1), 12)\n",
    "country1_ave6 = moving_average(country1_tourism_df.values.reshape(-1), 6)\n",
    "\n",
    "plt.figure(figsize=(18,8))\n",
    "plt.plot(country1_tourism_df.values, label='monthly data')\n",
    "plt.plot(country1_ave12, label='moving average 12 months')\n",
    "plt.plot(country1_ave6, label='moving average 6 months')\n",
    "\n",
    "plt.legend()\n",
    "plt.title(f'Arrivals at tourist accommodation establishments - {country_code1}')\n",
    "plt.show()"
   ]
  },
  {
   "cell_type": "code",
   "execution_count": null,
   "metadata": {},
   "outputs": [],
   "source": [
    "country2_ave12 = moving_average(country2_tourism_df.values.reshape(-1), 12)\n",
    "country2_ave6 = moving_average(country2_tourism_df.values.reshape(-1), 6)\n",
    "\n",
    "plt.figure(figsize=(18,8))\n",
    "plt.plot(country2_tourism_df.values, label='monthly data')\n",
    "plt.plot(country2_ave12, label='moving average 12 months')\n",
    "plt.plot(country2_ave6, label='moving average 6 months')\n",
    "\n",
    "plt.legend()\n",
    "plt.title(f'Arrivals at tourist accommodation establishments - {country_code2}')\n",
    "plt.show()"
   ]
  },
  {
   "cell_type": "markdown",
   "metadata": {},
   "source": [
    "### *Can you get any interesting insight from the data for the countries in your selection?*"
   ]
  },
  {
   "cell_type": "markdown",
   "metadata": {},
   "source": [
    "# STEP 2: Let's ingest (and inspect) the weather data\n",
    "\n",
    "- For the training of the models, we will use ERA5 Reanalysis data. \n",
    "\n",
    "- We will use previously downloaded monthly data, so we have the same time granularity as the tourism arrivals data\n",
    "\n",
    "- We will explore t2m and tp variables, but you may have more data than that depending on what you downloaded\n"
   ]
  },
  {
   "cell_type": "code",
   "execution_count": null,
   "metadata": {},
   "outputs": [],
   "source": [
    "wx_data = xr.open_dataset('./data/weather/era5_EU_monthly.nc')\n",
    "plt.figure(figsize=(12,8))\n",
    "data_crs = ccrs.PlateCarree()\n",
    "\n",
    "ax = plt.axes(projection=data_crs)\n",
    "wx_data.t2m.sel(time='2018-06').plot(ax=ax,transform=data_crs, cmap='gist_ncar')\n",
    "plt.show()"
   ]
  },
  {
   "cell_type": "code",
   "execution_count": null,
   "metadata": {},
   "outputs": [],
   "source": [
    "# define a country_mask array so we can get data for any EU country \n",
    "# this might take some time (~30secs)\n",
    "country_mask = regionmask.defined_regions.natural_earth.countries_50.mask(wx_data, \n",
    "                                                                          lon_name='longitude', \n",
    "                                                                          lat_name='latitude')"
   ]
  },
  {
   "cell_type": "code",
   "execution_count": null,
   "metadata": {},
   "outputs": [],
   "source": [
    "def extract_data_for_country(country_name, country_mask, wx_data):\n",
    "    country_id = regionmask.defined_regions.natural_earth.countries_50.map_keys(country_name)\n",
    "    wx_data = wx_data.where(country_mask==country_id)\n",
    "    wx_data = wx_data.dropna('latitude', how='all')\n",
    "    wx_data = wx_data.dropna('longitude', how='all')\n",
    "    return wx_data\n",
    "    "
   ]
  },
  {
   "cell_type": "code",
   "execution_count": null,
   "metadata": {},
   "outputs": [],
   "source": [
    "# this might also take some time, but less (~8secs)\n",
    "country1_wx = extract_data_for_country('Austria', country_mask, wx_data)\n",
    "country2_wx = extract_data_for_country('Portugal', country_mask, wx_data)"
   ]
  },
  {
   "cell_type": "code",
   "execution_count": null,
   "metadata": {},
   "outputs": [],
   "source": [
    "# Available country codes, for reference\n",
    "regionmask.defined_regions.natural_earth.countries_50.map_keys"
   ]
  },
  {
   "cell_type": "code",
   "execution_count": null,
   "metadata": {},
   "outputs": [],
   "source": [
    "plt.figure(figsize=(12,8))\n",
    "ax = plt.axes(projection=ccrs.Mercator())\n",
    "p = country1_wx.t2m.sel(time='2018-06').plot(ax=ax, transform=ccrs.PlateCarree(), cmap='Reds')"
   ]
  },
  {
   "cell_type": "code",
   "execution_count": null,
   "metadata": {},
   "outputs": [],
   "source": [
    "plt.figure(figsize=(12,8))\n",
    "ax = plt.axes(projection=ccrs.Mercator())\n",
    "p = country2_wx.tp.sel(time='2018-06').plot(ax=ax, transform=ccrs.PlateCarree(), cmap='jet')"
   ]
  },
  {
   "cell_type": "markdown",
   "metadata": {},
   "source": [
    "# Can we find interesting correlations between Weather x Arrivals data"
   ]
  },
  {
   "cell_type": "code",
   "execution_count": null,
   "metadata": {},
   "outputs": [],
   "source": [
    "fig = plt.figure(figsize=(18,8))\n",
    "ax = fig.add_subplot(111)\n",
    "ax2 = ax.twinx()\n",
    "\n",
    "ax.plot(country1_tourism_df.values, \n",
    "        label='Arrivals', \n",
    "        color='blue')\n",
    "\n",
    "ax2.bar(range(country1_wx.dims['time']),\n",
    "        country1_wx.tp.mean(axis=(1,2))*1000, \n",
    "        label='Precipitation', color='red')\n",
    "\n",
    "ax2.set_ylim(0,30)\n",
    "\n",
    "ax.set_ylabel('Arrivals at tourist accommodations')\n",
    "ax2.set_ylabel('mm')\n",
    "\n",
    "ax.grid(False)\n",
    "ax2.grid(False)\n",
    "\n",
    "fig.legend(loc=\"upper right\")\n",
    "plt.title(f'{country_code1} Precipitation x Tourism data')\n",
    "plt.show()"
   ]
  },
  {
   "cell_type": "code",
   "execution_count": null,
   "metadata": {},
   "outputs": [],
   "source": [
    "# wx_data.time, \n",
    "country1_tourism_df"
   ]
  },
  {
   "cell_type": "code",
   "execution_count": null,
   "metadata": {},
   "outputs": [],
   "source": [
    "fig = plt.figure(figsize=(18,8))\n",
    "ax = fig.add_subplot(111)\n",
    "ax2 = ax.twinx()\n",
    "\n",
    "ax.plot(country1_tourism_df.values, \n",
    "        label='Arrivals', \n",
    "        color='blue')\n",
    "\n",
    "ax2.plot(country1_wx.t2m.mean(axis=(1,2))-273.15, \n",
    "         label='Temperature', \n",
    "         color='red')\n",
    "\n",
    "ax2.set_ylim(-30,50)\n",
    "ax.set_ylabel('Arrivals at tourist accommodations')\n",
    "ax2.set_ylabel('degC')\n",
    "\n",
    "ax.grid(False)\n",
    "ax2.grid(False)\n",
    "\n",
    "fig.legend(loc=\"upper right\")\n",
    "plt.title(f'{country_code1} Temperature x Tourism data')\n",
    "plt.show()"
   ]
  },
  {
   "cell_type": "markdown",
   "metadata": {},
   "source": [
    "# STEP 3: Let's do some modelling\n",
    "\n",
    "## Important considerations:\n",
    "    - Training/Test Split\n",
    "    - Features to be used\n",
    "    - Algorithm to choose\n",
    "    - Always check your data"
   ]
  },
  {
   "cell_type": "code",
   "execution_count": null,
   "metadata": {},
   "outputs": [],
   "source": [
    "train_period = ('2000-1-1','2015-1-1')\n",
    "test_period = ('2015-1-1','2019-1-1')"
   ]
  },
  {
   "cell_type": "code",
   "execution_count": null,
   "metadata": {},
   "outputs": [],
   "source": [
    "# slicing according to train_period\n",
    "X_train = country1_wx.t2m.max(axis=(1,2)).sel(time=slice(train_period[0],train_period[1])).values.reshape(-1, 1)\n",
    "Y_train = country1_tourism_df[pd.Timestamp(train_period[0]):pd.Timestamp(train_period[1])].values.reshape(-1,1).astype(float)\n",
    "\n",
    "# slicing according to test_period\n",
    "X_test = country1_wx.t2m.max(axis=(1,2)).sel(time=slice(test_period[0],test_period[1])).values.reshape(-1, 1)\n",
    "Y_test = country1_tourism_df[pd.Timestamp(test_period[0]):pd.Timestamp(test_period[1])].values.reshape(-1,1).astype(float)"
   ]
  },
  {
   "cell_type": "code",
   "execution_count": null,
   "metadata": {},
   "outputs": [],
   "source": [
    "X_train.shape, X_test.shape, Y_train.shape, Y_test.shape"
   ]
  },
  {
   "cell_type": "code",
   "execution_count": null,
   "metadata": {},
   "outputs": [],
   "source": [
    "svr = svm.SVR(kernel='poly', gamma='scale')\n",
    "\n",
    "svr.fit(X_train, Y_train.reshape(-1))\n",
    "\n",
    "Y_pred_svr = svr.predict(X_test)\n",
    "\n",
    "svr_r2 = metrics.r2_score(Y_test, Y_pred_svr)\n",
    "svr_mae = metrics.mean_absolute_error(Y_test, Y_pred_svr)\n",
    "svr_rmse = np.sqrt(metrics.mean_squared_error(Y_test, Y_pred_svr))\n",
    "\n",
    "print(f' Support Vector Regression R2   = {svr_r2:17.6f}')\n",
    "print(f' Support Vector Regression MAE  = {svr_mae:17.6f}')\n",
    "print(f' Support Vector Regression RMSE = {svr_rmse:17.6f}')"
   ]
  },
  {
   "cell_type": "code",
   "execution_count": null,
   "metadata": {},
   "outputs": [],
   "source": [
    "rf = RandomForestRegressor(n_estimators=100)\n",
    "\n",
    "rf.fit(X_train, Y_train.reshape(-1))\n",
    "\n",
    "Y_pred_rf = rf.predict(X_test)\n",
    "\n",
    "rf_r2 = metrics.r2_score(Y_test, Y_pred_rf)\n",
    "rf_mae = metrics.mean_absolute_error(Y_test, Y_pred_rf)\n",
    "rf_rmse = np.sqrt(metrics.mean_squared_error(Y_test, Y_pred_rf))\n",
    "\n",
    "print(f' Random Forest Regression R2   = {rf_r2:17.6f}')\n",
    "print(f' Random Forest Regression MAE  = {rf_mae:17.6f}')\n",
    "print(f' Random Forest Regression RMSE = {rf_rmse:17.6f}')"
   ]
  },
  {
   "cell_type": "code",
   "execution_count": null,
   "metadata": {},
   "outputs": [],
   "source": [
    "gb = GradientBoostingRegressor()\n",
    "\n",
    "gb.fit(X_train, Y_train.reshape(-1))\n",
    "\n",
    "Y_pred_gb = gb.predict(X_test)\n",
    "\n",
    "gb_r2 = metrics.r2_score(Y_test, Y_pred_gb)\n",
    "gb_mae = metrics.mean_absolute_error(Y_test, Y_pred_gb)\n",
    "gb_rmse = np.sqrt(metrics.mean_squared_error(Y_test, Y_pred_gb))\n",
    "\n",
    "print(f' Gradient Boosting Regression R2   = {gb_r2:17.6f}')\n",
    "print(f' Gradient Boosting Regression MAE  = {gb_mae:17.6f}')\n",
    "print(f' Gradient Boosting Regression RMSE = {gb_rmse:17.6f}')"
   ]
  },
  {
   "cell_type": "markdown",
   "metadata": {},
   "source": [
    "### Let's visualize these predictions"
   ]
  },
  {
   "cell_type": "code",
   "execution_count": null,
   "metadata": {},
   "outputs": [],
   "source": [
    "plt.figure(figsize=(16,10))\n",
    "train_index = pd.date_range(train_period[0],train_period[1], freq='1M')\n",
    "test_index = pd.date_range(test_period[0],test_period[1], freq='1M')\n",
    "plt.plot(train_index,Y_train[:-1], label='Training', color='black', lw=2)\n",
    "plt.plot(test_index,Y_test[:-1], label='Test', lw=2)\n",
    "plt.plot(test_index,Y_pred_svr[:-1], label= 'SVR', lw=3)\n",
    "plt.plot(test_index,Y_pred_rf[:-1], label= 'RF', lw=3)\n",
    "plt.plot(test_index,Y_pred_gb[:-1], label= 'GB', lw=2)\n",
    "plt.legend()\n",
    "plt.title(f'Model Results for {country_code1} - 1st Version')\n",
    "plt.show()"
   ]
  },
  {
   "cell_type": "markdown",
   "metadata": {},
   "source": [
    "# Why so bad?\n",
    "\n",
    "- Our predictors only explain the data variability in a short timescale (essentially: winter v summer)\n",
    "- We need another feature that is capable of adding information about longer timescales to the model, so the model can learn \n",
    "- This can surprise you\n"
   ]
  },
  {
   "cell_type": "code",
   "execution_count": null,
   "metadata": {},
   "outputs": [],
   "source": [
    "# adding month number as a feature\n",
    "month_train_array = np.arange(0, \n",
    "                              len(pd.date_range(train_period[0],train_period[1], freq='1M'))+1)\n",
    "month_test_array = np.arange(month_train_array[-1]+1, \n",
    "                             month_train_array[-1]+len(pd.date_range(test_period[0],test_period[1], freq='1M'))+2)"
   ]
  },
  {
   "cell_type": "code",
   "execution_count": null,
   "metadata": {},
   "outputs": [],
   "source": [
    "X_train_2 = np.column_stack([X_train[:,0], month_train_array])\n",
    "X_test_2 = np.column_stack([X_test[:,0], month_test_array])\n",
    "\n",
    "X_train_2.shape, X_test_2.shape, Y_train.shape, Y_test.shape"
   ]
  },
  {
   "cell_type": "code",
   "execution_count": null,
   "metadata": {},
   "outputs": [],
   "source": [
    "svr = svm.SVR(kernel='poly', gamma='scale')\n",
    "\n",
    "svr.fit(X_train_2, Y_train.reshape(-1))\n",
    "\n",
    "Y_pred_svr = svr.predict(X_test_2)\n",
    "\n",
    "svr_r2 = metrics.r2_score(Y_test, Y_pred_svr)\n",
    "svr_mae = metrics.mean_absolute_error(Y_test, Y_pred_svr)\n",
    "svr_rmse = np.sqrt(metrics.mean_squared_error(Y_test, Y_pred_svr))\n",
    "\n",
    "print(f' Support Vector Regression R2   = {svr_r2:17.6f}')\n",
    "print(f' Support Vector Regression MAE  = {svr_mae:17.6f}')\n",
    "print(f' Support Vector Regression RMSE = {svr_rmse:17.6f}')\n"
   ]
  },
  {
   "cell_type": "code",
   "execution_count": null,
   "metadata": {},
   "outputs": [],
   "source": [
    "rf = RandomForestRegressor(n_estimators=100)\n",
    "\n",
    "rf.fit(X_train_2, Y_train.reshape(-1))\n",
    "\n",
    "Y_pred_rf = rf.predict(X_test_2)\n",
    "\n",
    "rf_r2 = metrics.r2_score(Y_test, Y_pred_rf)\n",
    "rf_mae = metrics.mean_absolute_error(Y_test, Y_pred_rf)\n",
    "rf_rmse = np.sqrt(metrics.mean_squared_error(Y_test, Y_pred_rf))\n",
    "\n",
    "print(f' Random Forest Regression R2   = {rf_r2:17.6f}')\n",
    "print(f' Random Forest Regression MAE  = {rf_mae:17.6f}')\n",
    "print(f' Random Forest Regression RMSE = {rf_rmse:17.6f}')"
   ]
  },
  {
   "cell_type": "code",
   "execution_count": null,
   "metadata": {},
   "outputs": [],
   "source": [
    "gb = GradientBoostingRegressor()\n",
    "\n",
    "gb.fit(X_train_2, Y_train.reshape(-1))\n",
    "Y_pred_gb = gb.predict(X_test_2)\n",
    "\n",
    "gb_r2 = metrics.r2_score(Y_test, Y_pred_gb)\n",
    "gb_mae = metrics.mean_absolute_error(Y_test, Y_pred_gb)\n",
    "gb_rmse = np.sqrt(metrics.mean_squared_error(Y_test, Y_pred_gb))\n",
    "\n",
    "print(f' Gradient Boosting Regression R2   = {gb_r2:17.6f}')\n",
    "print(f' Gradient Boosting Regression MAE  = {gb_mae:17.6f}')\n",
    "print(f' Gradient Boosting Regression RMSE = {gb_rmse:17.6f}')"
   ]
  },
  {
   "cell_type": "markdown",
   "metadata": {},
   "source": [
    "## These are much better results, let's visualize them"
   ]
  },
  {
   "cell_type": "code",
   "execution_count": null,
   "metadata": {},
   "outputs": [],
   "source": [
    "plt.figure(figsize=(16,10))\n",
    "train_index = pd.date_range(train_period[0],train_period[1], freq='1M')\n",
    "test_index = pd.date_range(test_period[0],test_period[1], freq='1M')\n",
    "plt.plot(train_index,Y_train[:-1], label='Training', color='black', lw=2)\n",
    "plt.plot(test_index,Y_test[:-1], label='Test', lw=2)\n",
    "plt.plot(test_index,Y_pred_svr[:-1], label='SVR', lw=3)\n",
    "plt.plot(test_index,Y_pred_rf[:-1], label= 'RF', lw=3)\n",
    "plt.plot(test_index,Y_pred_gb[:-1], label= 'GB', lw=2)\n",
    "plt.title(f'Model Results for {country_code1} - 2nd Version')\n",
    "plt.legend()\n",
    "plt.show()"
   ]
  },
  {
   "cell_type": "code",
   "execution_count": null,
   "metadata": {},
   "outputs": [],
   "source": []
  }
 ],
 "metadata": {
  "kernelspec": {
   "display_name": "Python 3",
   "language": "python",
   "name": "python3"
  },
  "language_info": {
   "codemirror_mode": {
    "name": "ipython",
    "version": 3
   },
   "file_extension": ".py",
   "mimetype": "text/x-python",
   "name": "python",
   "nbconvert_exporter": "python",
   "pygments_lexer": "ipython3",
   "version": "3.7.3"
  }
 },
 "nbformat": 4,
 "nbformat_minor": 2
}
