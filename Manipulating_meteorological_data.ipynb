{
 "cells": [
  {
   "cell_type": "markdown",
   "metadata": {
    "slideshow": {
     "slide_type": "slide"
    }
   },
   "source": [
    "# Manipulating meteorological data\n",
    "### Python workshop, EMS2019"
   ]
  },
  {
   "cell_type": "markdown",
   "metadata": {
    "slideshow": {
     "slide_type": "slide"
    }
   },
   "source": [
    "This is **not** xarray tutorial, nor jupyter tutorial, nor visualisation tutorial.  "
   ]
  },
  {
   "cell_type": "markdown",
   "metadata": {
    "slideshow": {
     "slide_type": "fragment"
    }
   },
   "source": [
    "This part of workshop is about exploring meteorological data from the CDS."
   ]
  },
  {
   "cell_type": "markdown",
   "metadata": {
    "slideshow": {
     "slide_type": "fragment"
    }
   },
   "source": [
    "All tools are just that - tools."
   ]
  },
  {
   "cell_type": "markdown",
   "metadata": {
    "slideshow": {
     "slide_type": "fragment"
    }
   },
   "source": [
    "Use this notebook as a starting point, and the rest of internet to learn further."
   ]
  },
  {
   "cell_type": "markdown",
   "metadata": {
    "slideshow": {
     "slide_type": "slide"
    }
   },
   "source": [
    "# Importing libraries\n",
    "First, we're going to import libraries used by this notebook.  \n",
    "[cdsapi](https://cds.climate.copernicus.eu/api-how-to) - to access the data  \n",
    "[pandas](https://pandas.pydata.org/pandas-docs/stable/) and [xarray](http://xarray.pydata.org/en/stable/') - to manipulate the data  \n",
    "[matplotlib]('https://matplotlib.org/') and [seaborn]('https://seaborn.pydata.org/') - for plotting\n",
    "\n"
   ]
  },
  {
   "cell_type": "code",
   "execution_count": 43,
   "metadata": {
    "slideshow": {
     "slide_type": "fragment"
    }
   },
   "outputs": [],
   "source": [
    "import cdsapi\n",
    "import pandas as pd\n",
    "import seaborn as sns\n",
    "import xarray as xr\n",
    "import xarray.ufuncs as xu\n",
    "import matplotlib.pyplot as plt\n",
    "%matplotlib inline\n",
    "from datetime import date, timedelta\n",
    "import numpy as np"
   ]
  },
  {
   "cell_type": "markdown",
   "metadata": {
    "slideshow": {
     "slide_type": "slide"
    }
   },
   "source": [
    "# The data\n",
    "We will be using already downloaded data. Let's see what is in our directory.  \n",
    "All weather data is in **data/weather** directory."
   ]
  },
  {
   "cell_type": "markdown",
   "metadata": {
    "slideshow": {
     "slide_type": "skip"
    }
   },
   "source": [
    "Using Jupyter's Built-in magic commands we can access shell commands. They all start with %. More about magic comands [here](https://ipython.readthedocs.io/en/stable/interactive/magics.html).  "
   ]
  },
  {
   "cell_type": "code",
   "execution_count": 2,
   "metadata": {
    "slideshow": {
     "slide_type": "subslide"
    }
   },
   "outputs": [
    {
     "name": "stdout",
     "output_type": "stream",
     "text": [
      "-rw-rw-r--. 1 jovyan users 22707360 Jul  4 08:04 data/weather/monthly_data.grib\r\n",
      "-rw-rw-r--. 1 jovyan users 23189760 Jul 26 17:12 data/weather/london_data_2012.grib\r\n",
      "-rw-rw-r--. 1 jovyan users  4953600 Aug 22 16:18 data/weather/ensemble_data_pl.grib\r\n",
      "-rw-r--r--. 1 jovyan users 46919504 Sep  6 12:35 data/weather/min_max_t_and_wind_gust.nc\r\n",
      "-rw-r--r--. 1 jovyan users 46958400 Sep  6 12:35 data/weather/min_max_t_and_wind_gust.grib\r\n",
      "-rw-r--r--. 1 jovyan users 13079092 Sep  6 12:38 data/weather/simple_data.nc\r\n"
     ]
    }
   ],
   "source": [
    "%ls -rtl data/weather/*.nc data/weather/*.grib"
   ]
  },
  {
   "cell_type": "markdown",
   "metadata": {
    "slideshow": {
     "slide_type": "slide"
    }
   },
   "source": [
    "## GRIB & netCDF\n",
    "First we inspect what is in **min_max_t_and_wind_gust.nc** and **min_max_t_and_wind_gust.grib** files.  \n",
    "We got the netCDF file from the *Example 4 - Hourly ERA5 data in netcdf format* in CDSAPI_examples notebook, and the grib with a modified version of that request.  "
   ]
  },
  {
   "cell_type": "markdown",
   "metadata": {
    "slideshow": {
     "slide_type": "fragment"
    }
   },
   "source": [
    "They contain the same hourly reanalysis data for 5 days in 2018 for three variables: Wind gusts at 10 m, Minimum and Maximum 2 m temperature.  \n",
    "\n",
    "Lets open both and see how they are both structured.\n",
    "\n",
    "NetCDF is pretty straigtforward."
   ]
  },
  {
   "cell_type": "code",
   "execution_count": 3,
   "metadata": {
    "slideshow": {
     "slide_type": "fragment"
    }
   },
   "outputs": [
    {
     "data": {
      "text/plain": [
       "<xarray.Dataset>\n",
       "Dimensions:    (latitude: 181, longitude: 360, time: 120)\n",
       "Coordinates:\n",
       "  * longitude  (longitude) float32 0.0 1.0 2.0 3.0 ... 356.0 357.0 358.0 359.0\n",
       "  * latitude   (latitude) float32 90.0 89.0 88.0 87.0 ... -88.0 -89.0 -90.0\n",
       "  * time       (time) datetime64[ns] 2018-04-28 ... 2018-05-02T23:00:00\n",
       "Data variables:\n",
       "    fg10       (time, latitude, longitude) float32 ...\n",
       "    mx2t       (time, latitude, longitude) float32 ...\n",
       "    mn2t       (time, latitude, longitude) float32 ...\n",
       "Attributes:\n",
       "    Conventions:  CF-1.6\n",
       "    history:      2019-09-03 08:58:45 GMT by grib_to_netcdf-2.10.0: /opt/ecmw..."
      ]
     },
     "execution_count": 3,
     "metadata": {},
     "output_type": "execute_result"
    }
   ],
   "source": [
    "ds_nc = xr.open_dataset('data/weather/min_max_t_and_wind_gust.nc')\n",
    "ds_nc"
   ]
  },
  {
   "cell_type": "markdown",
   "metadata": {
    "slideshow": {
     "slide_type": "slide"
    }
   },
   "source": [
    "**xarray** can't handle grib files out of the box. For this we need to use [**cfgrib**](https://github.com/ecmwf/cfgrib) as an engine."
   ]
  },
  {
   "cell_type": "code",
   "execution_count": 4,
   "metadata": {
    "slideshow": {
     "slide_type": "fragment"
    }
   },
   "outputs": [
    {
     "data": {
      "text/plain": [
       "<xarray.Dataset>\n",
       "Dimensions:     (latitude: 181, longitude: 360, step: 12, time: 11)\n",
       "Coordinates:\n",
       "    number      int64 ...\n",
       "  * time        (time) datetime64[ns] 2018-04-27T18:00:00 ... 2018-05-02T18:00:00\n",
       "  * step        (step) timedelta64[ns] 01:00:00 02:00:00 ... 11:00:00 12:00:00\n",
       "    surface     int64 ...\n",
       "  * latitude    (latitude) float64 90.0 89.0 88.0 87.0 ... -88.0 -89.0 -90.0\n",
       "  * longitude   (longitude) float64 0.0 1.0 2.0 3.0 ... 356.0 357.0 358.0 359.0\n",
       "    valid_time  (time, step) datetime64[ns] ...\n",
       "Data variables:\n",
       "    fg10        (time, step, latitude, longitude) float32 ...\n",
       "    mx2t        (time, step, latitude, longitude) float32 ...\n",
       "    mn2t        (time, step, latitude, longitude) float32 ...\n",
       "Attributes:\n",
       "    GRIB_edition:            1\n",
       "    GRIB_centre:             ecmf\n",
       "    GRIB_centreDescription:  European Centre for Medium-Range Weather Forecasts\n",
       "    GRIB_subCentre:          0\n",
       "    Conventions:             CF-1.7\n",
       "    institution:             European Centre for Medium-Range Weather Forecasts\n",
       "    history:                 2019-09-06T13:27:30 GRIB to CDM+CF via cfgrib-0...."
      ]
     },
     "execution_count": 4,
     "metadata": {},
     "output_type": "execute_result"
    }
   ],
   "source": [
    "ds_grib = xr.open_dataset('data/weather/min_max_t_and_wind_gust.grib',engine='cfgrib')\n",
    "ds_grib"
   ]
  },
  {
   "cell_type": "markdown",
   "metadata": {
    "slideshow": {
     "slide_type": "slide"
    }
   },
   "source": [
    "We can now see the differences in the NetCDF and GRIB metadata loaded into xarray dataset.  "
   ]
  },
  {
   "cell_type": "markdown",
   "metadata": {
    "slideshow": {
     "slide_type": "fragment"
    }
   },
   "source": [
    "There are also differences in the structure of the dataset.  \n",
    "\n",
    "- Dataset loaded from netCDF has only one time coordinate and dimension  \n",
    "- Dataset loaded from GRIB file has time and step.  "
   ]
  },
  {
   "cell_type": "markdown",
   "metadata": {
    "slideshow": {
     "slide_type": "fragment"
    }
   },
   "source": [
    "This is because these 3 fields don't have instantaneous values, but minimum or maximum over some period. This kind of fields have the type as forecast, and in grib they contain start of the forecast and step as dimensions but also a **valid_time** as coordinate.  \n",
    "More about this in the [ERA5 documentation](https://confluence.ecmwf.int/pages/viewpage.action?pageId=85402030#ERA5terminology:analysisandforecast;timeandsteps;instantaneousandaccumulatedandmeanratesandmin/maxparameters-'step'andinstantaneous,accumulatedandmin/maxparameters)"
   ]
  },
  {
   "cell_type": "markdown",
   "metadata": {
    "slideshow": {
     "slide_type": "slide"
    }
   },
   "source": [
    "We can get more metadata for each variable by inspecting them separately."
   ]
  },
  {
   "cell_type": "code",
   "execution_count": 5,
   "metadata": {
    "slideshow": {
     "slide_type": "fragment"
    }
   },
   "outputs": [
    {
     "data": {
      "text/plain": [
       "<xarray.DataArray 'fg10' (time: 120, latitude: 181, longitude: 360)>\n",
       "[7819200 values with dtype=float32]\n",
       "Coordinates:\n",
       "  * longitude  (longitude) float32 0.0 1.0 2.0 3.0 ... 356.0 357.0 358.0 359.0\n",
       "  * latitude   (latitude) float32 90.0 89.0 88.0 87.0 ... -88.0 -89.0 -90.0\n",
       "  * time       (time) datetime64[ns] 2018-04-28 ... 2018-05-02T23:00:00\n",
       "Attributes:\n",
       "    units:      m s**-1\n",
       "    long_name:  10 metre wind gust since previous post-processing"
      ]
     },
     "execution_count": 5,
     "metadata": {},
     "output_type": "execute_result"
    }
   ],
   "source": [
    "ds_nc.fg10"
   ]
  },
  {
   "cell_type": "code",
   "execution_count": 6,
   "metadata": {
    "slideshow": {
     "slide_type": "subslide"
    }
   },
   "outputs": [
    {
     "data": {
      "text/plain": [
       "<xarray.DataArray 'fg10' (time: 11, step: 12, latitude: 181, longitude: 360)>\n",
       "[8601120 values with dtype=float32]\n",
       "Coordinates:\n",
       "    number      int64 ...\n",
       "  * time        (time) datetime64[ns] 2018-04-27T18:00:00 ... 2018-05-02T18:00:00\n",
       "  * step        (step) timedelta64[ns] 01:00:00 02:00:00 ... 11:00:00 12:00:00\n",
       "    surface     int64 ...\n",
       "  * latitude    (latitude) float64 90.0 89.0 88.0 87.0 ... -88.0 -89.0 -90.0\n",
       "  * longitude   (longitude) float64 0.0 1.0 2.0 3.0 ... 356.0 357.0 358.0 359.0\n",
       "    valid_time  (time, step) datetime64[ns] ...\n",
       "Attributes:\n",
       "    GRIB_paramId:                             49\n",
       "    GRIB_shortName:                           10fg\n",
       "    GRIB_units:                               m s**-1\n",
       "    GRIB_name:                                10 metre wind gust since previo...\n",
       "    GRIB_cfVarName:                           fg10\n",
       "    GRIB_dataType:                            fc\n",
       "    GRIB_missingValue:                        9999\n",
       "    GRIB_numberOfPoints:                      65160\n",
       "    GRIB_totalNumber:                         0\n",
       "    GRIB_typeOfLevel:                         surface\n",
       "    GRIB_NV:                                  0\n",
       "    GRIB_stepUnits:                           1\n",
       "    GRIB_stepType:                            max\n",
       "    GRIB_gridType:                            regular_ll\n",
       "    GRIB_gridDefinitionDescription:           Latitude/Longitude Grid\n",
       "    GRIB_Nx:                                  360\n",
       "    GRIB_iDirectionIncrementInDegrees:        1.0\n",
       "    GRIB_iScansNegatively:                    0\n",
       "    GRIB_longitudeOfFirstGridPointInDegrees:  0.0\n",
       "    GRIB_longitudeOfLastGridPointInDegrees:   359.0\n",
       "    GRIB_Ny:                                  181\n",
       "    GRIB_jDirectionIncrementInDegrees:        1.0\n",
       "    GRIB_jPointsAreConsecutive:               0\n",
       "    GRIB_jScansPositively:                    0\n",
       "    GRIB_latitudeOfFirstGridPointInDegrees:   90.0\n",
       "    GRIB_latitudeOfLastGridPointInDegrees:    -90.0\n",
       "    long_name:                                10 metre wind gust since previo...\n",
       "    units:                                    m s**-1"
      ]
     },
     "execution_count": 6,
     "metadata": {},
     "output_type": "execute_result"
    }
   ],
   "source": [
    "ds_grib.fg10"
   ]
  },
  {
   "cell_type": "markdown",
   "metadata": {
    "slideshow": {
     "slide_type": "slide"
    }
   },
   "source": [
    "Let's convert to pandas dataframe just to see what our data actually looks like. We will not be doing any calculations using pandas."
   ]
  },
  {
   "cell_type": "code",
   "execution_count": 7,
   "metadata": {
    "slideshow": {
     "slide_type": "fragment"
    }
   },
   "outputs": [
    {
     "data": {
      "text/html": [
       "<div>\n",
       "<style scoped>\n",
       "    .dataframe tbody tr th:only-of-type {\n",
       "        vertical-align: middle;\n",
       "    }\n",
       "\n",
       "    .dataframe tbody tr th {\n",
       "        vertical-align: top;\n",
       "    }\n",
       "\n",
       "    .dataframe thead th {\n",
       "        text-align: right;\n",
       "    }\n",
       "</style>\n",
       "<table border=\"1\" class=\"dataframe\">\n",
       "  <thead>\n",
       "    <tr style=\"text-align: right;\">\n",
       "      <th></th>\n",
       "      <th></th>\n",
       "      <th></th>\n",
       "      <th>fg10</th>\n",
       "      <th>mx2t</th>\n",
       "      <th>mn2t</th>\n",
       "    </tr>\n",
       "    <tr>\n",
       "      <th>latitude</th>\n",
       "      <th>longitude</th>\n",
       "      <th>time</th>\n",
       "      <th></th>\n",
       "      <th></th>\n",
       "      <th></th>\n",
       "    </tr>\n",
       "  </thead>\n",
       "  <tbody>\n",
       "    <tr>\n",
       "      <th rowspan=\"15\" valign=\"top\">90.0</th>\n",
       "      <th rowspan=\"15\" valign=\"top\">0.0</th>\n",
       "      <th>2018-04-28 00:00:00</th>\n",
       "      <td>5.117364</td>\n",
       "      <td>256.036438</td>\n",
       "      <td>256.028870</td>\n",
       "    </tr>\n",
       "    <tr>\n",
       "      <th>2018-04-28 01:00:00</th>\n",
       "      <td>5.044372</td>\n",
       "      <td>256.047302</td>\n",
       "      <td>256.037933</td>\n",
       "    </tr>\n",
       "    <tr>\n",
       "      <th>2018-04-28 02:00:00</th>\n",
       "      <td>4.901329</td>\n",
       "      <td>256.081757</td>\n",
       "      <td>256.048828</td>\n",
       "    </tr>\n",
       "    <tr>\n",
       "      <th>2018-04-28 03:00:00</th>\n",
       "      <td>4.702953</td>\n",
       "      <td>256.130676</td>\n",
       "      <td>256.090515</td>\n",
       "    </tr>\n",
       "    <tr>\n",
       "      <th>2018-04-28 04:00:00</th>\n",
       "      <td>4.396266</td>\n",
       "      <td>256.226746</td>\n",
       "      <td>256.137665</td>\n",
       "    </tr>\n",
       "    <tr>\n",
       "      <th>2018-04-28 05:00:00</th>\n",
       "      <td>4.170224</td>\n",
       "      <td>256.288361</td>\n",
       "      <td>256.242798</td>\n",
       "    </tr>\n",
       "    <tr>\n",
       "      <th>2018-04-28 06:00:00</th>\n",
       "      <td>3.981267</td>\n",
       "      <td>256.440613</td>\n",
       "      <td>256.300842</td>\n",
       "    </tr>\n",
       "    <tr>\n",
       "      <th>2018-04-28 07:00:00</th>\n",
       "      <td>3.639850</td>\n",
       "      <td>256.241241</td>\n",
       "      <td>256.184784</td>\n",
       "    </tr>\n",
       "    <tr>\n",
       "      <th>2018-04-28 08:00:00</th>\n",
       "      <td>3.364948</td>\n",
       "      <td>256.301056</td>\n",
       "      <td>256.246429</td>\n",
       "    </tr>\n",
       "    <tr>\n",
       "      <th>2018-04-28 09:00:00</th>\n",
       "      <td>3.085928</td>\n",
       "      <td>256.453308</td>\n",
       "      <td>256.313507</td>\n",
       "    </tr>\n",
       "    <tr>\n",
       "      <th>2018-04-28 10:00:00</th>\n",
       "      <td>2.783951</td>\n",
       "      <td>256.551178</td>\n",
       "      <td>256.476685</td>\n",
       "    </tr>\n",
       "    <tr>\n",
       "      <th>2018-04-28 11:00:00</th>\n",
       "      <td>2.456659</td>\n",
       "      <td>256.770477</td>\n",
       "      <td>256.570984</td>\n",
       "    </tr>\n",
       "    <tr>\n",
       "      <th>2018-04-28 12:00:00</th>\n",
       "      <td>2.248867</td>\n",
       "      <td>256.935425</td>\n",
       "      <td>256.804871</td>\n",
       "    </tr>\n",
       "    <tr>\n",
       "      <th>2018-04-28 13:00:00</th>\n",
       "      <td>2.115831</td>\n",
       "      <td>257.107605</td>\n",
       "      <td>256.968048</td>\n",
       "    </tr>\n",
       "    <tr>\n",
       "      <th>2018-04-28 14:00:00</th>\n",
       "      <td>2.305965</td>\n",
       "      <td>257.194611</td>\n",
       "      <td>257.129395</td>\n",
       "    </tr>\n",
       "  </tbody>\n",
       "</table>\n",
       "</div>"
      ],
      "text/plain": [
       "                                            fg10        mx2t        mn2t\n",
       "latitude longitude time                                                 \n",
       "90.0     0.0       2018-04-28 00:00:00  5.117364  256.036438  256.028870\n",
       "                   2018-04-28 01:00:00  5.044372  256.047302  256.037933\n",
       "                   2018-04-28 02:00:00  4.901329  256.081757  256.048828\n",
       "                   2018-04-28 03:00:00  4.702953  256.130676  256.090515\n",
       "                   2018-04-28 04:00:00  4.396266  256.226746  256.137665\n",
       "                   2018-04-28 05:00:00  4.170224  256.288361  256.242798\n",
       "                   2018-04-28 06:00:00  3.981267  256.440613  256.300842\n",
       "                   2018-04-28 07:00:00  3.639850  256.241241  256.184784\n",
       "                   2018-04-28 08:00:00  3.364948  256.301056  256.246429\n",
       "                   2018-04-28 09:00:00  3.085928  256.453308  256.313507\n",
       "                   2018-04-28 10:00:00  2.783951  256.551178  256.476685\n",
       "                   2018-04-28 11:00:00  2.456659  256.770477  256.570984\n",
       "                   2018-04-28 12:00:00  2.248867  256.935425  256.804871\n",
       "                   2018-04-28 13:00:00  2.115831  257.107605  256.968048\n",
       "                   2018-04-28 14:00:00  2.305965  257.194611  257.129395"
      ]
     },
     "execution_count": 7,
     "metadata": {},
     "output_type": "execute_result"
    }
   ],
   "source": [
    "ds_nc.to_dataframe().head(15)"
   ]
  },
  {
   "cell_type": "code",
   "execution_count": 8,
   "metadata": {
    "slideshow": {
     "slide_type": "slide"
    }
   },
   "outputs": [
    {
     "data": {
      "text/html": [
       "<div>\n",
       "<style scoped>\n",
       "    .dataframe tbody tr th:only-of-type {\n",
       "        vertical-align: middle;\n",
       "    }\n",
       "\n",
       "    .dataframe tbody tr th {\n",
       "        vertical-align: top;\n",
       "    }\n",
       "\n",
       "    .dataframe thead th {\n",
       "        text-align: right;\n",
       "    }\n",
       "</style>\n",
       "<table border=\"1\" class=\"dataframe\">\n",
       "  <thead>\n",
       "    <tr style=\"text-align: right;\">\n",
       "      <th></th>\n",
       "      <th></th>\n",
       "      <th></th>\n",
       "      <th></th>\n",
       "      <th>number</th>\n",
       "      <th>surface</th>\n",
       "      <th>valid_time</th>\n",
       "      <th>fg10</th>\n",
       "      <th>mx2t</th>\n",
       "      <th>mn2t</th>\n",
       "    </tr>\n",
       "    <tr>\n",
       "      <th>latitude</th>\n",
       "      <th>longitude</th>\n",
       "      <th>step</th>\n",
       "      <th>time</th>\n",
       "      <th></th>\n",
       "      <th></th>\n",
       "      <th></th>\n",
       "      <th></th>\n",
       "      <th></th>\n",
       "      <th></th>\n",
       "    </tr>\n",
       "  </thead>\n",
       "  <tbody>\n",
       "    <tr>\n",
       "      <th rowspan=\"15\" valign=\"top\">90.0</th>\n",
       "      <th rowspan=\"15\" valign=\"top\">0.0</th>\n",
       "      <th rowspan=\"11\" valign=\"top\">01:00:00</th>\n",
       "      <th>2018-04-27 18:00:00</th>\n",
       "      <td>0</td>\n",
       "      <td>0</td>\n",
       "      <td>2018-04-27 19:00:00</td>\n",
       "      <td>NaN</td>\n",
       "      <td>NaN</td>\n",
       "      <td>NaN</td>\n",
       "    </tr>\n",
       "    <tr>\n",
       "      <th>2018-04-28 06:00:00</th>\n",
       "      <td>0</td>\n",
       "      <td>0</td>\n",
       "      <td>2018-04-28 07:00:00</td>\n",
       "      <td>3.639782</td>\n",
       "      <td>256.240417</td>\n",
       "      <td>256.185059</td>\n",
       "    </tr>\n",
       "    <tr>\n",
       "      <th>2018-04-28 18:00:00</th>\n",
       "      <td>0</td>\n",
       "      <td>0</td>\n",
       "      <td>2018-04-28 19:00:00</td>\n",
       "      <td>2.743057</td>\n",
       "      <td>258.047791</td>\n",
       "      <td>257.945129</td>\n",
       "    </tr>\n",
       "    <tr>\n",
       "      <th>2018-04-29 06:00:00</th>\n",
       "      <td>0</td>\n",
       "      <td>0</td>\n",
       "      <td>2018-04-29 07:00:00</td>\n",
       "      <td>4.606690</td>\n",
       "      <td>260.090515</td>\n",
       "      <td>259.866028</td>\n",
       "    </tr>\n",
       "    <tr>\n",
       "      <th>2018-04-29 18:00:00</th>\n",
       "      <td>0</td>\n",
       "      <td>0</td>\n",
       "      <td>2018-04-29 19:00:00</td>\n",
       "      <td>4.943463</td>\n",
       "      <td>260.620819</td>\n",
       "      <td>260.568359</td>\n",
       "    </tr>\n",
       "    <tr>\n",
       "      <th>2018-04-30 06:00:00</th>\n",
       "      <td>0</td>\n",
       "      <td>0</td>\n",
       "      <td>2018-04-30 07:00:00</td>\n",
       "      <td>3.737045</td>\n",
       "      <td>260.501373</td>\n",
       "      <td>260.436096</td>\n",
       "    </tr>\n",
       "    <tr>\n",
       "      <th>2018-04-30 18:00:00</th>\n",
       "      <td>0</td>\n",
       "      <td>0</td>\n",
       "      <td>2018-04-30 19:00:00</td>\n",
       "      <td>2.514566</td>\n",
       "      <td>261.093140</td>\n",
       "      <td>261.049194</td>\n",
       "    </tr>\n",
       "    <tr>\n",
       "      <th>2018-05-01 06:00:00</th>\n",
       "      <td>0</td>\n",
       "      <td>0</td>\n",
       "      <td>2018-05-01 07:00:00</td>\n",
       "      <td>1.332501</td>\n",
       "      <td>260.327148</td>\n",
       "      <td>260.283569</td>\n",
       "    </tr>\n",
       "    <tr>\n",
       "      <th>2018-05-01 18:00:00</th>\n",
       "      <td>0</td>\n",
       "      <td>0</td>\n",
       "      <td>2018-05-01 19:00:00</td>\n",
       "      <td>3.969260</td>\n",
       "      <td>259.037323</td>\n",
       "      <td>258.934875</td>\n",
       "    </tr>\n",
       "    <tr>\n",
       "      <th>2018-05-02 06:00:00</th>\n",
       "      <td>0</td>\n",
       "      <td>0</td>\n",
       "      <td>2018-05-02 07:00:00</td>\n",
       "      <td>9.522531</td>\n",
       "      <td>260.912720</td>\n",
       "      <td>260.318237</td>\n",
       "    </tr>\n",
       "    <tr>\n",
       "      <th>2018-05-02 18:00:00</th>\n",
       "      <td>0</td>\n",
       "      <td>0</td>\n",
       "      <td>2018-05-02 19:00:00</td>\n",
       "      <td>7.866532</td>\n",
       "      <td>265.369232</td>\n",
       "      <td>265.090179</td>\n",
       "    </tr>\n",
       "    <tr>\n",
       "      <th rowspan=\"4\" valign=\"top\">02:00:00</th>\n",
       "      <th>2018-04-27 18:00:00</th>\n",
       "      <td>0</td>\n",
       "      <td>0</td>\n",
       "      <td>2018-04-27 20:00:00</td>\n",
       "      <td>NaN</td>\n",
       "      <td>NaN</td>\n",
       "      <td>NaN</td>\n",
       "    </tr>\n",
       "    <tr>\n",
       "      <th>2018-04-28 06:00:00</th>\n",
       "      <td>0</td>\n",
       "      <td>0</td>\n",
       "      <td>2018-04-28 08:00:00</td>\n",
       "      <td>3.365197</td>\n",
       "      <td>256.301270</td>\n",
       "      <td>256.247131</td>\n",
       "    </tr>\n",
       "    <tr>\n",
       "      <th>2018-04-28 18:00:00</th>\n",
       "      <td>0</td>\n",
       "      <td>0</td>\n",
       "      <td>2018-04-28 20:00:00</td>\n",
       "      <td>3.095178</td>\n",
       "      <td>258.146057</td>\n",
       "      <td>258.068848</td>\n",
       "    </tr>\n",
       "    <tr>\n",
       "      <th>2018-04-29 06:00:00</th>\n",
       "      <td>0</td>\n",
       "      <td>0</td>\n",
       "      <td>2018-04-29 08:00:00</td>\n",
       "      <td>4.645340</td>\n",
       "      <td>260.299500</td>\n",
       "      <td>260.139374</td>\n",
       "    </tr>\n",
       "  </tbody>\n",
       "</table>\n",
       "</div>"
      ],
      "text/plain": [
       "                                                 number  surface  \\\n",
       "latitude longitude step     time                                   \n",
       "90.0     0.0       01:00:00 2018-04-27 18:00:00       0        0   \n",
       "                            2018-04-28 06:00:00       0        0   \n",
       "                            2018-04-28 18:00:00       0        0   \n",
       "                            2018-04-29 06:00:00       0        0   \n",
       "                            2018-04-29 18:00:00       0        0   \n",
       "                            2018-04-30 06:00:00       0        0   \n",
       "                            2018-04-30 18:00:00       0        0   \n",
       "                            2018-05-01 06:00:00       0        0   \n",
       "                            2018-05-01 18:00:00       0        0   \n",
       "                            2018-05-02 06:00:00       0        0   \n",
       "                            2018-05-02 18:00:00       0        0   \n",
       "                   02:00:00 2018-04-27 18:00:00       0        0   \n",
       "                            2018-04-28 06:00:00       0        0   \n",
       "                            2018-04-28 18:00:00       0        0   \n",
       "                            2018-04-29 06:00:00       0        0   \n",
       "\n",
       "                                                         valid_time      fg10  \\\n",
       "latitude longitude step     time                                                \n",
       "90.0     0.0       01:00:00 2018-04-27 18:00:00 2018-04-27 19:00:00       NaN   \n",
       "                            2018-04-28 06:00:00 2018-04-28 07:00:00  3.639782   \n",
       "                            2018-04-28 18:00:00 2018-04-28 19:00:00  2.743057   \n",
       "                            2018-04-29 06:00:00 2018-04-29 07:00:00  4.606690   \n",
       "                            2018-04-29 18:00:00 2018-04-29 19:00:00  4.943463   \n",
       "                            2018-04-30 06:00:00 2018-04-30 07:00:00  3.737045   \n",
       "                            2018-04-30 18:00:00 2018-04-30 19:00:00  2.514566   \n",
       "                            2018-05-01 06:00:00 2018-05-01 07:00:00  1.332501   \n",
       "                            2018-05-01 18:00:00 2018-05-01 19:00:00  3.969260   \n",
       "                            2018-05-02 06:00:00 2018-05-02 07:00:00  9.522531   \n",
       "                            2018-05-02 18:00:00 2018-05-02 19:00:00  7.866532   \n",
       "                   02:00:00 2018-04-27 18:00:00 2018-04-27 20:00:00       NaN   \n",
       "                            2018-04-28 06:00:00 2018-04-28 08:00:00  3.365197   \n",
       "                            2018-04-28 18:00:00 2018-04-28 20:00:00  3.095178   \n",
       "                            2018-04-29 06:00:00 2018-04-29 08:00:00  4.645340   \n",
       "\n",
       "                                                       mx2t        mn2t  \n",
       "latitude longitude step     time                                         \n",
       "90.0     0.0       01:00:00 2018-04-27 18:00:00         NaN         NaN  \n",
       "                            2018-04-28 06:00:00  256.240417  256.185059  \n",
       "                            2018-04-28 18:00:00  258.047791  257.945129  \n",
       "                            2018-04-29 06:00:00  260.090515  259.866028  \n",
       "                            2018-04-29 18:00:00  260.620819  260.568359  \n",
       "                            2018-04-30 06:00:00  260.501373  260.436096  \n",
       "                            2018-04-30 18:00:00  261.093140  261.049194  \n",
       "                            2018-05-01 06:00:00  260.327148  260.283569  \n",
       "                            2018-05-01 18:00:00  259.037323  258.934875  \n",
       "                            2018-05-02 06:00:00  260.912720  260.318237  \n",
       "                            2018-05-02 18:00:00  265.369232  265.090179  \n",
       "                   02:00:00 2018-04-27 18:00:00         NaN         NaN  \n",
       "                            2018-04-28 06:00:00  256.301270  256.247131  \n",
       "                            2018-04-28 18:00:00  258.146057  258.068848  \n",
       "                            2018-04-29 06:00:00  260.299500  260.139374  "
      ]
     },
     "execution_count": 8,
     "metadata": {},
     "output_type": "execute_result"
    }
   ],
   "source": [
    "ds_grib.to_dataframe().head(15)"
   ]
  },
  {
   "cell_type": "markdown",
   "metadata": {
    "slideshow": {
     "slide_type": "slide"
    }
   },
   "source": [
    "## Selecting a subarea\n",
    "Data downloaded from Web download service is always global. Using the CDSAPI we can retrieve smaller area, but if we already have a global field we can select the subarea using the **sel()** method.  \n",
    "Using the same method we can select any dimension.  We can select only one point or all the points between the interval.\n",
    "\n",
    "In this example we will select the subarea and one time step so we can plot it to check the area."
   ]
  },
  {
   "cell_type": "code",
   "execution_count": 9,
   "metadata": {
    "slideshow": {
     "slide_type": "fragment"
    }
   },
   "outputs": [
    {
     "data": {
      "text/plain": [
       "<matplotlib.collections.QuadMesh at 0x7f01097c5e80>"
      ]
     },
     "execution_count": 9,
     "metadata": {},
     "output_type": "execute_result"
    },
    {
     "data": {
      "image/png": "[encoded data removed]",
      "text/plain": [
       "<Figure size 432x288 with 2 Axes>"
      ]
     },
     "metadata": {
      "needs_background": "light"
     },
     "output_type": "display_data"
    }
   ],
   "source": [
    "europe = ds_nc.sel(latitude=slice(50,30), longitude=slice(180,240))\n",
    "europe_one_day = europe.sel(time='2018-05-01T23:00:00')\n",
    "europe_one_day.fg10.plot()"
   ]
  },
  {
   "cell_type": "markdown",
   "metadata": {
    "slideshow": {
     "slide_type": "slide"
    }
   },
   "source": [
    "## Calculating daily data\n",
    "ERA5 data has hourly data, and we might need to calculate daily mean, minimum and maximum temperatures, or daily sum of precipitation. Xarray has handy method **resample** which does this for us with one line of code.  \n",
    "However it only works on time dimension, and in the GRIB files from previous example time dimension is actually start of the forecast, which is every day at 6 and 18 UTC. This is why it would not be trivial to resample data from hourly to daily.  \n",
    "We will start with some simpler dataset."
   ]
  },
  {
   "cell_type": "markdown",
   "metadata": {
    "slideshow": {
     "slide_type": "slide"
    }
   },
   "source": [
    "We will first calculate daily mean of all four parameters in our dataset."
   ]
  },
  {
   "cell_type": "code",
   "execution_count": 10,
   "metadata": {
    "slideshow": {
     "slide_type": "fragment"
    }
   },
   "outputs": [
    {
     "data": {
      "text/plain": [
       "<xarray.Dataset>\n",
       "Dimensions:    (latitude: 69, longitude: 141, time: 168)\n",
       "Coordinates:\n",
       "  * longitude  (longitude) float32 -10.0 -9.75 -9.5 -9.25 ... 24.5 24.75 25.0\n",
       "  * latitude   (latitude) float32 52.0 51.75 51.5 51.25 ... 35.5 35.25 35.0\n",
       "  * time       (time) datetime64[ns] 2010-09-03 ... 2010-09-09T23:00:00\n",
       "Data variables:\n",
       "    u10        (time, latitude, longitude) float32 ...\n",
       "    v10        (time, latitude, longitude) float32 ...\n",
       "    t2m        (time, latitude, longitude) float32 ...\n",
       "    deg0l      (time, latitude, longitude) float32 ...\n",
       "Attributes:\n",
       "    Conventions:  CF-1.6\n",
       "    history:      2019-09-02 20:56:38 GMT by grib_to_netcdf-2.10.0: /opt/ecmw..."
      ]
     },
     "execution_count": 10,
     "metadata": {},
     "output_type": "execute_result"
    }
   ],
   "source": [
    "ds_simple = xr.open_dataset('data/weather/simple_data.nc')\n",
    "ds_simple"
   ]
  },
  {
   "cell_type": "code",
   "execution_count": 11,
   "metadata": {
    "slideshow": {
     "slide_type": "fragment"
    }
   },
   "outputs": [
    {
     "data": {
      "text/plain": [
       "<xarray.Dataset>\n",
       "Dimensions:    (latitude: 69, longitude: 141, time: 7)\n",
       "Coordinates:\n",
       "  * time       (time) datetime64[ns] 2010-09-03 2010-09-04 ... 2010-09-09\n",
       "  * longitude  (longitude) float32 -10.0 -9.75 -9.5 -9.25 ... 24.5 24.75 25.0\n",
       "  * latitude   (latitude) float32 52.0 51.75 51.5 51.25 ... 35.5 35.25 35.0\n",
       "Data variables:\n",
       "    u10        (time, latitude, longitude) float32 -2.9323006 ... 1.0879999\n",
       "    v10        (time, latitude, longitude) float32 4.1682754 ... -0.41435847\n",
       "    t2m        (time, latitude, longitude) float32 289.1931 ... 297.75415\n",
       "    deg0l      (time, latitude, longitude) float32 4086.2888 ... 4548.3745"
      ]
     },
     "execution_count": 11,
     "metadata": {},
     "output_type": "execute_result"
    }
   ],
   "source": [
    "mean_ds = ds_simple.resample(time='D').mean()\n",
    "mean_ds"
   ]
  },
  {
   "cell_type": "markdown",
   "metadata": {
    "slideshow": {
     "slide_type": "slide"
    }
   },
   "source": [
    "### Resampling individual variables\n",
    "In reality we might not want to calculate same things for all variables. Let's calculate minimum of T2m.  \n",
    "And to convert to Celsius on the fly.  \n",
    "\n",
    "When using resample on individual variables, we need to tell xarray on which dimension to calculate minimum. Otherwise it will calculate it for all dimensions. And we only want it on time, not latitudes or longitudes."
   ]
  },
  {
   "cell_type": "code",
   "execution_count": 12,
   "metadata": {
    "scrolled": true,
    "slideshow": {
     "slide_type": "fragment"
    }
   },
   "outputs": [
    {
     "data": {
      "text/plain": [
       "<xarray.DataArray 't2m' (time: 7, latitude: 69, longitude: 141)>\n",
       "array([[[13.426636, 12.586487, ...,  6.784058,  6.725464],\n",
       "        [14.31955 , 13.377716, ...,  7.046082,  6.997131],\n",
       "        ...,\n",
       "        [21.507416, 21.616882, ..., 18.09021 , 18.39151 ],\n",
       "        [21.53897 , 21.677399, ..., 22.352081, 20.66278 ]],\n",
       "\n",
       "       [[12.831787, 12.704956, ...,  4.174774,  4.155487],\n",
       "        [13.67514 , 12.777039, ...,  4.088531,  4.114258],\n",
       "        ...,\n",
       "        [22.02182 , 22.227814, ..., 18.37799 , 18.184204],\n",
       "        [22.16153 , 22.354645, ..., 23.012604, 20.815369]],\n",
       "\n",
       "       ...,\n",
       "\n",
       "       [[12.573608, 11.48819 , ...,  8.540955,  8.388367],\n",
       "        [13.592712, 12.556244, ...,  8.550598,  8.421844],\n",
       "        ...,\n",
       "        [21.42694 , 21.3703  , ..., 19.285095, 19.474365],\n",
       "        [21.53189 , 21.500977, ..., 23.270111, 21.956787]],\n",
       "\n",
       "       [[11.704498, 10.534088, ...,  7.328033,  7.208954],\n",
       "        [13.28241 , 11.913727, ...,  7.358948,  7.235992],\n",
       "        ...,\n",
       "        [21.3143  , 21.450775, ..., 18.318756, 18.07605 ],\n",
       "        [21.411499, 21.497772, ..., 23.264954, 20.081451]]], dtype=float32)\n",
       "Coordinates:\n",
       "  * time       (time) datetime64[ns] 2010-09-03 2010-09-04 ... 2010-09-09\n",
       "  * longitude  (longitude) float32 -10.0 -9.75 -9.5 -9.25 ... 24.5 24.75 25.0\n",
       "  * latitude   (latitude) float32 52.0 51.75 51.5 51.25 ... 35.5 35.25 35.0"
      ]
     },
     "execution_count": 12,
     "metadata": {},
     "output_type": "execute_result"
    }
   ],
   "source": [
    "min_t = ds_simple.t2m.resample(time='D').min('time')-273.15\n",
    "min_t"
   ]
  },
  {
   "cell_type": "markdown",
   "metadata": {
    "slideshow": {
     "slide_type": "slide"
    }
   },
   "source": [
    "It seems like this converted our data to DataArray. Just to to_dataset() to get the data back as Xarray Dataset"
   ]
  },
  {
   "cell_type": "code",
   "execution_count": 13,
   "metadata": {
    "slideshow": {
     "slide_type": "fragment"
    }
   },
   "outputs": [
    {
     "data": {
      "text/plain": [
       "<xarray.Dataset>\n",
       "Dimensions:    (latitude: 69, longitude: 141, time: 7)\n",
       "Coordinates:\n",
       "  * time       (time) datetime64[ns] 2010-09-03 2010-09-04 ... 2010-09-09\n",
       "  * longitude  (longitude) float32 -10.0 -9.75 -9.5 -9.25 ... 24.5 24.75 25.0\n",
       "  * latitude   (latitude) float32 52.0 51.75 51.5 51.25 ... 35.5 35.25 35.0\n",
       "Data variables:\n",
       "    t2m        (time, latitude, longitude) float32 13.426636 ... 20.081451"
      ]
     },
     "execution_count": 13,
     "metadata": {},
     "output_type": "execute_result"
    }
   ],
   "source": [
    "min_t_ds = min_t.to_dataset()\n",
    "min_t_ds"
   ]
  },
  {
   "cell_type": "markdown",
   "metadata": {
    "slideshow": {
     "slide_type": "slide"
    }
   },
   "source": [
    "We should check if this did what we wanted. We should get the same thing if we now select one point and check the data as if we first select the point and then do resampling."
   ]
  },
  {
   "cell_type": "code",
   "execution_count": 14,
   "metadata": {
    "slideshow": {
     "slide_type": "fragment"
    }
   },
   "outputs": [
    {
     "data": {
      "text/html": [
       "<div>\n",
       "<style scoped>\n",
       "    .dataframe tbody tr th:only-of-type {\n",
       "        vertical-align: middle;\n",
       "    }\n",
       "\n",
       "    .dataframe tbody tr th {\n",
       "        vertical-align: top;\n",
       "    }\n",
       "\n",
       "    .dataframe thead th {\n",
       "        text-align: right;\n",
       "    }\n",
       "</style>\n",
       "<table border=\"1\" class=\"dataframe\">\n",
       "  <thead>\n",
       "    <tr style=\"text-align: right;\">\n",
       "      <th></th>\n",
       "      <th>longitude</th>\n",
       "      <th>latitude</th>\n",
       "      <th>t2m</th>\n",
       "    </tr>\n",
       "    <tr>\n",
       "      <th>time</th>\n",
       "      <th></th>\n",
       "      <th></th>\n",
       "      <th></th>\n",
       "    </tr>\n",
       "  </thead>\n",
       "  <tbody>\n",
       "    <tr>\n",
       "      <th>2010-09-03</th>\n",
       "      <td>0.0</td>\n",
       "      <td>51.5</td>\n",
       "      <td>10.635162</td>\n",
       "    </tr>\n",
       "    <tr>\n",
       "      <th>2010-09-04</th>\n",
       "      <td>0.0</td>\n",
       "      <td>51.5</td>\n",
       "      <td>9.557465</td>\n",
       "    </tr>\n",
       "    <tr>\n",
       "      <th>2010-09-05</th>\n",
       "      <td>0.0</td>\n",
       "      <td>51.5</td>\n",
       "      <td>12.598083</td>\n",
       "    </tr>\n",
       "    <tr>\n",
       "      <th>2010-09-06</th>\n",
       "      <td>0.0</td>\n",
       "      <td>51.5</td>\n",
       "      <td>13.395721</td>\n",
       "    </tr>\n",
       "    <tr>\n",
       "      <th>2010-09-07</th>\n",
       "      <td>0.0</td>\n",
       "      <td>51.5</td>\n",
       "      <td>12.451294</td>\n",
       "    </tr>\n",
       "    <tr>\n",
       "      <th>2010-09-08</th>\n",
       "      <td>0.0</td>\n",
       "      <td>51.5</td>\n",
       "      <td>12.484772</td>\n",
       "    </tr>\n",
       "    <tr>\n",
       "      <th>2010-09-09</th>\n",
       "      <td>0.0</td>\n",
       "      <td>51.5</td>\n",
       "      <td>12.153229</td>\n",
       "    </tr>\n",
       "  </tbody>\n",
       "</table>\n",
       "</div>"
      ],
      "text/plain": [
       "            longitude  latitude        t2m\n",
       "time                                      \n",
       "2010-09-03        0.0      51.5  10.635162\n",
       "2010-09-04        0.0      51.5   9.557465\n",
       "2010-09-05        0.0      51.5  12.598083\n",
       "2010-09-06        0.0      51.5  13.395721\n",
       "2010-09-07        0.0      51.5  12.451294\n",
       "2010-09-08        0.0      51.5  12.484772\n",
       "2010-09-09        0.0      51.5  12.153229"
      ]
     },
     "execution_count": 14,
     "metadata": {},
     "output_type": "execute_result"
    }
   ],
   "source": [
    "A = min_t_ds.sel(latitude=51.5, longitude = 0.12, method='nearest')\n",
    "A.to_dataframe()"
   ]
  },
  {
   "cell_type": "code",
   "execution_count": 15,
   "metadata": {
    "slideshow": {
     "slide_type": "subslide"
    }
   },
   "outputs": [
    {
     "data": {
      "text/html": [
       "<div>\n",
       "<style scoped>\n",
       "    .dataframe tbody tr th:only-of-type {\n",
       "        vertical-align: middle;\n",
       "    }\n",
       "\n",
       "    .dataframe tbody tr th {\n",
       "        vertical-align: top;\n",
       "    }\n",
       "\n",
       "    .dataframe thead th {\n",
       "        text-align: right;\n",
       "    }\n",
       "</style>\n",
       "<table border=\"1\" class=\"dataframe\">\n",
       "  <thead>\n",
       "    <tr style=\"text-align: right;\">\n",
       "      <th></th>\n",
       "      <th>longitude</th>\n",
       "      <th>latitude</th>\n",
       "      <th>t2m</th>\n",
       "    </tr>\n",
       "    <tr>\n",
       "      <th>time</th>\n",
       "      <th></th>\n",
       "      <th></th>\n",
       "      <th></th>\n",
       "    </tr>\n",
       "  </thead>\n",
       "  <tbody>\n",
       "    <tr>\n",
       "      <th>2010-09-03</th>\n",
       "      <td>0.0</td>\n",
       "      <td>51.5</td>\n",
       "      <td>10.635162</td>\n",
       "    </tr>\n",
       "    <tr>\n",
       "      <th>2010-09-04</th>\n",
       "      <td>0.0</td>\n",
       "      <td>51.5</td>\n",
       "      <td>9.557465</td>\n",
       "    </tr>\n",
       "    <tr>\n",
       "      <th>2010-09-05</th>\n",
       "      <td>0.0</td>\n",
       "      <td>51.5</td>\n",
       "      <td>12.598083</td>\n",
       "    </tr>\n",
       "    <tr>\n",
       "      <th>2010-09-06</th>\n",
       "      <td>0.0</td>\n",
       "      <td>51.5</td>\n",
       "      <td>13.395721</td>\n",
       "    </tr>\n",
       "    <tr>\n",
       "      <th>2010-09-07</th>\n",
       "      <td>0.0</td>\n",
       "      <td>51.5</td>\n",
       "      <td>12.451294</td>\n",
       "    </tr>\n",
       "    <tr>\n",
       "      <th>2010-09-08</th>\n",
       "      <td>0.0</td>\n",
       "      <td>51.5</td>\n",
       "      <td>12.484772</td>\n",
       "    </tr>\n",
       "    <tr>\n",
       "      <th>2010-09-09</th>\n",
       "      <td>0.0</td>\n",
       "      <td>51.5</td>\n",
       "      <td>12.153229</td>\n",
       "    </tr>\n",
       "  </tbody>\n",
       "</table>\n",
       "</div>"
      ],
      "text/plain": [
       "            longitude  latitude        t2m\n",
       "time                                      \n",
       "2010-09-03        0.0      51.5  10.635162\n",
       "2010-09-04        0.0      51.5   9.557465\n",
       "2010-09-05        0.0      51.5  12.598083\n",
       "2010-09-06        0.0      51.5  13.395721\n",
       "2010-09-07        0.0      51.5  12.451294\n",
       "2010-09-08        0.0      51.5  12.484772\n",
       "2010-09-09        0.0      51.5  12.153229"
      ]
     },
     "execution_count": 15,
     "metadata": {},
     "output_type": "execute_result"
    }
   ],
   "source": [
    "B = ds_simple.t2m.sel(latitude=51.5, longitude = 0.12, method='nearest').resample(time='D').min()-273.15\n",
    "B.to_dataframe()"
   ]
  },
  {
   "cell_type": "markdown",
   "metadata": {
    "slideshow": {
     "slide_type": "slide"
    }
   },
   "source": [
    "Now that we know what we're doing, we can calculate the maximum of wind speed."
   ]
  },
  {
   "cell_type": "markdown",
   "metadata": {
    "slideshow": {
     "slide_type": "fragment"
    }
   },
   "source": [
    "But we need to calculate wind speed first."
   ]
  },
  {
   "cell_type": "code",
   "execution_count": 16,
   "metadata": {
    "slideshow": {
     "slide_type": "fragment"
    }
   },
   "outputs": [],
   "source": [
    "u = ds_simple.u10\n",
    "v = ds_simple.v10\n",
    "speed = xu.sqrt(u**2+v**2)"
   ]
  },
  {
   "cell_type": "markdown",
   "metadata": {
    "slideshow": {
     "slide_type": "slide"
    }
   },
   "source": [
    "And now we can calculate daily maximum speed and convert it back to dataset. \n",
    "We are renaming the resulting DataArray in order to convert it to dataset."
   ]
  },
  {
   "cell_type": "code",
   "execution_count": 17,
   "metadata": {
    "slideshow": {
     "slide_type": "fragment"
    }
   },
   "outputs": [
    {
     "data": {
      "text/plain": [
       "<xarray.Dataset>\n",
       "Dimensions:    (latitude: 69, longitude: 141, time: 7)\n",
       "Coordinates:\n",
       "  * time       (time) datetime64[ns] 2010-09-03 2010-09-04 ... 2010-09-09\n",
       "  * longitude  (longitude) float32 -10.0 -9.75 -9.5 -9.25 ... 24.5 24.75 25.0\n",
       "  * latitude   (latitude) float32 52.0 51.75 51.5 51.25 ... 35.5 35.25 35.0\n",
       "Data variables:\n",
       "    speed      (time, latitude, longitude) float32 6.132203 ... 4.0753055"
      ]
     },
     "execution_count": 17,
     "metadata": {},
     "output_type": "execute_result"
    }
   ],
   "source": [
    "daily_max_speed = speed.resample(time='D').max('time')\n",
    "daily_max_speed = daily_max_speed.rename('speed')\n",
    "daily_max_speed_ds = daily_max_speed.to_dataset()\n",
    "daily_max_speed_ds"
   ]
  },
  {
   "cell_type": "markdown",
   "metadata": {
    "slideshow": {
     "slide_type": "slide"
    }
   },
   "source": [
    "## But... accumulated, min/max and mean parameters are different"
   ]
  },
  {
   "cell_type": "markdown",
   "metadata": {
    "slideshow": {
     "slide_type": "slide"
    }
   },
   "source": [
    "Remember, values for these parameters are not at the specific time, but acumulated between two steps. Midnight is the first time in the day, and it contains the data from the last hour in the previous day.  \n",
    "This means, when calculating daily statistics using **'D'** it will belong to the wrong day."
   ]
  },
  {
   "cell_type": "markdown",
   "metadata": {
    "slideshow": {
     "slide_type": "slide"
    }
   },
   "source": [
    "We can correct this by removing the data for the first time step, at midnight on the first day. It belongs to previous day and we don't need it. From then, instead of using 'D' as frequency, we can use '24H'.  \n",
    "\n",
    "Using **where()** method we can filter out the first 00 step. Where() is very usefuly for filtering data. You can find more info in the [xarray documentation](http://xarray.pydata.org/en/stable/generated/xarray.DataArray.where.html)."
   ]
  },
  {
   "cell_type": "code",
   "execution_count": 18,
   "metadata": {
    "slideshow": {
     "slide_type": "fragment"
    }
   },
   "outputs": [],
   "source": [
    "condition = ds_nc.time > ds_nc.time[0]\n",
    "ds_nc_modified = ds_nc.where(condition, drop=True)"
   ]
  },
  {
   "cell_type": "code",
   "execution_count": 19,
   "metadata": {
    "slideshow": {
     "slide_type": "fragment"
    }
   },
   "outputs": [
    {
     "data": {
      "text/html": [
       "<div>\n",
       "<style scoped>\n",
       "    .dataframe tbody tr th:only-of-type {\n",
       "        vertical-align: middle;\n",
       "    }\n",
       "\n",
       "    .dataframe tbody tr th {\n",
       "        vertical-align: top;\n",
       "    }\n",
       "\n",
       "    .dataframe thead th {\n",
       "        text-align: right;\n",
       "    }\n",
       "</style>\n",
       "<table border=\"1\" class=\"dataframe\">\n",
       "  <thead>\n",
       "    <tr style=\"text-align: right;\">\n",
       "      <th></th>\n",
       "      <th>longitude</th>\n",
       "      <th>latitude</th>\n",
       "      <th>mn2t</th>\n",
       "    </tr>\n",
       "    <tr>\n",
       "      <th>time</th>\n",
       "      <th></th>\n",
       "      <th></th>\n",
       "      <th></th>\n",
       "    </tr>\n",
       "  </thead>\n",
       "  <tbody>\n",
       "    <tr>\n",
       "      <th>2018-04-28</th>\n",
       "      <td>0.0</td>\n",
       "      <td>52.0</td>\n",
       "      <td>6.523010</td>\n",
       "    </tr>\n",
       "    <tr>\n",
       "      <th>2018-04-29</th>\n",
       "      <td>0.0</td>\n",
       "      <td>52.0</td>\n",
       "      <td>6.142273</td>\n",
       "    </tr>\n",
       "    <tr>\n",
       "      <th>2018-04-30</th>\n",
       "      <td>0.0</td>\n",
       "      <td>52.0</td>\n",
       "      <td>4.827789</td>\n",
       "    </tr>\n",
       "    <tr>\n",
       "      <th>2018-05-01</th>\n",
       "      <td>0.0</td>\n",
       "      <td>52.0</td>\n",
       "      <td>2.739166</td>\n",
       "    </tr>\n",
       "    <tr>\n",
       "      <th>2018-05-02</th>\n",
       "      <td>0.0</td>\n",
       "      <td>52.0</td>\n",
       "      <td>5.558472</td>\n",
       "    </tr>\n",
       "  </tbody>\n",
       "</table>\n",
       "</div>"
      ],
      "text/plain": [
       "            longitude  latitude      mn2t\n",
       "time                                     \n",
       "2018-04-28        0.0      52.0  6.523010\n",
       "2018-04-29        0.0      52.0  6.142273\n",
       "2018-04-30        0.0      52.0  4.827789\n",
       "2018-05-01        0.0      52.0  2.739166\n",
       "2018-05-02        0.0      52.0  5.558472"
      ]
     },
     "execution_count": 19,
     "metadata": {},
     "output_type": "execute_result"
    }
   ],
   "source": [
    "B = ds_nc_modified.mn2t.sel(latitude=51.5, longitude = 0.12, method='nearest').resample(time='24H').min()-273.15\n",
    "B.to_dataframe()"
   ]
  },
  {
   "cell_type": "markdown",
   "metadata": {
    "slideshow": {
     "slide_type": "slide"
    }
   },
   "source": [
    "### Monthly to  quarterly resampling\n",
    "CDS offers already calculated monthly statistics from ERA5 Dataset, in the **ERA5 monthly averaged data on single levels from 1979 to present** and **ERA5 monthly averaged data on pressure levels from 1979 to present** datasets. That is where our 'monthly_data.grib' file is coming from.   "
   ]
  },
  {
   "cell_type": "code",
   "execution_count": 20,
   "metadata": {
    "slideshow": {
     "slide_type": "fragment"
    }
   },
   "outputs": [
    {
     "data": {
      "text/plain": [
       "<xarray.Dataset>\n",
       "Dimensions:     (latitude: 163, longitude: 289, time: 52)\n",
       "Coordinates:\n",
       "    number      int64 ...\n",
       "  * time        (time) datetime64[ns] 2015-01-01T12:00:00 ... 2019-04-01T12:00:00\n",
       "    step        timedelta64[ns] ...\n",
       "    surface     int64 ...\n",
       "  * latitude    (latitude) float64 73.5 73.25 73.0 72.75 ... 33.5 33.25 33.0\n",
       "  * longitude   (longitude) float64 -27.0 -26.75 -26.5 ... 44.5 44.75 45.0\n",
       "    valid_time  (time) datetime64[ns] ...\n",
       "Data variables:\n",
       "    u10         (time, latitude, longitude) float32 ...\n",
       "    v10         (time, latitude, longitude) float32 ...\n",
       "    t2m         (time, latitude, longitude) float32 ...\n",
       "    msl         (time, latitude, longitude) float32 ...\n",
       "    sst         (time, latitude, longitude) float32 ...\n",
       "Attributes:\n",
       "    GRIB_edition:            1\n",
       "    GRIB_centre:             ecmf\n",
       "    GRIB_centreDescription:  European Centre for Medium-Range Weather Forecasts\n",
       "    GRIB_subCentre:          0\n",
       "    Conventions:             CF-1.7\n",
       "    institution:             European Centre for Medium-Range Weather Forecasts\n",
       "    history:                 2019-09-06T13:27:34 GRIB to CDM+CF via cfgrib-0...."
      ]
     },
     "execution_count": 20,
     "metadata": {},
     "output_type": "execute_result"
    }
   ],
   "source": [
    "monthly_ds = xr.open_dataset('data/weather/monthly_data.grib',engine='cfgrib')\n",
    "monthly_ds"
   ]
  },
  {
   "cell_type": "markdown",
   "metadata": {
    "slideshow": {
     "slide_type": "slide"
    }
   },
   "source": [
    "Our data is monthly and we might want to match it to non-meteorological data that has quarterly interval.  \n",
    "\n",
    "For example if we want seasonal means (DJF, MAM, JJA, and SON) we can use 'QS-DEC', meaning **quarterly starting with december**.  \n",
    "Note: This method doesn't seem to take into account that months have different number of days. To find how to calculate proper weighted means, have a look at this example [here](https://github.com/pydata/xarray/blob/master/examples/xarray_seasonal_means.ipynb)."
   ]
  },
  {
   "cell_type": "code",
   "execution_count": 21,
   "metadata": {
    "slideshow": {
     "slide_type": "fragment"
    }
   },
   "outputs": [],
   "source": [
    "monthly_t2m = monthly_ds.t2m"
   ]
  },
  {
   "cell_type": "code",
   "execution_count": 22,
   "metadata": {
    "slideshow": {
     "slide_type": "slide"
    }
   },
   "outputs": [
    {
     "data": {
      "text/html": [
       "<div>\n",
       "<style scoped>\n",
       "    .dataframe tbody tr th:only-of-type {\n",
       "        vertical-align: middle;\n",
       "    }\n",
       "\n",
       "    .dataframe tbody tr th {\n",
       "        vertical-align: top;\n",
       "    }\n",
       "\n",
       "    .dataframe thead th {\n",
       "        text-align: right;\n",
       "    }\n",
       "</style>\n",
       "<table border=\"1\" class=\"dataframe\">\n",
       "  <thead>\n",
       "    <tr style=\"text-align: right;\">\n",
       "      <th></th>\n",
       "      <th>number</th>\n",
       "      <th>step</th>\n",
       "      <th>surface</th>\n",
       "      <th>latitude</th>\n",
       "      <th>longitude</th>\n",
       "      <th>t2m</th>\n",
       "    </tr>\n",
       "    <tr>\n",
       "      <th>time</th>\n",
       "      <th></th>\n",
       "      <th></th>\n",
       "      <th></th>\n",
       "      <th></th>\n",
       "      <th></th>\n",
       "      <th></th>\n",
       "    </tr>\n",
       "  </thead>\n",
       "  <tbody>\n",
       "    <tr>\n",
       "      <th>2014-12-01</th>\n",
       "      <td>0</td>\n",
       "      <td>0 days</td>\n",
       "      <td>0</td>\n",
       "      <td>51.5</td>\n",
       "      <td>0.0</td>\n",
       "      <td>6.150421</td>\n",
       "    </tr>\n",
       "    <tr>\n",
       "      <th>2015-03-01</th>\n",
       "      <td>0</td>\n",
       "      <td>0 days</td>\n",
       "      <td>0</td>\n",
       "      <td>51.5</td>\n",
       "      <td>0.0</td>\n",
       "      <td>12.339722</td>\n",
       "    </tr>\n",
       "    <tr>\n",
       "      <th>2015-06-01</th>\n",
       "      <td>0</td>\n",
       "      <td>0 days</td>\n",
       "      <td>0</td>\n",
       "      <td>51.5</td>\n",
       "      <td>0.0</td>\n",
       "      <td>19.337463</td>\n",
       "    </tr>\n",
       "    <tr>\n",
       "      <th>2015-09-01</th>\n",
       "      <td>0</td>\n",
       "      <td>0 days</td>\n",
       "      <td>0</td>\n",
       "      <td>51.5</td>\n",
       "      <td>0.0</td>\n",
       "      <td>13.925476</td>\n",
       "    </tr>\n",
       "    <tr>\n",
       "      <th>2015-12-01</th>\n",
       "      <td>0</td>\n",
       "      <td>0 days</td>\n",
       "      <td>0</td>\n",
       "      <td>51.5</td>\n",
       "      <td>0.0</td>\n",
       "      <td>8.881287</td>\n",
       "    </tr>\n",
       "    <tr>\n",
       "      <th>2016-03-01</th>\n",
       "      <td>0</td>\n",
       "      <td>0 days</td>\n",
       "      <td>0</td>\n",
       "      <td>51.5</td>\n",
       "      <td>0.0</td>\n",
       "      <td>11.990662</td>\n",
       "    </tr>\n",
       "    <tr>\n",
       "      <th>2016-06-01</th>\n",
       "      <td>0</td>\n",
       "      <td>0 days</td>\n",
       "      <td>0</td>\n",
       "      <td>51.5</td>\n",
       "      <td>0.0</td>\n",
       "      <td>20.032379</td>\n",
       "    </tr>\n",
       "    <tr>\n",
       "      <th>2016-09-01</th>\n",
       "      <td>0</td>\n",
       "      <td>0 days</td>\n",
       "      <td>0</td>\n",
       "      <td>51.5</td>\n",
       "      <td>0.0</td>\n",
       "      <td>14.166656</td>\n",
       "    </tr>\n",
       "    <tr>\n",
       "      <th>2016-12-01</th>\n",
       "      <td>0</td>\n",
       "      <td>0 days</td>\n",
       "      <td>0</td>\n",
       "      <td>51.5</td>\n",
       "      <td>0.0</td>\n",
       "      <td>7.107391</td>\n",
       "    </tr>\n",
       "    <tr>\n",
       "      <th>2017-03-01</th>\n",
       "      <td>0</td>\n",
       "      <td>0 days</td>\n",
       "      <td>0</td>\n",
       "      <td>51.5</td>\n",
       "      <td>0.0</td>\n",
       "      <td>13.758423</td>\n",
       "    </tr>\n",
       "    <tr>\n",
       "      <th>2017-06-01</th>\n",
       "      <td>0</td>\n",
       "      <td>0 days</td>\n",
       "      <td>0</td>\n",
       "      <td>51.5</td>\n",
       "      <td>0.0</td>\n",
       "      <td>20.101227</td>\n",
       "    </tr>\n",
       "    <tr>\n",
       "      <th>2017-09-01</th>\n",
       "      <td>0</td>\n",
       "      <td>0 days</td>\n",
       "      <td>0</td>\n",
       "      <td>51.5</td>\n",
       "      <td>0.0</td>\n",
       "      <td>13.810089</td>\n",
       "    </tr>\n",
       "    <tr>\n",
       "      <th>2017-12-01</th>\n",
       "      <td>0</td>\n",
       "      <td>0 days</td>\n",
       "      <td>0</td>\n",
       "      <td>51.5</td>\n",
       "      <td>0.0</td>\n",
       "      <td>6.167358</td>\n",
       "    </tr>\n",
       "    <tr>\n",
       "      <th>2018-03-01</th>\n",
       "      <td>0</td>\n",
       "      <td>0 days</td>\n",
       "      <td>0</td>\n",
       "      <td>51.5</td>\n",
       "      <td>0.0</td>\n",
       "      <td>12.751099</td>\n",
       "    </tr>\n",
       "    <tr>\n",
       "      <th>2018-06-01</th>\n",
       "      <td>0</td>\n",
       "      <td>0 days</td>\n",
       "      <td>0</td>\n",
       "      <td>51.5</td>\n",
       "      <td>0.0</td>\n",
       "      <td>21.822571</td>\n",
       "    </tr>\n",
       "    <tr>\n",
       "      <th>2018-09-01</th>\n",
       "      <td>0</td>\n",
       "      <td>0 days</td>\n",
       "      <td>0</td>\n",
       "      <td>51.5</td>\n",
       "      <td>0.0</td>\n",
       "      <td>14.390198</td>\n",
       "    </tr>\n",
       "    <tr>\n",
       "      <th>2018-12-01</th>\n",
       "      <td>0</td>\n",
       "      <td>0 days</td>\n",
       "      <td>0</td>\n",
       "      <td>51.5</td>\n",
       "      <td>0.0</td>\n",
       "      <td>7.942261</td>\n",
       "    </tr>\n",
       "    <tr>\n",
       "      <th>2019-03-01</th>\n",
       "      <td>0</td>\n",
       "      <td>0 days</td>\n",
       "      <td>0</td>\n",
       "      <td>51.5</td>\n",
       "      <td>0.0</td>\n",
       "      <td>11.903809</td>\n",
       "    </tr>\n",
       "  </tbody>\n",
       "</table>\n",
       "</div>"
      ],
      "text/plain": [
       "            number   step  surface  latitude  longitude        t2m\n",
       "time                                                              \n",
       "2014-12-01       0 0 days        0      51.5        0.0   6.150421\n",
       "2015-03-01       0 0 days        0      51.5        0.0  12.339722\n",
       "2015-06-01       0 0 days        0      51.5        0.0  19.337463\n",
       "2015-09-01       0 0 days        0      51.5        0.0  13.925476\n",
       "2015-12-01       0 0 days        0      51.5        0.0   8.881287\n",
       "2016-03-01       0 0 days        0      51.5        0.0  11.990662\n",
       "2016-06-01       0 0 days        0      51.5        0.0  20.032379\n",
       "2016-09-01       0 0 days        0      51.5        0.0  14.166656\n",
       "2016-12-01       0 0 days        0      51.5        0.0   7.107391\n",
       "2017-03-01       0 0 days        0      51.5        0.0  13.758423\n",
       "2017-06-01       0 0 days        0      51.5        0.0  20.101227\n",
       "2017-09-01       0 0 days        0      51.5        0.0  13.810089\n",
       "2017-12-01       0 0 days        0      51.5        0.0   6.167358\n",
       "2018-03-01       0 0 days        0      51.5        0.0  12.751099\n",
       "2018-06-01       0 0 days        0      51.5        0.0  21.822571\n",
       "2018-09-01       0 0 days        0      51.5        0.0  14.390198\n",
       "2018-12-01       0 0 days        0      51.5        0.0   7.942261\n",
       "2019-03-01       0 0 days        0      51.5        0.0  11.903809"
      ]
     },
     "execution_count": 22,
     "metadata": {},
     "output_type": "execute_result"
    }
   ],
   "source": [
    "quarterly_t2m = monthly_t2m.sel(latitude=51.5, longitude = 0.12, method='nearest').resample(time='QS-DEC').mean()-273.15\n",
    "quarterly_t2m.to_dataframe()"
   ]
  },
  {
   "cell_type": "markdown",
   "metadata": {
    "slideshow": {
     "slide_type": "slide"
    }
   },
   "source": [
    "We can use resample method to interpolate data too. We need to specify which method to use for the interpolation. Lets interpolate our London monthly data to daily intervals.  \n",
    "We convert to Celsius on the fly too."
   ]
  },
  {
   "cell_type": "code",
   "execution_count": 23,
   "metadata": {
    "slideshow": {
     "slide_type": "subslide"
    }
   },
   "outputs": [
    {
     "data": {
      "text/plain": [
       "[<matplotlib.lines.Line2D at 0x7f010899f908>]"
      ]
     },
     "execution_count": 23,
     "metadata": {},
     "output_type": "execute_result"
    },
    {
     "data": {
      "image/png": "[encoded data removed]",
      "text/plain": [
       "<Figure size 432x288 with 1 Axes>"
      ]
     },
     "metadata": {
      "needs_background": "light"
     },
     "output_type": "display_data"
    }
   ],
   "source": [
    "daily_t2m = monthly_t2m.sel(latitude=51.5, longitude = 0.12, method='nearest').resample(time='D').interpolate('linear')-273.15\n",
    "daily_t2m.plot()"
   ]
  },
  {
   "cell_type": "code",
   "execution_count": 24,
   "metadata": {
    "slideshow": {
     "slide_type": "slide"
    }
   },
   "outputs": [
    {
     "data": {
      "text/html": [
       "<div>\n",
       "<style scoped>\n",
       "    .dataframe tbody tr th:only-of-type {\n",
       "        vertical-align: middle;\n",
       "    }\n",
       "\n",
       "    .dataframe tbody tr th {\n",
       "        vertical-align: top;\n",
       "    }\n",
       "\n",
       "    .dataframe thead th {\n",
       "        text-align: right;\n",
       "    }\n",
       "</style>\n",
       "<table border=\"1\" class=\"dataframe\">\n",
       "  <thead>\n",
       "    <tr style=\"text-align: right;\">\n",
       "      <th></th>\n",
       "      <th>number</th>\n",
       "      <th>step</th>\n",
       "      <th>surface</th>\n",
       "      <th>latitude</th>\n",
       "      <th>longitude</th>\n",
       "      <th>t2m</th>\n",
       "    </tr>\n",
       "    <tr>\n",
       "      <th>time</th>\n",
       "      <th></th>\n",
       "      <th></th>\n",
       "      <th></th>\n",
       "      <th></th>\n",
       "      <th></th>\n",
       "      <th></th>\n",
       "    </tr>\n",
       "  </thead>\n",
       "  <tbody>\n",
       "    <tr>\n",
       "      <th>2015-01-01</th>\n",
       "      <td>0</td>\n",
       "      <td>0 days</td>\n",
       "      <td>0</td>\n",
       "      <td>51.5</td>\n",
       "      <td>0.0</td>\n",
       "      <td>NaN</td>\n",
       "    </tr>\n",
       "    <tr>\n",
       "      <th>2015-01-02</th>\n",
       "      <td>0</td>\n",
       "      <td>0 days</td>\n",
       "      <td>0</td>\n",
       "      <td>51.5</td>\n",
       "      <td>0.0</td>\n",
       "      <td>6.229771</td>\n",
       "    </tr>\n",
       "    <tr>\n",
       "      <th>2015-01-03</th>\n",
       "      <td>0</td>\n",
       "      <td>0 days</td>\n",
       "      <td>0</td>\n",
       "      <td>51.5</td>\n",
       "      <td>0.0</td>\n",
       "      <td>6.224482</td>\n",
       "    </tr>\n",
       "    <tr>\n",
       "      <th>2015-01-04</th>\n",
       "      <td>0</td>\n",
       "      <td>0 days</td>\n",
       "      <td>0</td>\n",
       "      <td>51.5</td>\n",
       "      <td>0.0</td>\n",
       "      <td>6.219192</td>\n",
       "    </tr>\n",
       "    <tr>\n",
       "      <th>2015-01-05</th>\n",
       "      <td>0</td>\n",
       "      <td>0 days</td>\n",
       "      <td>0</td>\n",
       "      <td>51.5</td>\n",
       "      <td>0.0</td>\n",
       "      <td>6.213903</td>\n",
       "    </tr>\n",
       "    <tr>\n",
       "      <th>2015-01-06</th>\n",
       "      <td>0</td>\n",
       "      <td>0 days</td>\n",
       "      <td>0</td>\n",
       "      <td>51.5</td>\n",
       "      <td>0.0</td>\n",
       "      <td>6.208614</td>\n",
       "    </tr>\n",
       "    <tr>\n",
       "      <th>2015-01-07</th>\n",
       "      <td>0</td>\n",
       "      <td>0 days</td>\n",
       "      <td>0</td>\n",
       "      <td>51.5</td>\n",
       "      <td>0.0</td>\n",
       "      <td>6.203324</td>\n",
       "    </tr>\n",
       "    <tr>\n",
       "      <th>2015-01-08</th>\n",
       "      <td>0</td>\n",
       "      <td>0 days</td>\n",
       "      <td>0</td>\n",
       "      <td>51.5</td>\n",
       "      <td>0.0</td>\n",
       "      <td>6.198035</td>\n",
       "    </tr>\n",
       "    <tr>\n",
       "      <th>2015-01-09</th>\n",
       "      <td>0</td>\n",
       "      <td>0 days</td>\n",
       "      <td>0</td>\n",
       "      <td>51.5</td>\n",
       "      <td>0.0</td>\n",
       "      <td>6.192745</td>\n",
       "    </tr>\n",
       "    <tr>\n",
       "      <th>2015-01-10</th>\n",
       "      <td>0</td>\n",
       "      <td>0 days</td>\n",
       "      <td>0</td>\n",
       "      <td>51.5</td>\n",
       "      <td>0.0</td>\n",
       "      <td>6.187456</td>\n",
       "    </tr>\n",
       "  </tbody>\n",
       "</table>\n",
       "</div>"
      ],
      "text/plain": [
       "            number   step  surface  latitude  longitude       t2m\n",
       "time                                                             \n",
       "2015-01-01       0 0 days        0      51.5        0.0       NaN\n",
       "2015-01-02       0 0 days        0      51.5        0.0  6.229771\n",
       "2015-01-03       0 0 days        0      51.5        0.0  6.224482\n",
       "2015-01-04       0 0 days        0      51.5        0.0  6.219192\n",
       "2015-01-05       0 0 days        0      51.5        0.0  6.213903\n",
       "2015-01-06       0 0 days        0      51.5        0.0  6.208614\n",
       "2015-01-07       0 0 days        0      51.5        0.0  6.203324\n",
       "2015-01-08       0 0 days        0      51.5        0.0  6.198035\n",
       "2015-01-09       0 0 days        0      51.5        0.0  6.192745\n",
       "2015-01-10       0 0 days        0      51.5        0.0  6.187456"
      ]
     },
     "execution_count": 24,
     "metadata": {},
     "output_type": "execute_result"
    }
   ],
   "source": [
    "daily_t2m.to_dataframe().head(10)"
   ]
  },
  {
   "cell_type": "markdown",
   "metadata": {
    "slideshow": {
     "slide_type": "slide"
    }
   },
   "source": [
    "### Some datasets are different...."
   ]
  },
  {
   "cell_type": "markdown",
   "metadata": {
    "slideshow": {
     "slide_type": "slide"
    }
   },
   "source": [
    "Let's see what the data from new **ERA5 Land** dataset looks like. In GRIB format we can notice big difference compared to ERA5 data. All the fields have time and step dimensions. In ERA5 this was the case only with accumulated and min/max parameters.   \n",
    "ERA5 Land is made to be similar to ERA Interim. So here we have start every day at 00 and then 24 'forecast hours'.  \n",
    "\n",
    "It makes life much easier when resampling to daily data.  "
   ]
  },
  {
   "cell_type": "code",
   "execution_count": 25,
   "metadata": {
    "slideshow": {
     "slide_type": "fragment"
    }
   },
   "outputs": [
    {
     "data": {
      "text/plain": [
       "<xarray.Dataset>\n",
       "Dimensions:     (latitude: 11, longitude: 21, step: 24, time: 367)\n",
       "Coordinates:\n",
       "    number      int64 ...\n",
       "  * time        (time) datetime64[ns] 2011-12-31 2012-01-01 ... 2012-12-31\n",
       "  * step        (step) timedelta64[ns] 01:00:00 02:00:00 ... 1 days 00:00:00\n",
       "    surface     int64 ...\n",
       "  * latitude    (latitude) float64 52.0 51.9 51.8 51.7 ... 51.3 51.2 51.1 51.0\n",
       "  * longitude   (longitude) float64 -1.0 -0.9 -0.8 -0.7 -0.6 ... 0.7 0.8 0.9 1.0\n",
       "    valid_time  (time, step) datetime64[ns] ...\n",
       "Data variables:\n",
       "    u10         (time, step, latitude, longitude) float32 ...\n",
       "    v10         (time, step, latitude, longitude) float32 ...\n",
       "    t2m         (time, step, latitude, longitude) float32 ...\n",
       "    tp          (time, step, latitude, longitude) float32 ...\n",
       "Attributes:\n",
       "    GRIB_edition:            1\n",
       "    GRIB_centre:             ecmf\n",
       "    GRIB_centreDescription:  European Centre for Medium-Range Weather Forecasts\n",
       "    GRIB_subCentre:          0\n",
       "    Conventions:             CF-1.7\n",
       "    institution:             European Centre for Medium-Range Weather Forecasts\n",
       "    history:                 2019-09-06T13:29:10 GRIB to CDM+CF via cfgrib-0...."
      ]
     },
     "execution_count": 25,
     "metadata": {},
     "output_type": "execute_result"
    }
   ],
   "source": [
    "ds2 = xr.open_dataset('data/weather/london_data_2012.grib', engine='cfgrib')\n",
    "ds2"
   ]
  },
  {
   "cell_type": "markdown",
   "metadata": {
    "slideshow": {
     "slide_type": "slide"
    }
   },
   "source": [
    "We will select the point in London to check what the data looks like."
   ]
  },
  {
   "cell_type": "code",
   "execution_count": 26,
   "metadata": {
    "slideshow": {
     "slide_type": "fragment"
    }
   },
   "outputs": [
    {
     "data": {
      "text/html": [
       "<div>\n",
       "<style scoped>\n",
       "    .dataframe tbody tr th:only-of-type {\n",
       "        vertical-align: middle;\n",
       "    }\n",
       "\n",
       "    .dataframe tbody tr th {\n",
       "        vertical-align: top;\n",
       "    }\n",
       "\n",
       "    .dataframe thead th {\n",
       "        text-align: right;\n",
       "    }\n",
       "</style>\n",
       "<table border=\"1\" class=\"dataframe\">\n",
       "  <thead>\n",
       "    <tr style=\"text-align: right;\">\n",
       "      <th></th>\n",
       "      <th></th>\n",
       "      <th>number</th>\n",
       "      <th>surface</th>\n",
       "      <th>latitude</th>\n",
       "      <th>longitude</th>\n",
       "      <th>valid_time</th>\n",
       "      <th>tp</th>\n",
       "    </tr>\n",
       "    <tr>\n",
       "      <th>time</th>\n",
       "      <th>step</th>\n",
       "      <th></th>\n",
       "      <th></th>\n",
       "      <th></th>\n",
       "      <th></th>\n",
       "      <th></th>\n",
       "      <th></th>\n",
       "    </tr>\n",
       "  </thead>\n",
       "  <tbody>\n",
       "    <tr>\n",
       "      <th rowspan=\"24\" valign=\"top\">2011-12-31</th>\n",
       "      <th>0 days 01:00:00</th>\n",
       "      <td>0</td>\n",
       "      <td>0</td>\n",
       "      <td>51.5</td>\n",
       "      <td>0.1</td>\n",
       "      <td>2011-12-31 01:00:00</td>\n",
       "      <td>NaN</td>\n",
       "    </tr>\n",
       "    <tr>\n",
       "      <th>0 days 02:00:00</th>\n",
       "      <td>0</td>\n",
       "      <td>0</td>\n",
       "      <td>51.5</td>\n",
       "      <td>0.1</td>\n",
       "      <td>2011-12-31 02:00:00</td>\n",
       "      <td>NaN</td>\n",
       "    </tr>\n",
       "    <tr>\n",
       "      <th>0 days 03:00:00</th>\n",
       "      <td>0</td>\n",
       "      <td>0</td>\n",
       "      <td>51.5</td>\n",
       "      <td>0.1</td>\n",
       "      <td>2011-12-31 03:00:00</td>\n",
       "      <td>NaN</td>\n",
       "    </tr>\n",
       "    <tr>\n",
       "      <th>0 days 04:00:00</th>\n",
       "      <td>0</td>\n",
       "      <td>0</td>\n",
       "      <td>51.5</td>\n",
       "      <td>0.1</td>\n",
       "      <td>2011-12-31 04:00:00</td>\n",
       "      <td>NaN</td>\n",
       "    </tr>\n",
       "    <tr>\n",
       "      <th>0 days 05:00:00</th>\n",
       "      <td>0</td>\n",
       "      <td>0</td>\n",
       "      <td>51.5</td>\n",
       "      <td>0.1</td>\n",
       "      <td>2011-12-31 05:00:00</td>\n",
       "      <td>NaN</td>\n",
       "    </tr>\n",
       "    <tr>\n",
       "      <th>0 days 06:00:00</th>\n",
       "      <td>0</td>\n",
       "      <td>0</td>\n",
       "      <td>51.5</td>\n",
       "      <td>0.1</td>\n",
       "      <td>2011-12-31 06:00:00</td>\n",
       "      <td>NaN</td>\n",
       "    </tr>\n",
       "    <tr>\n",
       "      <th>0 days 07:00:00</th>\n",
       "      <td>0</td>\n",
       "      <td>0</td>\n",
       "      <td>51.5</td>\n",
       "      <td>0.1</td>\n",
       "      <td>2011-12-31 07:00:00</td>\n",
       "      <td>NaN</td>\n",
       "    </tr>\n",
       "    <tr>\n",
       "      <th>0 days 08:00:00</th>\n",
       "      <td>0</td>\n",
       "      <td>0</td>\n",
       "      <td>51.5</td>\n",
       "      <td>0.1</td>\n",
       "      <td>2011-12-31 08:00:00</td>\n",
       "      <td>NaN</td>\n",
       "    </tr>\n",
       "    <tr>\n",
       "      <th>0 days 09:00:00</th>\n",
       "      <td>0</td>\n",
       "      <td>0</td>\n",
       "      <td>51.5</td>\n",
       "      <td>0.1</td>\n",
       "      <td>2011-12-31 09:00:00</td>\n",
       "      <td>NaN</td>\n",
       "    </tr>\n",
       "    <tr>\n",
       "      <th>0 days 10:00:00</th>\n",
       "      <td>0</td>\n",
       "      <td>0</td>\n",
       "      <td>51.5</td>\n",
       "      <td>0.1</td>\n",
       "      <td>2011-12-31 10:00:00</td>\n",
       "      <td>NaN</td>\n",
       "    </tr>\n",
       "    <tr>\n",
       "      <th>0 days 11:00:00</th>\n",
       "      <td>0</td>\n",
       "      <td>0</td>\n",
       "      <td>51.5</td>\n",
       "      <td>0.1</td>\n",
       "      <td>2011-12-31 11:00:00</td>\n",
       "      <td>NaN</td>\n",
       "    </tr>\n",
       "    <tr>\n",
       "      <th>0 days 12:00:00</th>\n",
       "      <td>0</td>\n",
       "      <td>0</td>\n",
       "      <td>51.5</td>\n",
       "      <td>0.1</td>\n",
       "      <td>2011-12-31 12:00:00</td>\n",
       "      <td>NaN</td>\n",
       "    </tr>\n",
       "    <tr>\n",
       "      <th>0 days 13:00:00</th>\n",
       "      <td>0</td>\n",
       "      <td>0</td>\n",
       "      <td>51.5</td>\n",
       "      <td>0.1</td>\n",
       "      <td>2011-12-31 13:00:00</td>\n",
       "      <td>NaN</td>\n",
       "    </tr>\n",
       "    <tr>\n",
       "      <th>0 days 14:00:00</th>\n",
       "      <td>0</td>\n",
       "      <td>0</td>\n",
       "      <td>51.5</td>\n",
       "      <td>0.1</td>\n",
       "      <td>2011-12-31 14:00:00</td>\n",
       "      <td>NaN</td>\n",
       "    </tr>\n",
       "    <tr>\n",
       "      <th>0 days 15:00:00</th>\n",
       "      <td>0</td>\n",
       "      <td>0</td>\n",
       "      <td>51.5</td>\n",
       "      <td>0.1</td>\n",
       "      <td>2011-12-31 15:00:00</td>\n",
       "      <td>NaN</td>\n",
       "    </tr>\n",
       "    <tr>\n",
       "      <th>0 days 16:00:00</th>\n",
       "      <td>0</td>\n",
       "      <td>0</td>\n",
       "      <td>51.5</td>\n",
       "      <td>0.1</td>\n",
       "      <td>2011-12-31 16:00:00</td>\n",
       "      <td>NaN</td>\n",
       "    </tr>\n",
       "    <tr>\n",
       "      <th>0 days 17:00:00</th>\n",
       "      <td>0</td>\n",
       "      <td>0</td>\n",
       "      <td>51.5</td>\n",
       "      <td>0.1</td>\n",
       "      <td>2011-12-31 17:00:00</td>\n",
       "      <td>NaN</td>\n",
       "    </tr>\n",
       "    <tr>\n",
       "      <th>0 days 18:00:00</th>\n",
       "      <td>0</td>\n",
       "      <td>0</td>\n",
       "      <td>51.5</td>\n",
       "      <td>0.1</td>\n",
       "      <td>2011-12-31 18:00:00</td>\n",
       "      <td>NaN</td>\n",
       "    </tr>\n",
       "    <tr>\n",
       "      <th>0 days 19:00:00</th>\n",
       "      <td>0</td>\n",
       "      <td>0</td>\n",
       "      <td>51.5</td>\n",
       "      <td>0.1</td>\n",
       "      <td>2011-12-31 19:00:00</td>\n",
       "      <td>NaN</td>\n",
       "    </tr>\n",
       "    <tr>\n",
       "      <th>0 days 20:00:00</th>\n",
       "      <td>0</td>\n",
       "      <td>0</td>\n",
       "      <td>51.5</td>\n",
       "      <td>0.1</td>\n",
       "      <td>2011-12-31 20:00:00</td>\n",
       "      <td>NaN</td>\n",
       "    </tr>\n",
       "    <tr>\n",
       "      <th>0 days 21:00:00</th>\n",
       "      <td>0</td>\n",
       "      <td>0</td>\n",
       "      <td>51.5</td>\n",
       "      <td>0.1</td>\n",
       "      <td>2011-12-31 21:00:00</td>\n",
       "      <td>NaN</td>\n",
       "    </tr>\n",
       "    <tr>\n",
       "      <th>0 days 22:00:00</th>\n",
       "      <td>0</td>\n",
       "      <td>0</td>\n",
       "      <td>51.5</td>\n",
       "      <td>0.1</td>\n",
       "      <td>2011-12-31 22:00:00</td>\n",
       "      <td>NaN</td>\n",
       "    </tr>\n",
       "    <tr>\n",
       "      <th>0 days 23:00:00</th>\n",
       "      <td>0</td>\n",
       "      <td>0</td>\n",
       "      <td>51.5</td>\n",
       "      <td>0.1</td>\n",
       "      <td>2011-12-31 23:00:00</td>\n",
       "      <td>NaN</td>\n",
       "    </tr>\n",
       "    <tr>\n",
       "      <th>1 days 00:00:00</th>\n",
       "      <td>0</td>\n",
       "      <td>0</td>\n",
       "      <td>51.5</td>\n",
       "      <td>0.1</td>\n",
       "      <td>2012-01-01 00:00:00</td>\n",
       "      <td>0.714743</td>\n",
       "    </tr>\n",
       "    <tr>\n",
       "      <th rowspan=\"24\" valign=\"top\">2012-01-01</th>\n",
       "      <th>0 days 01:00:00</th>\n",
       "      <td>0</td>\n",
       "      <td>0</td>\n",
       "      <td>51.5</td>\n",
       "      <td>0.1</td>\n",
       "      <td>2012-01-01 01:00:00</td>\n",
       "      <td>0.053268</td>\n",
       "    </tr>\n",
       "    <tr>\n",
       "      <th>0 days 02:00:00</th>\n",
       "      <td>0</td>\n",
       "      <td>0</td>\n",
       "      <td>51.5</td>\n",
       "      <td>0.1</td>\n",
       "      <td>2012-01-01 02:00:00</td>\n",
       "      <td>0.058658</td>\n",
       "    </tr>\n",
       "    <tr>\n",
       "      <th>0 days 03:00:00</th>\n",
       "      <td>0</td>\n",
       "      <td>0</td>\n",
       "      <td>51.5</td>\n",
       "      <td>0.1</td>\n",
       "      <td>2012-01-01 03:00:00</td>\n",
       "      <td>0.058658</td>\n",
       "    </tr>\n",
       "    <tr>\n",
       "      <th>0 days 04:00:00</th>\n",
       "      <td>0</td>\n",
       "      <td>0</td>\n",
       "      <td>51.5</td>\n",
       "      <td>0.1</td>\n",
       "      <td>2012-01-01 04:00:00</td>\n",
       "      <td>0.059567</td>\n",
       "    </tr>\n",
       "    <tr>\n",
       "      <th>0 days 05:00:00</th>\n",
       "      <td>0</td>\n",
       "      <td>0</td>\n",
       "      <td>51.5</td>\n",
       "      <td>0.1</td>\n",
       "      <td>2012-01-01 05:00:00</td>\n",
       "      <td>0.059575</td>\n",
       "    </tr>\n",
       "    <tr>\n",
       "      <th>0 days 06:00:00</th>\n",
       "      <td>0</td>\n",
       "      <td>0</td>\n",
       "      <td>51.5</td>\n",
       "      <td>0.1</td>\n",
       "      <td>2012-01-01 06:00:00</td>\n",
       "      <td>0.059575</td>\n",
       "    </tr>\n",
       "    <tr>\n",
       "      <th>0 days 07:00:00</th>\n",
       "      <td>0</td>\n",
       "      <td>0</td>\n",
       "      <td>51.5</td>\n",
       "      <td>0.1</td>\n",
       "      <td>2012-01-01 07:00:00</td>\n",
       "      <td>0.059575</td>\n",
       "    </tr>\n",
       "    <tr>\n",
       "      <th>0 days 08:00:00</th>\n",
       "      <td>0</td>\n",
       "      <td>0</td>\n",
       "      <td>51.5</td>\n",
       "      <td>0.1</td>\n",
       "      <td>2012-01-01 08:00:00</td>\n",
       "      <td>0.059575</td>\n",
       "    </tr>\n",
       "    <tr>\n",
       "      <th>0 days 09:00:00</th>\n",
       "      <td>0</td>\n",
       "      <td>0</td>\n",
       "      <td>51.5</td>\n",
       "      <td>0.1</td>\n",
       "      <td>2012-01-01 09:00:00</td>\n",
       "      <td>0.059575</td>\n",
       "    </tr>\n",
       "    <tr>\n",
       "      <th>0 days 10:00:00</th>\n",
       "      <td>0</td>\n",
       "      <td>0</td>\n",
       "      <td>51.5</td>\n",
       "      <td>0.1</td>\n",
       "      <td>2012-01-01 10:00:00</td>\n",
       "      <td>0.128612</td>\n",
       "    </tr>\n",
       "    <tr>\n",
       "      <th>0 days 11:00:00</th>\n",
       "      <td>0</td>\n",
       "      <td>0</td>\n",
       "      <td>51.5</td>\n",
       "      <td>0.1</td>\n",
       "      <td>2012-01-01 11:00:00</td>\n",
       "      <td>0.285819</td>\n",
       "    </tr>\n",
       "    <tr>\n",
       "      <th>0 days 12:00:00</th>\n",
       "      <td>0</td>\n",
       "      <td>0</td>\n",
       "      <td>51.5</td>\n",
       "      <td>0.1</td>\n",
       "      <td>2012-01-01 12:00:00</td>\n",
       "      <td>0.392720</td>\n",
       "    </tr>\n",
       "    <tr>\n",
       "      <th>0 days 13:00:00</th>\n",
       "      <td>0</td>\n",
       "      <td>0</td>\n",
       "      <td>51.5</td>\n",
       "      <td>0.1</td>\n",
       "      <td>2012-01-01 13:00:00</td>\n",
       "      <td>0.455812</td>\n",
       "    </tr>\n",
       "    <tr>\n",
       "      <th>0 days 14:00:00</th>\n",
       "      <td>0</td>\n",
       "      <td>0</td>\n",
       "      <td>51.5</td>\n",
       "      <td>0.1</td>\n",
       "      <td>2012-01-01 14:00:00</td>\n",
       "      <td>0.735432</td>\n",
       "    </tr>\n",
       "    <tr>\n",
       "      <th>0 days 15:00:00</th>\n",
       "      <td>0</td>\n",
       "      <td>0</td>\n",
       "      <td>51.5</td>\n",
       "      <td>0.1</td>\n",
       "      <td>2012-01-01 15:00:00</td>\n",
       "      <td>2.558991</td>\n",
       "    </tr>\n",
       "    <tr>\n",
       "      <th>0 days 16:00:00</th>\n",
       "      <td>0</td>\n",
       "      <td>0</td>\n",
       "      <td>51.5</td>\n",
       "      <td>0.1</td>\n",
       "      <td>2012-01-01 16:00:00</td>\n",
       "      <td>6.934672</td>\n",
       "    </tr>\n",
       "    <tr>\n",
       "      <th>0 days 17:00:00</th>\n",
       "      <td>0</td>\n",
       "      <td>0</td>\n",
       "      <td>51.5</td>\n",
       "      <td>0.1</td>\n",
       "      <td>2012-01-01 17:00:00</td>\n",
       "      <td>10.739252</td>\n",
       "    </tr>\n",
       "    <tr>\n",
       "      <th>0 days 18:00:00</th>\n",
       "      <td>0</td>\n",
       "      <td>0</td>\n",
       "      <td>51.5</td>\n",
       "      <td>0.1</td>\n",
       "      <td>2012-01-01 18:00:00</td>\n",
       "      <td>11.779606</td>\n",
       "    </tr>\n",
       "    <tr>\n",
       "      <th>0 days 19:00:00</th>\n",
       "      <td>0</td>\n",
       "      <td>0</td>\n",
       "      <td>51.5</td>\n",
       "      <td>0.1</td>\n",
       "      <td>2012-01-01 19:00:00</td>\n",
       "      <td>13.055235</td>\n",
       "    </tr>\n",
       "    <tr>\n",
       "      <th>0 days 20:00:00</th>\n",
       "      <td>0</td>\n",
       "      <td>0</td>\n",
       "      <td>51.5</td>\n",
       "      <td>0.1</td>\n",
       "      <td>2012-01-01 20:00:00</td>\n",
       "      <td>13.611004</td>\n",
       "    </tr>\n",
       "    <tr>\n",
       "      <th>0 days 21:00:00</th>\n",
       "      <td>0</td>\n",
       "      <td>0</td>\n",
       "      <td>51.5</td>\n",
       "      <td>0.1</td>\n",
       "      <td>2012-01-01 21:00:00</td>\n",
       "      <td>13.694647</td>\n",
       "    </tr>\n",
       "    <tr>\n",
       "      <th>0 days 22:00:00</th>\n",
       "      <td>0</td>\n",
       "      <td>0</td>\n",
       "      <td>51.5</td>\n",
       "      <td>0.1</td>\n",
       "      <td>2012-01-01 22:00:00</td>\n",
       "      <td>13.702142</td>\n",
       "    </tr>\n",
       "    <tr>\n",
       "      <th>0 days 23:00:00</th>\n",
       "      <td>0</td>\n",
       "      <td>0</td>\n",
       "      <td>51.5</td>\n",
       "      <td>0.1</td>\n",
       "      <td>2012-01-01 23:00:00</td>\n",
       "      <td>13.702142</td>\n",
       "    </tr>\n",
       "    <tr>\n",
       "      <th>1 days 00:00:00</th>\n",
       "      <td>0</td>\n",
       "      <td>0</td>\n",
       "      <td>51.5</td>\n",
       "      <td>0.1</td>\n",
       "      <td>2012-01-02 00:00:00</td>\n",
       "      <td>13.702142</td>\n",
       "    </tr>\n",
       "    <tr>\n",
       "      <th rowspan=\"2\" valign=\"top\">2012-01-02</th>\n",
       "      <th>0 days 01:00:00</th>\n",
       "      <td>0</td>\n",
       "      <td>0</td>\n",
       "      <td>51.5</td>\n",
       "      <td>0.1</td>\n",
       "      <td>2012-01-02 01:00:00</td>\n",
       "      <td>0.000000</td>\n",
       "    </tr>\n",
       "    <tr>\n",
       "      <th>0 days 02:00:00</th>\n",
       "      <td>0</td>\n",
       "      <td>0</td>\n",
       "      <td>51.5</td>\n",
       "      <td>0.1</td>\n",
       "      <td>2012-01-02 02:00:00</td>\n",
       "      <td>0.000000</td>\n",
       "    </tr>\n",
       "  </tbody>\n",
       "</table>\n",
       "</div>"
      ],
      "text/plain": [
       "                            number  surface  latitude  longitude  \\\n",
       "time       step                                                    \n",
       "2011-12-31 0 days 01:00:00       0        0      51.5        0.1   \n",
       "           0 days 02:00:00       0        0      51.5        0.1   \n",
       "           0 days 03:00:00       0        0      51.5        0.1   \n",
       "           0 days 04:00:00       0        0      51.5        0.1   \n",
       "           0 days 05:00:00       0        0      51.5        0.1   \n",
       "           0 days 06:00:00       0        0      51.5        0.1   \n",
       "           0 days 07:00:00       0        0      51.5        0.1   \n",
       "           0 days 08:00:00       0        0      51.5        0.1   \n",
       "           0 days 09:00:00       0        0      51.5        0.1   \n",
       "           0 days 10:00:00       0        0      51.5        0.1   \n",
       "           0 days 11:00:00       0        0      51.5        0.1   \n",
       "           0 days 12:00:00       0        0      51.5        0.1   \n",
       "           0 days 13:00:00       0        0      51.5        0.1   \n",
       "           0 days 14:00:00       0        0      51.5        0.1   \n",
       "           0 days 15:00:00       0        0      51.5        0.1   \n",
       "           0 days 16:00:00       0        0      51.5        0.1   \n",
       "           0 days 17:00:00       0        0      51.5        0.1   \n",
       "           0 days 18:00:00       0        0      51.5        0.1   \n",
       "           0 days 19:00:00       0        0      51.5        0.1   \n",
       "           0 days 20:00:00       0        0      51.5        0.1   \n",
       "           0 days 21:00:00       0        0      51.5        0.1   \n",
       "           0 days 22:00:00       0        0      51.5        0.1   \n",
       "           0 days 23:00:00       0        0      51.5        0.1   \n",
       "           1 days 00:00:00       0        0      51.5        0.1   \n",
       "2012-01-01 0 days 01:00:00       0        0      51.5        0.1   \n",
       "           0 days 02:00:00       0        0      51.5        0.1   \n",
       "           0 days 03:00:00       0        0      51.5        0.1   \n",
       "           0 days 04:00:00       0        0      51.5        0.1   \n",
       "           0 days 05:00:00       0        0      51.5        0.1   \n",
       "           0 days 06:00:00       0        0      51.5        0.1   \n",
       "           0 days 07:00:00       0        0      51.5        0.1   \n",
       "           0 days 08:00:00       0        0      51.5        0.1   \n",
       "           0 days 09:00:00       0        0      51.5        0.1   \n",
       "           0 days 10:00:00       0        0      51.5        0.1   \n",
       "           0 days 11:00:00       0        0      51.5        0.1   \n",
       "           0 days 12:00:00       0        0      51.5        0.1   \n",
       "           0 days 13:00:00       0        0      51.5        0.1   \n",
       "           0 days 14:00:00       0        0      51.5        0.1   \n",
       "           0 days 15:00:00       0        0      51.5        0.1   \n",
       "           0 days 16:00:00       0        0      51.5        0.1   \n",
       "           0 days 17:00:00       0        0      51.5        0.1   \n",
       "           0 days 18:00:00       0        0      51.5        0.1   \n",
       "           0 days 19:00:00       0        0      51.5        0.1   \n",
       "           0 days 20:00:00       0        0      51.5        0.1   \n",
       "           0 days 21:00:00       0        0      51.5        0.1   \n",
       "           0 days 22:00:00       0        0      51.5        0.1   \n",
       "           0 days 23:00:00       0        0      51.5        0.1   \n",
       "           1 days 00:00:00       0        0      51.5        0.1   \n",
       "2012-01-02 0 days 01:00:00       0        0      51.5        0.1   \n",
       "           0 days 02:00:00       0        0      51.5        0.1   \n",
       "\n",
       "                                    valid_time         tp  \n",
       "time       step                                            \n",
       "2011-12-31 0 days 01:00:00 2011-12-31 01:00:00        NaN  \n",
       "           0 days 02:00:00 2011-12-31 02:00:00        NaN  \n",
       "           0 days 03:00:00 2011-12-31 03:00:00        NaN  \n",
       "           0 days 04:00:00 2011-12-31 04:00:00        NaN  \n",
       "           0 days 05:00:00 2011-12-31 05:00:00        NaN  \n",
       "           0 days 06:00:00 2011-12-31 06:00:00        NaN  \n",
       "           0 days 07:00:00 2011-12-31 07:00:00        NaN  \n",
       "           0 days 08:00:00 2011-12-31 08:00:00        NaN  \n",
       "           0 days 09:00:00 2011-12-31 09:00:00        NaN  \n",
       "           0 days 10:00:00 2011-12-31 10:00:00        NaN  \n",
       "           0 days 11:00:00 2011-12-31 11:00:00        NaN  \n",
       "           0 days 12:00:00 2011-12-31 12:00:00        NaN  \n",
       "           0 days 13:00:00 2011-12-31 13:00:00        NaN  \n",
       "           0 days 14:00:00 2011-12-31 14:00:00        NaN  \n",
       "           0 days 15:00:00 2011-12-31 15:00:00        NaN  \n",
       "           0 days 16:00:00 2011-12-31 16:00:00        NaN  \n",
       "           0 days 17:00:00 2011-12-31 17:00:00        NaN  \n",
       "           0 days 18:00:00 2011-12-31 18:00:00        NaN  \n",
       "           0 days 19:00:00 2011-12-31 19:00:00        NaN  \n",
       "           0 days 20:00:00 2011-12-31 20:00:00        NaN  \n",
       "           0 days 21:00:00 2011-12-31 21:00:00        NaN  \n",
       "           0 days 22:00:00 2011-12-31 22:00:00        NaN  \n",
       "           0 days 23:00:00 2011-12-31 23:00:00        NaN  \n",
       "           1 days 00:00:00 2012-01-01 00:00:00   0.714743  \n",
       "2012-01-01 0 days 01:00:00 2012-01-01 01:00:00   0.053268  \n",
       "           0 days 02:00:00 2012-01-01 02:00:00   0.058658  \n",
       "           0 days 03:00:00 2012-01-01 03:00:00   0.058658  \n",
       "           0 days 04:00:00 2012-01-01 04:00:00   0.059567  \n",
       "           0 days 05:00:00 2012-01-01 05:00:00   0.059575  \n",
       "           0 days 06:00:00 2012-01-01 06:00:00   0.059575  \n",
       "           0 days 07:00:00 2012-01-01 07:00:00   0.059575  \n",
       "           0 days 08:00:00 2012-01-01 08:00:00   0.059575  \n",
       "           0 days 09:00:00 2012-01-01 09:00:00   0.059575  \n",
       "           0 days 10:00:00 2012-01-01 10:00:00   0.128612  \n",
       "           0 days 11:00:00 2012-01-01 11:00:00   0.285819  \n",
       "           0 days 12:00:00 2012-01-01 12:00:00   0.392720  \n",
       "           0 days 13:00:00 2012-01-01 13:00:00   0.455812  \n",
       "           0 days 14:00:00 2012-01-01 14:00:00   0.735432  \n",
       "           0 days 15:00:00 2012-01-01 15:00:00   2.558991  \n",
       "           0 days 16:00:00 2012-01-01 16:00:00   6.934672  \n",
       "           0 days 17:00:00 2012-01-01 17:00:00  10.739252  \n",
       "           0 days 18:00:00 2012-01-01 18:00:00  11.779606  \n",
       "           0 days 19:00:00 2012-01-01 19:00:00  13.055235  \n",
       "           0 days 20:00:00 2012-01-01 20:00:00  13.611004  \n",
       "           0 days 21:00:00 2012-01-01 21:00:00  13.694647  \n",
       "           0 days 22:00:00 2012-01-01 22:00:00  13.702142  \n",
       "           0 days 23:00:00 2012-01-01 23:00:00  13.702142  \n",
       "           1 days 00:00:00 2012-01-02 00:00:00  13.702142  \n",
       "2012-01-02 0 days 01:00:00 2012-01-02 01:00:00   0.000000  \n",
       "           0 days 02:00:00 2012-01-02 02:00:00   0.000000  "
      ]
     },
     "execution_count": 26,
     "metadata": {},
     "output_type": "execute_result"
    }
   ],
   "source": [
    "tp = ds2.tp\n",
    "tp_london = tp.sel(latitude=51.5, longitude = 0.12, method='nearest')*1000\n",
    "tp_london.to_dataframe().head(50)"
   ]
  },
  {
   "cell_type": "markdown",
   "metadata": {
    "slideshow": {
     "slide_type": "slide"
    }
   },
   "source": [
    "This is actually very convinient if we want daily precipitation, because we don't need to calculate anything. Just select te data for every midnight time step.  \n",
    "If we have a look at time/step structure, we can see that we need the data with the step 24, or one day. "
   ]
  },
  {
   "cell_type": "code",
   "execution_count": 27,
   "metadata": {
    "slideshow": {
     "slide_type": "fragment"
    }
   },
   "outputs": [
    {
     "data": {
      "text/html": [
       "<div>\n",
       "<style scoped>\n",
       "    .dataframe tbody tr th:only-of-type {\n",
       "        vertical-align: middle;\n",
       "    }\n",
       "\n",
       "    .dataframe tbody tr th {\n",
       "        vertical-align: top;\n",
       "    }\n",
       "\n",
       "    .dataframe thead th {\n",
       "        text-align: right;\n",
       "    }\n",
       "</style>\n",
       "<table border=\"1\" class=\"dataframe\">\n",
       "  <thead>\n",
       "    <tr style=\"text-align: right;\">\n",
       "      <th></th>\n",
       "      <th>number</th>\n",
       "      <th>step</th>\n",
       "      <th>surface</th>\n",
       "      <th>latitude</th>\n",
       "      <th>longitude</th>\n",
       "      <th>valid_time</th>\n",
       "      <th>tp</th>\n",
       "    </tr>\n",
       "    <tr>\n",
       "      <th>time</th>\n",
       "      <th></th>\n",
       "      <th></th>\n",
       "      <th></th>\n",
       "      <th></th>\n",
       "      <th></th>\n",
       "      <th></th>\n",
       "      <th></th>\n",
       "    </tr>\n",
       "  </thead>\n",
       "  <tbody>\n",
       "    <tr>\n",
       "      <th>2011-12-31</th>\n",
       "      <td>0</td>\n",
       "      <td>1 days</td>\n",
       "      <td>0</td>\n",
       "      <td>51.5</td>\n",
       "      <td>0.1</td>\n",
       "      <td>2012-01-01</td>\n",
       "      <td>0.714743</td>\n",
       "    </tr>\n",
       "    <tr>\n",
       "      <th>2012-01-01</th>\n",
       "      <td>0</td>\n",
       "      <td>1 days</td>\n",
       "      <td>0</td>\n",
       "      <td>51.5</td>\n",
       "      <td>0.1</td>\n",
       "      <td>2012-01-02</td>\n",
       "      <td>13.702142</td>\n",
       "    </tr>\n",
       "    <tr>\n",
       "      <th>2012-01-02</th>\n",
       "      <td>0</td>\n",
       "      <td>1 days</td>\n",
       "      <td>0</td>\n",
       "      <td>51.5</td>\n",
       "      <td>0.1</td>\n",
       "      <td>2012-01-03</td>\n",
       "      <td>0.001925</td>\n",
       "    </tr>\n",
       "    <tr>\n",
       "      <th>2012-01-03</th>\n",
       "      <td>0</td>\n",
       "      <td>1 days</td>\n",
       "      <td>0</td>\n",
       "      <td>51.5</td>\n",
       "      <td>0.1</td>\n",
       "      <td>2012-01-04</td>\n",
       "      <td>8.189413</td>\n",
       "    </tr>\n",
       "    <tr>\n",
       "      <th>2012-01-04</th>\n",
       "      <td>0</td>\n",
       "      <td>1 days</td>\n",
       "      <td>0</td>\n",
       "      <td>51.5</td>\n",
       "      <td>0.1</td>\n",
       "      <td>2012-01-05</td>\n",
       "      <td>2.243790</td>\n",
       "    </tr>\n",
       "    <tr>\n",
       "      <th>2012-01-05</th>\n",
       "      <td>0</td>\n",
       "      <td>1 days</td>\n",
       "      <td>0</td>\n",
       "      <td>51.5</td>\n",
       "      <td>0.1</td>\n",
       "      <td>2012-01-06</td>\n",
       "      <td>1.121646</td>\n",
       "    </tr>\n",
       "    <tr>\n",
       "      <th>2012-01-06</th>\n",
       "      <td>0</td>\n",
       "      <td>1 days</td>\n",
       "      <td>0</td>\n",
       "      <td>51.5</td>\n",
       "      <td>0.1</td>\n",
       "      <td>2012-01-07</td>\n",
       "      <td>0.015819</td>\n",
       "    </tr>\n",
       "    <tr>\n",
       "      <th>2012-01-07</th>\n",
       "      <td>0</td>\n",
       "      <td>1 days</td>\n",
       "      <td>0</td>\n",
       "      <td>51.5</td>\n",
       "      <td>0.1</td>\n",
       "      <td>2012-01-08</td>\n",
       "      <td>0.817654</td>\n",
       "    </tr>\n",
       "    <tr>\n",
       "      <th>2012-01-08</th>\n",
       "      <td>0</td>\n",
       "      <td>1 days</td>\n",
       "      <td>0</td>\n",
       "      <td>51.5</td>\n",
       "      <td>0.1</td>\n",
       "      <td>2012-01-09</td>\n",
       "      <td>0.043467</td>\n",
       "    </tr>\n",
       "    <tr>\n",
       "      <th>2012-01-09</th>\n",
       "      <td>0</td>\n",
       "      <td>1 days</td>\n",
       "      <td>0</td>\n",
       "      <td>51.5</td>\n",
       "      <td>0.1</td>\n",
       "      <td>2012-01-10</td>\n",
       "      <td>0.111073</td>\n",
       "    </tr>\n",
       "    <tr>\n",
       "      <th>2012-01-10</th>\n",
       "      <td>0</td>\n",
       "      <td>1 days</td>\n",
       "      <td>0</td>\n",
       "      <td>51.5</td>\n",
       "      <td>0.1</td>\n",
       "      <td>2012-01-11</td>\n",
       "      <td>0.130981</td>\n",
       "    </tr>\n",
       "    <tr>\n",
       "      <th>2012-01-11</th>\n",
       "      <td>0</td>\n",
       "      <td>1 days</td>\n",
       "      <td>0</td>\n",
       "      <td>51.5</td>\n",
       "      <td>0.1</td>\n",
       "      <td>2012-01-12</td>\n",
       "      <td>0.008428</td>\n",
       "    </tr>\n",
       "    <tr>\n",
       "      <th>2012-01-12</th>\n",
       "      <td>0</td>\n",
       "      <td>1 days</td>\n",
       "      <td>0</td>\n",
       "      <td>51.5</td>\n",
       "      <td>0.1</td>\n",
       "      <td>2012-01-13</td>\n",
       "      <td>0.091118</td>\n",
       "    </tr>\n",
       "    <tr>\n",
       "      <th>2012-01-13</th>\n",
       "      <td>0</td>\n",
       "      <td>1 days</td>\n",
       "      <td>0</td>\n",
       "      <td>51.5</td>\n",
       "      <td>0.1</td>\n",
       "      <td>2012-01-14</td>\n",
       "      <td>0.000441</td>\n",
       "    </tr>\n",
       "    <tr>\n",
       "      <th>2012-01-14</th>\n",
       "      <td>0</td>\n",
       "      <td>1 days</td>\n",
       "      <td>0</td>\n",
       "      <td>51.5</td>\n",
       "      <td>0.1</td>\n",
       "      <td>2012-01-15</td>\n",
       "      <td>0.004172</td>\n",
       "    </tr>\n",
       "    <tr>\n",
       "      <th>2012-01-15</th>\n",
       "      <td>0</td>\n",
       "      <td>1 days</td>\n",
       "      <td>0</td>\n",
       "      <td>51.5</td>\n",
       "      <td>0.1</td>\n",
       "      <td>2012-01-16</td>\n",
       "      <td>0.003968</td>\n",
       "    </tr>\n",
       "    <tr>\n",
       "      <th>2012-01-16</th>\n",
       "      <td>0</td>\n",
       "      <td>1 days</td>\n",
       "      <td>0</td>\n",
       "      <td>51.5</td>\n",
       "      <td>0.1</td>\n",
       "      <td>2012-01-17</td>\n",
       "      <td>0.000877</td>\n",
       "    </tr>\n",
       "    <tr>\n",
       "      <th>2012-01-17</th>\n",
       "      <td>0</td>\n",
       "      <td>1 days</td>\n",
       "      <td>0</td>\n",
       "      <td>51.5</td>\n",
       "      <td>0.1</td>\n",
       "      <td>2012-01-18</td>\n",
       "      <td>0.001118</td>\n",
       "    </tr>\n",
       "    <tr>\n",
       "      <th>2012-01-18</th>\n",
       "      <td>0</td>\n",
       "      <td>1 days</td>\n",
       "      <td>0</td>\n",
       "      <td>51.5</td>\n",
       "      <td>0.1</td>\n",
       "      <td>2012-01-19</td>\n",
       "      <td>0.929454</td>\n",
       "    </tr>\n",
       "    <tr>\n",
       "      <th>2012-01-19</th>\n",
       "      <td>0</td>\n",
       "      <td>1 days</td>\n",
       "      <td>0</td>\n",
       "      <td>51.5</td>\n",
       "      <td>0.1</td>\n",
       "      <td>2012-01-20</td>\n",
       "      <td>3.420209</td>\n",
       "    </tr>\n",
       "    <tr>\n",
       "      <th>2012-01-20</th>\n",
       "      <td>0</td>\n",
       "      <td>1 days</td>\n",
       "      <td>0</td>\n",
       "      <td>51.5</td>\n",
       "      <td>0.1</td>\n",
       "      <td>2012-01-21</td>\n",
       "      <td>1.102138</td>\n",
       "    </tr>\n",
       "    <tr>\n",
       "      <th>2012-01-21</th>\n",
       "      <td>0</td>\n",
       "      <td>1 days</td>\n",
       "      <td>0</td>\n",
       "      <td>51.5</td>\n",
       "      <td>0.1</td>\n",
       "      <td>2012-01-22</td>\n",
       "      <td>0.054806</td>\n",
       "    </tr>\n",
       "    <tr>\n",
       "      <th>2012-01-22</th>\n",
       "      <td>0</td>\n",
       "      <td>1 days</td>\n",
       "      <td>0</td>\n",
       "      <td>51.5</td>\n",
       "      <td>0.1</td>\n",
       "      <td>2012-01-23</td>\n",
       "      <td>0.010166</td>\n",
       "    </tr>\n",
       "    <tr>\n",
       "      <th>2012-01-23</th>\n",
       "      <td>0</td>\n",
       "      <td>1 days</td>\n",
       "      <td>0</td>\n",
       "      <td>51.5</td>\n",
       "      <td>0.1</td>\n",
       "      <td>2012-01-24</td>\n",
       "      <td>0.625160</td>\n",
       "    </tr>\n",
       "    <tr>\n",
       "      <th>2012-01-24</th>\n",
       "      <td>0</td>\n",
       "      <td>1 days</td>\n",
       "      <td>0</td>\n",
       "      <td>51.5</td>\n",
       "      <td>0.1</td>\n",
       "      <td>2012-01-25</td>\n",
       "      <td>6.447375</td>\n",
       "    </tr>\n",
       "    <tr>\n",
       "      <th>2012-01-25</th>\n",
       "      <td>0</td>\n",
       "      <td>1 days</td>\n",
       "      <td>0</td>\n",
       "      <td>51.5</td>\n",
       "      <td>0.1</td>\n",
       "      <td>2012-01-26</td>\n",
       "      <td>0.107072</td>\n",
       "    </tr>\n",
       "    <tr>\n",
       "      <th>2012-01-26</th>\n",
       "      <td>0</td>\n",
       "      <td>1 days</td>\n",
       "      <td>0</td>\n",
       "      <td>51.5</td>\n",
       "      <td>0.1</td>\n",
       "      <td>2012-01-27</td>\n",
       "      <td>4.028681</td>\n",
       "    </tr>\n",
       "    <tr>\n",
       "      <th>2012-01-27</th>\n",
       "      <td>0</td>\n",
       "      <td>1 days</td>\n",
       "      <td>0</td>\n",
       "      <td>51.5</td>\n",
       "      <td>0.1</td>\n",
       "      <td>2012-01-28</td>\n",
       "      <td>0.852937</td>\n",
       "    </tr>\n",
       "    <tr>\n",
       "      <th>2012-01-28</th>\n",
       "      <td>0</td>\n",
       "      <td>1 days</td>\n",
       "      <td>0</td>\n",
       "      <td>51.5</td>\n",
       "      <td>0.1</td>\n",
       "      <td>2012-01-29</td>\n",
       "      <td>0.040832</td>\n",
       "    </tr>\n",
       "    <tr>\n",
       "      <th>2012-01-29</th>\n",
       "      <td>0</td>\n",
       "      <td>1 days</td>\n",
       "      <td>0</td>\n",
       "      <td>51.5</td>\n",
       "      <td>0.1</td>\n",
       "      <td>2012-01-30</td>\n",
       "      <td>0.156718</td>\n",
       "    </tr>\n",
       "    <tr>\n",
       "      <th>...</th>\n",
       "      <td>...</td>\n",
       "      <td>...</td>\n",
       "      <td>...</td>\n",
       "      <td>...</td>\n",
       "      <td>...</td>\n",
       "      <td>...</td>\n",
       "      <td>...</td>\n",
       "    </tr>\n",
       "    <tr>\n",
       "      <th>2012-12-02</th>\n",
       "      <td>0</td>\n",
       "      <td>1 days</td>\n",
       "      <td>0</td>\n",
       "      <td>51.5</td>\n",
       "      <td>0.1</td>\n",
       "      <td>2012-12-03</td>\n",
       "      <td>0.301645</td>\n",
       "    </tr>\n",
       "    <tr>\n",
       "      <th>2012-12-03</th>\n",
       "      <td>0</td>\n",
       "      <td>1 days</td>\n",
       "      <td>0</td>\n",
       "      <td>51.5</td>\n",
       "      <td>0.1</td>\n",
       "      <td>2012-12-04</td>\n",
       "      <td>6.980815</td>\n",
       "    </tr>\n",
       "    <tr>\n",
       "      <th>2012-12-04</th>\n",
       "      <td>0</td>\n",
       "      <td>1 days</td>\n",
       "      <td>0</td>\n",
       "      <td>51.5</td>\n",
       "      <td>0.1</td>\n",
       "      <td>2012-12-05</td>\n",
       "      <td>0.001389</td>\n",
       "    </tr>\n",
       "    <tr>\n",
       "      <th>2012-12-05</th>\n",
       "      <td>0</td>\n",
       "      <td>1 days</td>\n",
       "      <td>0</td>\n",
       "      <td>51.5</td>\n",
       "      <td>0.1</td>\n",
       "      <td>2012-12-06</td>\n",
       "      <td>1.373696</td>\n",
       "    </tr>\n",
       "    <tr>\n",
       "      <th>2012-12-06</th>\n",
       "      <td>0</td>\n",
       "      <td>1 days</td>\n",
       "      <td>0</td>\n",
       "      <td>51.5</td>\n",
       "      <td>0.1</td>\n",
       "      <td>2012-12-07</td>\n",
       "      <td>3.591598</td>\n",
       "    </tr>\n",
       "    <tr>\n",
       "      <th>2012-12-07</th>\n",
       "      <td>0</td>\n",
       "      <td>1 days</td>\n",
       "      <td>0</td>\n",
       "      <td>51.5</td>\n",
       "      <td>0.1</td>\n",
       "      <td>2012-12-08</td>\n",
       "      <td>4.433867</td>\n",
       "    </tr>\n",
       "    <tr>\n",
       "      <th>2012-12-08</th>\n",
       "      <td>0</td>\n",
       "      <td>1 days</td>\n",
       "      <td>0</td>\n",
       "      <td>51.5</td>\n",
       "      <td>0.1</td>\n",
       "      <td>2012-12-09</td>\n",
       "      <td>0.015369</td>\n",
       "    </tr>\n",
       "    <tr>\n",
       "      <th>2012-12-09</th>\n",
       "      <td>0</td>\n",
       "      <td>1 days</td>\n",
       "      <td>0</td>\n",
       "      <td>51.5</td>\n",
       "      <td>0.1</td>\n",
       "      <td>2012-12-10</td>\n",
       "      <td>0.047892</td>\n",
       "    </tr>\n",
       "    <tr>\n",
       "      <th>2012-12-10</th>\n",
       "      <td>0</td>\n",
       "      <td>1 days</td>\n",
       "      <td>0</td>\n",
       "      <td>51.5</td>\n",
       "      <td>0.1</td>\n",
       "      <td>2012-12-11</td>\n",
       "      <td>0.030822</td>\n",
       "    </tr>\n",
       "    <tr>\n",
       "      <th>2012-12-11</th>\n",
       "      <td>0</td>\n",
       "      <td>1 days</td>\n",
       "      <td>0</td>\n",
       "      <td>51.5</td>\n",
       "      <td>0.1</td>\n",
       "      <td>2012-12-12</td>\n",
       "      <td>0.006273</td>\n",
       "    </tr>\n",
       "    <tr>\n",
       "      <th>2012-12-12</th>\n",
       "      <td>0</td>\n",
       "      <td>1 days</td>\n",
       "      <td>0</td>\n",
       "      <td>51.5</td>\n",
       "      <td>0.1</td>\n",
       "      <td>2012-12-13</td>\n",
       "      <td>0.039089</td>\n",
       "    </tr>\n",
       "    <tr>\n",
       "      <th>2012-12-13</th>\n",
       "      <td>0</td>\n",
       "      <td>1 days</td>\n",
       "      <td>0</td>\n",
       "      <td>51.5</td>\n",
       "      <td>0.1</td>\n",
       "      <td>2012-12-14</td>\n",
       "      <td>0.022724</td>\n",
       "    </tr>\n",
       "    <tr>\n",
       "      <th>2012-12-14</th>\n",
       "      <td>0</td>\n",
       "      <td>1 days</td>\n",
       "      <td>0</td>\n",
       "      <td>51.5</td>\n",
       "      <td>0.1</td>\n",
       "      <td>2012-12-15</td>\n",
       "      <td>14.580462</td>\n",
       "    </tr>\n",
       "    <tr>\n",
       "      <th>2012-12-15</th>\n",
       "      <td>0</td>\n",
       "      <td>1 days</td>\n",
       "      <td>0</td>\n",
       "      <td>51.5</td>\n",
       "      <td>0.1</td>\n",
       "      <td>2012-12-16</td>\n",
       "      <td>0.054044</td>\n",
       "    </tr>\n",
       "    <tr>\n",
       "      <th>2012-12-16</th>\n",
       "      <td>0</td>\n",
       "      <td>1 days</td>\n",
       "      <td>0</td>\n",
       "      <td>51.5</td>\n",
       "      <td>0.1</td>\n",
       "      <td>2012-12-17</td>\n",
       "      <td>0.081661</td>\n",
       "    </tr>\n",
       "    <tr>\n",
       "      <th>2012-12-17</th>\n",
       "      <td>0</td>\n",
       "      <td>1 days</td>\n",
       "      <td>0</td>\n",
       "      <td>51.5</td>\n",
       "      <td>0.1</td>\n",
       "      <td>2012-12-18</td>\n",
       "      <td>0.222757</td>\n",
       "    </tr>\n",
       "    <tr>\n",
       "      <th>2012-12-18</th>\n",
       "      <td>0</td>\n",
       "      <td>1 days</td>\n",
       "      <td>0</td>\n",
       "      <td>51.5</td>\n",
       "      <td>0.1</td>\n",
       "      <td>2012-12-19</td>\n",
       "      <td>0.146508</td>\n",
       "    </tr>\n",
       "    <tr>\n",
       "      <th>2012-12-19</th>\n",
       "      <td>0</td>\n",
       "      <td>1 days</td>\n",
       "      <td>0</td>\n",
       "      <td>51.5</td>\n",
       "      <td>0.1</td>\n",
       "      <td>2012-12-20</td>\n",
       "      <td>3.720200</td>\n",
       "    </tr>\n",
       "    <tr>\n",
       "      <th>2012-12-20</th>\n",
       "      <td>0</td>\n",
       "      <td>1 days</td>\n",
       "      <td>0</td>\n",
       "      <td>51.5</td>\n",
       "      <td>0.1</td>\n",
       "      <td>2012-12-21</td>\n",
       "      <td>12.104196</td>\n",
       "    </tr>\n",
       "    <tr>\n",
       "      <th>2012-12-21</th>\n",
       "      <td>0</td>\n",
       "      <td>1 days</td>\n",
       "      <td>0</td>\n",
       "      <td>51.5</td>\n",
       "      <td>0.1</td>\n",
       "      <td>2012-12-22</td>\n",
       "      <td>0.280097</td>\n",
       "    </tr>\n",
       "    <tr>\n",
       "      <th>2012-12-22</th>\n",
       "      <td>0</td>\n",
       "      <td>1 days</td>\n",
       "      <td>0</td>\n",
       "      <td>51.5</td>\n",
       "      <td>0.1</td>\n",
       "      <td>2012-12-23</td>\n",
       "      <td>15.010017</td>\n",
       "    </tr>\n",
       "    <tr>\n",
       "      <th>2012-12-23</th>\n",
       "      <td>0</td>\n",
       "      <td>1 days</td>\n",
       "      <td>0</td>\n",
       "      <td>51.5</td>\n",
       "      <td>0.1</td>\n",
       "      <td>2012-12-24</td>\n",
       "      <td>1.976717</td>\n",
       "    </tr>\n",
       "    <tr>\n",
       "      <th>2012-12-24</th>\n",
       "      <td>0</td>\n",
       "      <td>1 days</td>\n",
       "      <td>0</td>\n",
       "      <td>51.5</td>\n",
       "      <td>0.1</td>\n",
       "      <td>2012-12-25</td>\n",
       "      <td>7.354546</td>\n",
       "    </tr>\n",
       "    <tr>\n",
       "      <th>2012-12-25</th>\n",
       "      <td>0</td>\n",
       "      <td>1 days</td>\n",
       "      <td>0</td>\n",
       "      <td>51.5</td>\n",
       "      <td>0.1</td>\n",
       "      <td>2012-12-26</td>\n",
       "      <td>2.727097</td>\n",
       "    </tr>\n",
       "    <tr>\n",
       "      <th>2012-12-26</th>\n",
       "      <td>0</td>\n",
       "      <td>1 days</td>\n",
       "      <td>0</td>\n",
       "      <td>51.5</td>\n",
       "      <td>0.1</td>\n",
       "      <td>2012-12-27</td>\n",
       "      <td>1.758471</td>\n",
       "    </tr>\n",
       "    <tr>\n",
       "      <th>2012-12-27</th>\n",
       "      <td>0</td>\n",
       "      <td>1 days</td>\n",
       "      <td>0</td>\n",
       "      <td>51.5</td>\n",
       "      <td>0.1</td>\n",
       "      <td>2012-12-28</td>\n",
       "      <td>3.803122</td>\n",
       "    </tr>\n",
       "    <tr>\n",
       "      <th>2012-12-28</th>\n",
       "      <td>0</td>\n",
       "      <td>1 days</td>\n",
       "      <td>0</td>\n",
       "      <td>51.5</td>\n",
       "      <td>0.1</td>\n",
       "      <td>2012-12-29</td>\n",
       "      <td>3.856659</td>\n",
       "    </tr>\n",
       "    <tr>\n",
       "      <th>2012-12-29</th>\n",
       "      <td>0</td>\n",
       "      <td>1 days</td>\n",
       "      <td>0</td>\n",
       "      <td>51.5</td>\n",
       "      <td>0.1</td>\n",
       "      <td>2012-12-30</td>\n",
       "      <td>1.401395</td>\n",
       "    </tr>\n",
       "    <tr>\n",
       "      <th>2012-12-30</th>\n",
       "      <td>0</td>\n",
       "      <td>1 days</td>\n",
       "      <td>0</td>\n",
       "      <td>51.5</td>\n",
       "      <td>0.1</td>\n",
       "      <td>2012-12-31</td>\n",
       "      <td>0.034350</td>\n",
       "    </tr>\n",
       "    <tr>\n",
       "      <th>2012-12-31</th>\n",
       "      <td>0</td>\n",
       "      <td>1 days</td>\n",
       "      <td>0</td>\n",
       "      <td>51.5</td>\n",
       "      <td>0.1</td>\n",
       "      <td>2013-01-01</td>\n",
       "      <td>NaN</td>\n",
       "    </tr>\n",
       "  </tbody>\n",
       "</table>\n",
       "<p>367 rows × 7 columns</p>\n",
       "</div>"
      ],
      "text/plain": [
       "            number   step  surface  latitude  longitude valid_time         tp\n",
       "time                                                                         \n",
       "2011-12-31       0 1 days        0      51.5        0.1 2012-01-01   0.714743\n",
       "2012-01-01       0 1 days        0      51.5        0.1 2012-01-02  13.702142\n",
       "2012-01-02       0 1 days        0      51.5        0.1 2012-01-03   0.001925\n",
       "2012-01-03       0 1 days        0      51.5        0.1 2012-01-04   8.189413\n",
       "2012-01-04       0 1 days        0      51.5        0.1 2012-01-05   2.243790\n",
       "2012-01-05       0 1 days        0      51.5        0.1 2012-01-06   1.121646\n",
       "2012-01-06       0 1 days        0      51.5        0.1 2012-01-07   0.015819\n",
       "2012-01-07       0 1 days        0      51.5        0.1 2012-01-08   0.817654\n",
       "2012-01-08       0 1 days        0      51.5        0.1 2012-01-09   0.043467\n",
       "2012-01-09       0 1 days        0      51.5        0.1 2012-01-10   0.111073\n",
       "2012-01-10       0 1 days        0      51.5        0.1 2012-01-11   0.130981\n",
       "2012-01-11       0 1 days        0      51.5        0.1 2012-01-12   0.008428\n",
       "2012-01-12       0 1 days        0      51.5        0.1 2012-01-13   0.091118\n",
       "2012-01-13       0 1 days        0      51.5        0.1 2012-01-14   0.000441\n",
       "2012-01-14       0 1 days        0      51.5        0.1 2012-01-15   0.004172\n",
       "2012-01-15       0 1 days        0      51.5        0.1 2012-01-16   0.003968\n",
       "2012-01-16       0 1 days        0      51.5        0.1 2012-01-17   0.000877\n",
       "2012-01-17       0 1 days        0      51.5        0.1 2012-01-18   0.001118\n",
       "2012-01-18       0 1 days        0      51.5        0.1 2012-01-19   0.929454\n",
       "2012-01-19       0 1 days        0      51.5        0.1 2012-01-20   3.420209\n",
       "2012-01-20       0 1 days        0      51.5        0.1 2012-01-21   1.102138\n",
       "2012-01-21       0 1 days        0      51.5        0.1 2012-01-22   0.054806\n",
       "2012-01-22       0 1 days        0      51.5        0.1 2012-01-23   0.010166\n",
       "2012-01-23       0 1 days        0      51.5        0.1 2012-01-24   0.625160\n",
       "2012-01-24       0 1 days        0      51.5        0.1 2012-01-25   6.447375\n",
       "2012-01-25       0 1 days        0      51.5        0.1 2012-01-26   0.107072\n",
       "2012-01-26       0 1 days        0      51.5        0.1 2012-01-27   4.028681\n",
       "2012-01-27       0 1 days        0      51.5        0.1 2012-01-28   0.852937\n",
       "2012-01-28       0 1 days        0      51.5        0.1 2012-01-29   0.040832\n",
       "2012-01-29       0 1 days        0      51.5        0.1 2012-01-30   0.156718\n",
       "...            ...    ...      ...       ...        ...        ...        ...\n",
       "2012-12-02       0 1 days        0      51.5        0.1 2012-12-03   0.301645\n",
       "2012-12-03       0 1 days        0      51.5        0.1 2012-12-04   6.980815\n",
       "2012-12-04       0 1 days        0      51.5        0.1 2012-12-05   0.001389\n",
       "2012-12-05       0 1 days        0      51.5        0.1 2012-12-06   1.373696\n",
       "2012-12-06       0 1 days        0      51.5        0.1 2012-12-07   3.591598\n",
       "2012-12-07       0 1 days        0      51.5        0.1 2012-12-08   4.433867\n",
       "2012-12-08       0 1 days        0      51.5        0.1 2012-12-09   0.015369\n",
       "2012-12-09       0 1 days        0      51.5        0.1 2012-12-10   0.047892\n",
       "2012-12-10       0 1 days        0      51.5        0.1 2012-12-11   0.030822\n",
       "2012-12-11       0 1 days        0      51.5        0.1 2012-12-12   0.006273\n",
       "2012-12-12       0 1 days        0      51.5        0.1 2012-12-13   0.039089\n",
       "2012-12-13       0 1 days        0      51.5        0.1 2012-12-14   0.022724\n",
       "2012-12-14       0 1 days        0      51.5        0.1 2012-12-15  14.580462\n",
       "2012-12-15       0 1 days        0      51.5        0.1 2012-12-16   0.054044\n",
       "2012-12-16       0 1 days        0      51.5        0.1 2012-12-17   0.081661\n",
       "2012-12-17       0 1 days        0      51.5        0.1 2012-12-18   0.222757\n",
       "2012-12-18       0 1 days        0      51.5        0.1 2012-12-19   0.146508\n",
       "2012-12-19       0 1 days        0      51.5        0.1 2012-12-20   3.720200\n",
       "2012-12-20       0 1 days        0      51.5        0.1 2012-12-21  12.104196\n",
       "2012-12-21       0 1 days        0      51.5        0.1 2012-12-22   0.280097\n",
       "2012-12-22       0 1 days        0      51.5        0.1 2012-12-23  15.010017\n",
       "2012-12-23       0 1 days        0      51.5        0.1 2012-12-24   1.976717\n",
       "2012-12-24       0 1 days        0      51.5        0.1 2012-12-25   7.354546\n",
       "2012-12-25       0 1 days        0      51.5        0.1 2012-12-26   2.727097\n",
       "2012-12-26       0 1 days        0      51.5        0.1 2012-12-27   1.758471\n",
       "2012-12-27       0 1 days        0      51.5        0.1 2012-12-28   3.803122\n",
       "2012-12-28       0 1 days        0      51.5        0.1 2012-12-29   3.856659\n",
       "2012-12-29       0 1 days        0      51.5        0.1 2012-12-30   1.401395\n",
       "2012-12-30       0 1 days        0      51.5        0.1 2012-12-31   0.034350\n",
       "2012-12-31       0 1 days        0      51.5        0.1 2013-01-01        NaN\n",
       "\n",
       "[367 rows x 7 columns]"
      ]
     },
     "execution_count": 27,
     "metadata": {},
     "output_type": "execute_result"
    }
   ],
   "source": [
    "daily_tp_london = tp_london.sel(step=timedelta(1))\n",
    "daily_tp_london.to_dataframe()"
   ]
  },
  {
   "cell_type": "markdown",
   "metadata": {
    "slideshow": {
     "slide_type": "slide"
    }
   },
   "source": [
    "## More resampling examples\n",
    "Some of the frequencies we can use with resample() method are:  \n",
    "\n",
    "   * ‘AS’: year start\n",
    "   * ‘QS-DEC’: quarterly, starting on December 1\n",
    "   * ‘MS’: month start\n",
    "   * ‘D’: day\n",
    "   * ‘H’: hour\n",
    "   * ‘Min’: minute\n"
   ]
  },
  {
   "cell_type": "markdown",
   "metadata": {
    "slideshow": {
     "slide_type": "slide"
    }
   },
   "source": [
    "Try out different time frequencies. You can use 'D' for daily, 'M' for monthly, 'Q' for quarterly, but also '6H' to compute mean over 6 hour periods."
   ]
  },
  {
   "cell_type": "code",
   "execution_count": 36,
   "metadata": {
    "slideshow": {
     "slide_type": "fragment"
    }
   },
   "outputs": [
    {
     "data": {
      "text/plain": [
       "[<matplotlib.lines.Line2D at 0x7f010194df98>]"
      ]
     },
     "execution_count": 36,
     "metadata": {},
     "output_type": "execute_result"
    },
    {
     "data": {
      "image/png": "[encoded data removed]",
      "text/plain": [
       "<Figure size 432x288 with 1 Axes>"
      ]
     },
     "metadata": {
      "needs_background": "light"
     },
     "output_type": "display_data"
    }
   ],
   "source": [
    "weekly_t2m = ds2.t2m.resample(time='W').mean()-273.15\n",
    "weekly_t2m.plot()"
   ]
  },
  {
   "cell_type": "markdown",
   "metadata": {
    "slideshow": {
     "slide_type": "slide"
    }
   },
   "source": [
    "Now we can introduce a new method."
   ]
  },
  {
   "cell_type": "markdown",
   "metadata": {
    "slideshow": {
     "slide_type": "slide"
    }
   },
   "source": [
    "## Rolling\n",
    "\n",
    "Let's say that every day we need a sum of precipitation for the last N days. Xarray has a method for calculating this: **rolling()**.   \n",
    "\n",
    "time = 7 means we are doing the sum of previous 7 days.\n",
    "\n",
    "The data array we got using this method doesn't have a name. It also has a NaN value at the end. This is because we tried to get the 24th step of 31st December which is not there.\n",
    "To make our data a bit more clean we will drop NaN values and rename our DataArray."
   ]
  },
  {
   "cell_type": "code",
   "execution_count": 29,
   "metadata": {
    "slideshow": {
     "slide_type": "subslide"
    }
   },
   "outputs": [
    {
     "data": {
      "text/plain": [
       "<xarray.DataArray 'tp' (time: 360)>\n",
       "array([25.98948 , 26.092388, 12.433714, ..., 36.48663 , 22.878006, 20.935637],\n",
       "      dtype=float32)\n",
       "Coordinates:\n",
       "    number      int64 0\n",
       "  * time        (time) datetime64[ns] 2012-01-06 2012-01-07 ... 2012-12-30\n",
       "    step        timedelta64[ns] 1 days\n",
       "    surface     int64 0\n",
       "    latitude    float64 51.5\n",
       "    longitude   float64 0.1\n",
       "    valid_time  (time) datetime64[ns] 2012-01-07 2012-01-08 ... 2012-12-31"
      ]
     },
     "execution_count": 29,
     "metadata": {},
     "output_type": "execute_result"
    }
   ],
   "source": [
    "tp_day_week = daily_tp_london.rolling(time=7).sum()\n",
    "tpdw = tp_day_week.rename('tp').dropna('time')\n",
    "tpdw"
   ]
  },
  {
   "cell_type": "markdown",
   "metadata": {
    "slideshow": {
     "slide_type": "slide"
    }
   },
   "source": [
    "#### Why did we even care if our DataArray has a name? \n",
    "\n",
    "Because unnamed DataArray can not be converted to pandas dataframe."
   ]
  },
  {
   "cell_type": "code",
   "execution_count": 30,
   "metadata": {
    "slideshow": {
     "slide_type": "fragment"
    }
   },
   "outputs": [
    {
     "data": {
      "text/html": [
       "<div>\n",
       "<style scoped>\n",
       "    .dataframe tbody tr th:only-of-type {\n",
       "        vertical-align: middle;\n",
       "    }\n",
       "\n",
       "    .dataframe tbody tr th {\n",
       "        vertical-align: top;\n",
       "    }\n",
       "\n",
       "    .dataframe thead th {\n",
       "        text-align: right;\n",
       "    }\n",
       "</style>\n",
       "<table border=\"1\" class=\"dataframe\">\n",
       "  <thead>\n",
       "    <tr style=\"text-align: right;\">\n",
       "      <th></th>\n",
       "      <th>number</th>\n",
       "      <th>step</th>\n",
       "      <th>surface</th>\n",
       "      <th>latitude</th>\n",
       "      <th>longitude</th>\n",
       "      <th>valid_time</th>\n",
       "      <th>tp</th>\n",
       "    </tr>\n",
       "    <tr>\n",
       "      <th>time</th>\n",
       "      <th></th>\n",
       "      <th></th>\n",
       "      <th></th>\n",
       "      <th></th>\n",
       "      <th></th>\n",
       "      <th></th>\n",
       "      <th></th>\n",
       "    </tr>\n",
       "  </thead>\n",
       "  <tbody>\n",
       "    <tr>\n",
       "      <th>2012-01-06</th>\n",
       "      <td>0</td>\n",
       "      <td>1 days</td>\n",
       "      <td>0</td>\n",
       "      <td>51.5</td>\n",
       "      <td>0.1</td>\n",
       "      <td>2012-01-07</td>\n",
       "      <td>25.989479</td>\n",
       "    </tr>\n",
       "    <tr>\n",
       "      <th>2012-01-07</th>\n",
       "      <td>0</td>\n",
       "      <td>1 days</td>\n",
       "      <td>0</td>\n",
       "      <td>51.5</td>\n",
       "      <td>0.1</td>\n",
       "      <td>2012-01-08</td>\n",
       "      <td>26.092388</td>\n",
       "    </tr>\n",
       "    <tr>\n",
       "      <th>2012-01-08</th>\n",
       "      <td>0</td>\n",
       "      <td>1 days</td>\n",
       "      <td>0</td>\n",
       "      <td>51.5</td>\n",
       "      <td>0.1</td>\n",
       "      <td>2012-01-09</td>\n",
       "      <td>12.433714</td>\n",
       "    </tr>\n",
       "    <tr>\n",
       "      <th>2012-01-09</th>\n",
       "      <td>0</td>\n",
       "      <td>1 days</td>\n",
       "      <td>0</td>\n",
       "      <td>51.5</td>\n",
       "      <td>0.1</td>\n",
       "      <td>2012-01-10</td>\n",
       "      <td>12.542861</td>\n",
       "    </tr>\n",
       "    <tr>\n",
       "      <th>2012-01-10</th>\n",
       "      <td>0</td>\n",
       "      <td>1 days</td>\n",
       "      <td>0</td>\n",
       "      <td>51.5</td>\n",
       "      <td>0.1</td>\n",
       "      <td>2012-01-11</td>\n",
       "      <td>4.484430</td>\n",
       "    </tr>\n",
       "    <tr>\n",
       "      <th>2012-01-11</th>\n",
       "      <td>0</td>\n",
       "      <td>1 days</td>\n",
       "      <td>0</td>\n",
       "      <td>51.5</td>\n",
       "      <td>0.1</td>\n",
       "      <td>2012-01-12</td>\n",
       "      <td>2.249068</td>\n",
       "    </tr>\n",
       "    <tr>\n",
       "      <th>2012-01-12</th>\n",
       "      <td>0</td>\n",
       "      <td>1 days</td>\n",
       "      <td>0</td>\n",
       "      <td>51.5</td>\n",
       "      <td>0.1</td>\n",
       "      <td>2012-01-13</td>\n",
       "      <td>1.218539</td>\n",
       "    </tr>\n",
       "    <tr>\n",
       "      <th>2012-01-13</th>\n",
       "      <td>0</td>\n",
       "      <td>1 days</td>\n",
       "      <td>0</td>\n",
       "      <td>51.5</td>\n",
       "      <td>0.1</td>\n",
       "      <td>2012-01-14</td>\n",
       "      <td>1.203161</td>\n",
       "    </tr>\n",
       "    <tr>\n",
       "      <th>2012-01-14</th>\n",
       "      <td>0</td>\n",
       "      <td>1 days</td>\n",
       "      <td>0</td>\n",
       "      <td>51.5</td>\n",
       "      <td>0.1</td>\n",
       "      <td>2012-01-15</td>\n",
       "      <td>0.389680</td>\n",
       "    </tr>\n",
       "    <tr>\n",
       "      <th>2012-01-15</th>\n",
       "      <td>0</td>\n",
       "      <td>1 days</td>\n",
       "      <td>0</td>\n",
       "      <td>51.5</td>\n",
       "      <td>0.1</td>\n",
       "      <td>2012-01-16</td>\n",
       "      <td>0.350182</td>\n",
       "    </tr>\n",
       "    <tr>\n",
       "      <th>2012-01-16</th>\n",
       "      <td>0</td>\n",
       "      <td>1 days</td>\n",
       "      <td>0</td>\n",
       "      <td>51.5</td>\n",
       "      <td>0.1</td>\n",
       "      <td>2012-01-17</td>\n",
       "      <td>0.239986</td>\n",
       "    </tr>\n",
       "    <tr>\n",
       "      <th>2012-01-17</th>\n",
       "      <td>0</td>\n",
       "      <td>1 days</td>\n",
       "      <td>0</td>\n",
       "      <td>51.5</td>\n",
       "      <td>0.1</td>\n",
       "      <td>2012-01-18</td>\n",
       "      <td>0.110122</td>\n",
       "    </tr>\n",
       "    <tr>\n",
       "      <th>2012-01-18</th>\n",
       "      <td>0</td>\n",
       "      <td>1 days</td>\n",
       "      <td>0</td>\n",
       "      <td>51.5</td>\n",
       "      <td>0.1</td>\n",
       "      <td>2012-01-19</td>\n",
       "      <td>1.031148</td>\n",
       "    </tr>\n",
       "    <tr>\n",
       "      <th>2012-01-19</th>\n",
       "      <td>0</td>\n",
       "      <td>1 days</td>\n",
       "      <td>0</td>\n",
       "      <td>51.5</td>\n",
       "      <td>0.1</td>\n",
       "      <td>2012-01-20</td>\n",
       "      <td>4.360239</td>\n",
       "    </tr>\n",
       "    <tr>\n",
       "      <th>2012-01-20</th>\n",
       "      <td>0</td>\n",
       "      <td>1 days</td>\n",
       "      <td>0</td>\n",
       "      <td>51.5</td>\n",
       "      <td>0.1</td>\n",
       "      <td>2012-01-21</td>\n",
       "      <td>5.461936</td>\n",
       "    </tr>\n",
       "    <tr>\n",
       "      <th>2012-01-21</th>\n",
       "      <td>0</td>\n",
       "      <td>1 days</td>\n",
       "      <td>0</td>\n",
       "      <td>51.5</td>\n",
       "      <td>0.1</td>\n",
       "      <td>2012-01-22</td>\n",
       "      <td>5.512570</td>\n",
       "    </tr>\n",
       "    <tr>\n",
       "      <th>2012-01-22</th>\n",
       "      <td>0</td>\n",
       "      <td>1 days</td>\n",
       "      <td>0</td>\n",
       "      <td>51.5</td>\n",
       "      <td>0.1</td>\n",
       "      <td>2012-01-23</td>\n",
       "      <td>5.518767</td>\n",
       "    </tr>\n",
       "    <tr>\n",
       "      <th>2012-01-23</th>\n",
       "      <td>0</td>\n",
       "      <td>1 days</td>\n",
       "      <td>0</td>\n",
       "      <td>51.5</td>\n",
       "      <td>0.1</td>\n",
       "      <td>2012-01-24</td>\n",
       "      <td>6.143050</td>\n",
       "    </tr>\n",
       "    <tr>\n",
       "      <th>2012-01-24</th>\n",
       "      <td>0</td>\n",
       "      <td>1 days</td>\n",
       "      <td>0</td>\n",
       "      <td>51.5</td>\n",
       "      <td>0.1</td>\n",
       "      <td>2012-01-25</td>\n",
       "      <td>12.589308</td>\n",
       "    </tr>\n",
       "    <tr>\n",
       "      <th>2012-01-25</th>\n",
       "      <td>0</td>\n",
       "      <td>1 days</td>\n",
       "      <td>0</td>\n",
       "      <td>51.5</td>\n",
       "      <td>0.1</td>\n",
       "      <td>2012-01-26</td>\n",
       "      <td>11.766925</td>\n",
       "    </tr>\n",
       "  </tbody>\n",
       "</table>\n",
       "</div>"
      ],
      "text/plain": [
       "            number   step  surface  latitude  longitude valid_time         tp\n",
       "time                                                                         \n",
       "2012-01-06       0 1 days        0      51.5        0.1 2012-01-07  25.989479\n",
       "2012-01-07       0 1 days        0      51.5        0.1 2012-01-08  26.092388\n",
       "2012-01-08       0 1 days        0      51.5        0.1 2012-01-09  12.433714\n",
       "2012-01-09       0 1 days        0      51.5        0.1 2012-01-10  12.542861\n",
       "2012-01-10       0 1 days        0      51.5        0.1 2012-01-11   4.484430\n",
       "2012-01-11       0 1 days        0      51.5        0.1 2012-01-12   2.249068\n",
       "2012-01-12       0 1 days        0      51.5        0.1 2012-01-13   1.218539\n",
       "2012-01-13       0 1 days        0      51.5        0.1 2012-01-14   1.203161\n",
       "2012-01-14       0 1 days        0      51.5        0.1 2012-01-15   0.389680\n",
       "2012-01-15       0 1 days        0      51.5        0.1 2012-01-16   0.350182\n",
       "2012-01-16       0 1 days        0      51.5        0.1 2012-01-17   0.239986\n",
       "2012-01-17       0 1 days        0      51.5        0.1 2012-01-18   0.110122\n",
       "2012-01-18       0 1 days        0      51.5        0.1 2012-01-19   1.031148\n",
       "2012-01-19       0 1 days        0      51.5        0.1 2012-01-20   4.360239\n",
       "2012-01-20       0 1 days        0      51.5        0.1 2012-01-21   5.461936\n",
       "2012-01-21       0 1 days        0      51.5        0.1 2012-01-22   5.512570\n",
       "2012-01-22       0 1 days        0      51.5        0.1 2012-01-23   5.518767\n",
       "2012-01-23       0 1 days        0      51.5        0.1 2012-01-24   6.143050\n",
       "2012-01-24       0 1 days        0      51.5        0.1 2012-01-25  12.589308\n",
       "2012-01-25       0 1 days        0      51.5        0.1 2012-01-26  11.766925"
      ]
     },
     "execution_count": 30,
     "metadata": {},
     "output_type": "execute_result"
    }
   ],
   "source": [
    "tpdw.to_dataframe().head(20)"
   ]
  },
  {
   "cell_type": "markdown",
   "metadata": {
    "slideshow": {
     "slide_type": "slide"
    }
   },
   "source": [
    "### Ensemble data\n",
    "\n",
    "ERA5 dataset offfers 10 members ensemble data on lower spatial resolution (0.5x0.5). \n",
    "In our grib file we have this ensemble data: temperature and relative humidity on 2 pressure levels (300 and 500 hPa)"
   ]
  },
  {
   "cell_type": "code",
   "execution_count": 31,
   "metadata": {
    "slideshow": {
     "slide_type": "fragment"
    }
   },
   "outputs": [
    {
     "data": {
      "text/plain": [
       "<xarray.Dataset>\n",
       "Dimensions:        (isobaricInhPa: 2, latitude: 35, longitude: 71, number: 10, time: 24)\n",
       "Coordinates:\n",
       "  * number         (number) int64 0 1 2 3 4 5 6 7 8 9\n",
       "  * time           (time) datetime64[ns] 2019-05-05 ... 2019-05-07T21:00:00\n",
       "    step           timedelta64[ns] ...\n",
       "  * isobaricInhPa  (isobaricInhPa) int64 500 300\n",
       "  * latitude       (latitude) float64 52.0 51.5 51.0 50.5 ... 36.0 35.5 35.0\n",
       "  * longitude      (longitude) float64 -10.0 -9.5 -9.0 -8.5 ... 24.0 24.5 25.0\n",
       "    valid_time     (time) datetime64[ns] ...\n",
       "Data variables:\n",
       "    t              (number, time, isobaricInhPa, latitude, longitude) float32 ...\n",
       "    r              (number, time, isobaricInhPa, latitude, longitude) float32 ...\n",
       "Attributes:\n",
       "    GRIB_edition:            1\n",
       "    GRIB_centre:             ecmf\n",
       "    GRIB_centreDescription:  European Centre for Medium-Range Weather Forecasts\n",
       "    GRIB_subCentre:          0\n",
       "    Conventions:             CF-1.7\n",
       "    institution:             European Centre for Medium-Range Weather Forecasts\n",
       "    history:                 2019-09-06T13:29:22 GRIB to CDM+CF via cfgrib-0...."
      ]
     },
     "execution_count": 31,
     "metadata": {},
     "output_type": "execute_result"
    }
   ],
   "source": [
    "ds_en = xr.open_dataset('data/weather/ensemble_data_pl.grib',engine = 'cfgrib')\n",
    "ds_en"
   ]
  },
  {
   "cell_type": "markdown",
   "metadata": {
    "slideshow": {
     "slide_type": "slide"
    }
   },
   "source": [
    "Calculate ensemble mean and standard deviation."
   ]
  },
  {
   "cell_type": "code",
   "execution_count": 32,
   "metadata": {
    "slideshow": {
     "slide_type": "fragment"
    }
   },
   "outputs": [],
   "source": [
    "ens_mean = ds_en.mean(dim='number')\n",
    "ens_std = ds_en.std(dim='number')"
   ]
  },
  {
   "cell_type": "markdown",
   "metadata": {
    "slideshow": {
     "slide_type": "slide"
    }
   },
   "source": [
    "Calculate probability that temperature at 500 hPa will be lower than -20C.  \n",
    "\n",
    "- First we select temperature at 500 hPa and convert to C.  \n",
    "- Then we make a mask using **where()**. Wherever the values are smaller than -20, the value becomes one, and anything above -20 becomes 0.  \n",
    "- All we have to do now is sum along all ensemble members, divide by number of members and multiply by 100."
   ]
  },
  {
   "cell_type": "code",
   "execution_count": 37,
   "metadata": {
    "slideshow": {
     "slide_type": "fragment"
    }
   },
   "outputs": [
    {
     "data": {
      "text/plain": [
       "<matplotlib.collections.QuadMesh at 0x7f00ff607d68>"
      ]
     },
     "execution_count": 37,
     "metadata": {},
     "output_type": "execute_result"
    },
    {
     "data": {
      "image/png": "[encoded data removed]",
      "text/plain": [
       "<Figure size 432x288 with 2 Axes>"
      ]
     },
     "metadata": {
      "needs_background": "light"
     },
     "output_type": "display_data"
    }
   ],
   "source": [
    "t_500 = ds_en.t.sel(isobaricInhPa=500)-273.15\n",
    "mask = t_500.where(t_500<-20, 1).where(t_500>-20,0)\n",
    "probability = mask.sum(dim='number')*10\n",
    "probability.sel(time='2019-05-07T21:00:00').plot()"
   ]
  },
  {
   "cell_type": "markdown",
   "metadata": {
    "slideshow": {
     "slide_type": "skip"
    }
   },
   "source": [
    "### A few extra examples"
   ]
  },
  {
   "cell_type": "markdown",
   "metadata": {
    "slideshow": {
     "slide_type": "skip"
    }
   },
   "source": [
    "Let's say we have a few variables that are actually the same variable but at different levels. Example of this would be wind at 10m, 100m, 200m, or soil temperature. And we want to make them all one variable in dataset with an extra dimension being height (or depth)"
   ]
  },
  {
   "cell_type": "code",
   "execution_count": 38,
   "metadata": {
    "slideshow": {
     "slide_type": "skip"
    }
   },
   "outputs": [],
   "source": [
    "soil_temperature_ds = xr.open_dataset('data/weather/soil_temperature.nc')"
   ]
  },
  {
   "cell_type": "markdown",
   "metadata": {
    "slideshow": {
     "slide_type": "skip"
    }
   },
   "source": [
    "Soil temperature has 2 levels, top level and bottom, and it value is actually at the middle of this layer. (You can find documentation about this [here](https://apps.ecmwf.int/codes/grib/param-db?id=139))"
   ]
  },
  {
   "cell_type": "code",
   "execution_count": 45,
   "metadata": {
    "slideshow": {
     "slide_type": "skip"
    }
   },
   "outputs": [],
   "source": [
    "d = [7., 28., 100., 289.]\n",
    "depth = np.array([(d[0]-0.)/2, (d[1]-d[0])/2+d[0], (d[2]-d[1])/2+d[1], (d[3]-d[2])/2+d[2]])"
   ]
  },
  {
   "cell_type": "markdown",
   "metadata": {
    "slideshow": {
     "slide_type": "skip"
    }
   },
   "source": [
    "Now we can concatenate them"
   ]
  },
  {
   "cell_type": "code",
   "execution_count": 47,
   "metadata": {
    "slideshow": {
     "slide_type": "skip"
    }
   },
   "outputs": [
    {
     "data": {
      "text/plain": [
       "<xarray.DataArray (depth: 4, time: 3, latitude: 721, longitude: 1440)>\n",
       "array([[[[245.41902, ..., 245.41902],\n",
       "         ...,\n",
       "         [231.66638, ..., 231.66638]],\n",
       "\n",
       "        ...,\n",
       "\n",
       "        [[245.57965, ..., 245.57965],\n",
       "         ...,\n",
       "         [231.66792, ..., 231.66792]]],\n",
       "\n",
       "\n",
       "       ...,\n",
       "\n",
       "\n",
       "       [[[245.40355, ..., 245.40355],\n",
       "         ...,\n",
       "         [226.15372, ..., 226.15372]],\n",
       "\n",
       "        ...,\n",
       "\n",
       "        [[245.85907, ..., 245.85907],\n",
       "         ...,\n",
       "         [226.1596 , ..., 226.1596 ]]]], dtype=float32)\n",
       "Coordinates:\n",
       "  * longitude  (longitude) float32 0.0 0.25 0.5 0.75 ... 359.25 359.5 359.75\n",
       "  * latitude   (latitude) float32 90.0 89.75 89.5 89.25 ... -89.5 -89.75 -90.0\n",
       "  * time       (time) datetime64[ns] 2015-01-01T01:00:00 ... 2015-01-01T03:00:00\n",
       "  * depth      (depth) float64 3.5 17.5 64.0 194.5\n",
       "Attributes:\n",
       "    units:    K"
      ]
     },
     "execution_count": 47,
     "metadata": {},
     "output_type": "execute_result"
    }
   ],
   "source": [
    "tsl = xr.concat([soil_temperature_ds.stl1, \n",
    "                 soil_temperature_ds.stl2, \n",
    "                 soil_temperature_ds.stl3, \n",
    "                 soil_temperature_ds.stl4], \n",
    "                pd.Index(depth, name='depth'))\n",
    "tsl"
   ]
  },
  {
   "cell_type": "markdown",
   "metadata": {},
   "source": [
    "### Further reading\n",
    "\n",
    "There are many more interesting methods for processing meteorological data.   \n",
    "A few worth mentioning:\n",
    "- [diff()](http://xarray.pydata.org/en/stable/generated/xarray.Dataset.diff.html#xarray.Dataset.diff) - creates difference between data over some dimension, useful for calculating pressure tendency\n",
    "- [groupby()](http://xarray.pydata.org/en/stable/generated/xarray.Dataset.groupby.html) - groups by data on different dimensions. Similar to resample, but works on any dimension\n",
    "- [quantile()](http://xarray.pydata.org/en/stable/generated/xarray.Dataset.quantile.html) - Compute the qth quantile of the data along the specified dimension."
   ]
  }
 ],
 "metadata": {
  "celltoolbar": "Slideshow",
  "kernelspec": {
   "display_name": "Python 3",
   "language": "python",
   "name": "python3"
  },
  "language_info": {
   "codemirror_mode": {
    "name": "ipython",
    "version": 3
   },
   "file_extension": ".py",
   "mimetype": "text/x-python",
   "name": "python",
   "nbconvert_exporter": "python",
   "pygments_lexer": "ipython3",
   "version": "3.7.3"
  }
 },
 "nbformat": 4,
 "nbformat_minor": 2
}
